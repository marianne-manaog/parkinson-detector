{
 "cells": [
  {
   "cell_type": "markdown",
   "metadata": {},
   "source": [
    "# Parkinson's Disease Detector with Apache Cassandra and PySpark Machine Learning"
   ]
  },
  {
   "cell_type": "markdown",
   "metadata": {},
   "source": [
    "#### Jupyter notebook inspired by the template at https://github.com/datastaxdevs/workshop-machine-learning/blob/master/jupyter/Random%20Forest.ipynb"
   ]
  },
  {
   "cell_type": "code",
   "execution_count": 40,
   "metadata": {},
   "outputs": [],
   "source": [
    "!pip3 install matplotlib --quiet\n",
    "!pip3 install ipykernel --quiet"
   ]
  },
  {
   "cell_type": "code",
   "execution_count": 41,
   "metadata": {},
   "outputs": [],
   "source": [
    "!pip install cassandra-driver --quiet\n",
    "!pip install pyspark==3.4.1 --quiet"
   ]
  },
  {
   "cell_type": "code",
   "execution_count": 42,
   "metadata": {},
   "outputs": [
    {
     "name": "stdout",
     "output_type": "stream",
     "text": [
      "Installed kernelspec vs-l-pd-detector in /Users/mariannelynemanaog/Library/Jupyter/kernels/vs-l-pd-detector\r\n"
     ]
    }
   ],
   "source": [
    "!python3 -m ipykernel install --user --name=vs-l-pd-detector"
   ]
  },
  {
   "cell_type": "code",
   "execution_count": 43,
   "metadata": {},
   "outputs": [],
   "source": [
    "!PYDEVD_DISABLE_FILE_VALIDATION=1"
   ]
  },
  {
   "cell_type": "code",
   "execution_count": 44,
   "metadata": {},
   "outputs": [],
   "source": [
    "import os\n",
    "import random\n",
    "import re\n",
    "import warnings\n",
    "\n",
    "import cassandra\n",
    "import matplotlib.pyplot as plt\n",
    "import pandas as pd\n",
    "import pyspark\n",
    "\n",
    "from IPython.display import display, Markdown\n",
    "from random import randint, randrange\n",
    "\n",
    "from cassandra.cluster import Cluster\n",
    "from cassandra.policies import DCAwareRoundRobinPolicy\n",
    "\n",
    "from pyspark.sql import SparkSession\n",
    "\n",
    "from pyspark.ml import Pipeline\n",
    "from pyspark.ml.classification import DecisionTreeClassifier, GBTClassifier, RandomForestClassifier\n",
    "from pyspark.ml.evaluation import MulticlassClassificationEvaluator\n",
    "from pyspark.ml.feature import IndexToString, StringIndexer, VectorAssembler\n",
    "from pyspark.ml.tuning import CrossValidator, ParamGridBuilder"
   ]
  },
  {
   "cell_type": "code",
   "execution_count": 45,
   "metadata": {},
   "outputs": [],
   "source": [
    "warnings.filterwarnings('ignore')\n",
    "%matplotlib inline"
   ]
  },
  {
   "cell_type": "markdown",
   "metadata": {},
   "source": [
    "## Set up Apache Cassandra"
   ]
  },
  {
   "cell_type": "code",
   "execution_count": 46,
   "metadata": {},
   "outputs": [],
   "source": [
    "# Install the latest version of Cassandra (4.1.3) from https://www.apache.org/dyn/closer.lua/cassandra/4.1.3/apache-cassandra-4.1.3-bin.tar.gz"
   ]
  },
  {
   "cell_type": "code",
   "execution_count": 47,
   "metadata": {},
   "outputs": [],
   "source": [
    "# # Install GPG to verify the hash of the downloaded tarball\n",
    "# !arch -arm64 brew install gnupg gnupg2\n",
    "\n",
    "# # Link GPG\n",
    "# !brew link gnupg\n",
    "\n",
    "# !gpg --print-md SHA256 apache-cassandra-4.1.3-bin.tar.gz"
   ]
  },
  {
   "cell_type": "code",
   "execution_count": 48,
   "metadata": {},
   "outputs": [
    {
     "name": "stdout",
     "output_type": "stream",
     "text": [
      "da014999723f4e1e2c15775dac6aaa9ff69a48f6df6465740fcd52ca9d19ea88\r\n"
     ]
    }
   ],
   "source": [
    "# Compare the signature with the SHA256 file from the Downloads site\n",
    "!curl -L https://downloads.apache.org/cassandra/4.1.3/apache-cassandra-4.1.3-bin.tar.gz.sha256"
   ]
  },
  {
   "cell_type": "code",
   "execution_count": 49,
   "metadata": {},
   "outputs": [],
   "source": [
    "# # Unpack the tarball\n",
    "# !tar xzvf apache-cassandra-4.1.3-bin.tar.gz"
   ]
  },
  {
   "cell_type": "code",
   "execution_count": 50,
   "metadata": {},
   "outputs": [],
   "source": [
    "# os.chdir('apache-cassandra-4.1.3')"
   ]
  },
  {
   "cell_type": "code",
   "execution_count": 51,
   "metadata": {},
   "outputs": [
    {
     "name": "stdout",
     "output_type": "stream",
     "text": [
      "/Users/mariannelynemanaog/PycharmProjects/vs-ml-pd-detector/notebooks\r\n"
     ]
    }
   ],
   "source": [
    "!pwd"
   ]
  },
  {
   "cell_type": "code",
   "execution_count": 52,
   "metadata": {},
   "outputs": [
    {
     "name": "stdout",
     "output_type": "stream",
     "text": [
      "zsh:1: no such file or directory: bin/cassandra\r\n"
     ]
    }
   ],
   "source": [
    "!bin/cassandra"
   ]
  },
  {
   "cell_type": "code",
   "execution_count": 53,
   "metadata": {},
   "outputs": [
    {
     "name": "stdout",
     "output_type": "stream",
     "text": [
      "4.1.3\r\n"
     ]
    }
   ],
   "source": [
    "# Verify cassandra installation by checking its version number\n",
    "!cassandra -v"
   ]
  },
  {
   "cell_type": "code",
   "execution_count": 54,
   "metadata": {},
   "outputs": [],
   "source": [
    "# Start the cassandra server on the terminal\n",
    "# !cassandra -f"
   ]
  },
  {
   "cell_type": "markdown",
   "metadata": {},
   "source": [
    "## Creating and loading tables"
   ]
  },
  {
   "cell_type": "markdown",
   "metadata": {},
   "source": [
    "### Connect to Cassandra"
   ]
  },
  {
   "cell_type": "code",
   "execution_count": 55,
   "metadata": {},
   "outputs": [],
   "source": [
    "# Get the IP address by running 'cqlsh' on the terminal\n",
    "cluster = Cluster(['127.0.0.1'], protocol_version=5, load_balancing_policy=DCAwareRoundRobinPolicy())\n",
    "session = cluster.connect()"
   ]
  },
  {
   "cell_type": "markdown",
   "metadata": {},
   "source": [
    "### Create keyspace "
   ]
  },
  {
   "cell_type": "code",
   "execution_count": 56,
   "metadata": {},
   "outputs": [
    {
     "data": {
      "text/plain": [
       "<cassandra.cluster.ResultSet at 0x7fc000c5db50>"
      ]
     },
     "execution_count": 56,
     "metadata": {},
     "output_type": "execute_result"
    }
   ],
   "source": [
    "session.execute(\"\"\"\n",
    "    CREATE KEYSPACE IF NOT EXISTS parkinson \n",
    "    WITH REPLICATION = \n",
    "    { 'class' : 'SimpleStrategy', 'replication_factor' : 1 }\"\"\"\n",
    ")"
   ]
  },
  {
   "cell_type": "markdown",
   "metadata": {},
   "source": [
    "### Set keyspace "
   ]
  },
  {
   "cell_type": "code",
   "execution_count": 57,
   "metadata": {},
   "outputs": [],
   "source": [
    "session.set_keyspace('parkinson')"
   ]
  },
  {
   "cell_type": "markdown",
   "metadata": {},
   "source": [
    "### Create two tables called `speech_data_train` and `speech_data_test` containing the train and test sets respectively. The PRIMARY will be a unique key (subject_id) for each row."
   ]
  },
  {
   "cell_type": "code",
   "execution_count": 58,
   "metadata": {},
   "outputs": [
    {
     "data": {
      "text/plain": [
       "<cassandra.cluster.ResultSet at 0x7fc000caa550>"
      ]
     },
     "execution_count": 58,
     "metadata": {},
     "output_type": "execute_result"
    }
   ],
   "source": [
    "query = \"CREATE TABLE IF NOT EXISTS speech_data_train \\\n",
    "                                   (subject_id text, jitter_percent float, jitter_abs float, rap float, ppq float, \\\n",
    "                                   apq_3 float, apq_5 float, apq_11 float, status int, \\\n",
    "                                   PRIMARY KEY (subject_id))\"\n",
    "session.execute(query)"
   ]
  },
  {
   "cell_type": "code",
   "execution_count": 59,
   "metadata": {},
   "outputs": [
    {
     "data": {
      "text/plain": [
       "<cassandra.cluster.ResultSet at 0x7fbff34118e0>"
      ]
     },
     "execution_count": 59,
     "metadata": {},
     "output_type": "execute_result"
    }
   ],
   "source": [
    "query = \"CREATE TABLE IF NOT EXISTS speech_data_test \\\n",
    "                                   (subject_id text, jitter_percent float, jitter_abs float, rap float, ppq float, \\\n",
    "                                   apq_3 float, apq_5 float, apq_11 float, status int, \\\n",
    "                                   PRIMARY KEY (subject_id))\"\n",
    "session.execute(query)"
   ]
  },
  {
   "cell_type": "markdown",
   "metadata": {},
   "source": [
    "### Load the train and test datasets from csv files\n",
    "\n",
    "#### Insert train and test speech data into the tables `speech_data_train` and `speech_data_test` respectively"
   ]
  },
  {
   "cell_type": "code",
   "execution_count": 60,
   "metadata": {},
   "outputs": [],
   "source": [
    "fileName = '/Users/mariannelynemanaog/PycharmProjects/vs-ml-pd-detector/src/data/train_and_test_sets/train_data.csv'\n",
    "input_file = open(fileName, 'r')\n",
    "i = 1\n",
    "for line_number, line in enumerate(input_file):\n",
    "    if line_number == 0:\n",
    "        continue  # Skip the first line, as it has the header with the column names\n",
    "    subject_id = i\n",
    "    row = line.replace('\\n', \"\").split(',')\n",
    "    \n",
    "    query = \"INSERT INTO speech_data_train (subject_id, jitter_percent, jitter_abs, rap, ppq, \\\n",
    "                               apq_3, apq_5, apq_11, status)\"\n",
    "    query = query + \" VALUES (%s, %s, %s, %s, %s, %s, %s, %s, %s)\"\n",
    "    session.execute(query, (str(row[0]), float(row[1]), float(row[2]), float(row[3]), float(row[4]), float(row[5]), float(row[6]), float(row[7]), int(row[8])))\n",
    "    i = i + 1\n",
    "\n",
    "fileName = '/Users/mariannelynemanaog/PycharmProjects/vs-ml-pd-detector/src/data/train_and_test_sets/test_data.csv'\n",
    "input_file = open(fileName, 'r')\n",
    "\n",
    "for line_number, line in enumerate(input_file):\n",
    "    if line_number == 0:\n",
    "        continue  # Skip the first line, as it has the header with the column names\n",
    "    subject_id = i\n",
    "    row = line.replace('\\n', \"\").split(',')\n",
    "        \n",
    "    query = \"INSERT INTO speech_data_test (subject_id, jitter_percent, jitter_abs, rap, ppq, \\\n",
    "                               apq_3, apq_5, apq_11, status)\"\n",
    "    query = query + \" VALUES (%s, %s, %s, %s, %s, %s, %s, %s, %s)\"\n",
    "    session.execute(query, (str(row[0]), float(row[1]), float(row[2]), float(row[3]), float(row[4]), float(row[5]), float(row[6]), float(row[7]), int(row[8])))\n",
    "    i = i + 1\n",
    "    "
   ]
  },
  {
   "cell_type": "markdown",
   "metadata": {},
   "source": [
    "## Machine Learning with Apache Cassandra and Apache Spark"
   ]
  },
  {
   "cell_type": "markdown",
   "metadata": {},
   "source": [
    "#### Create a spark session that is connected to the database. Then, load each table into a Spark Dataframe and take a count of the number of rows in each."
   ]
  },
  {
   "cell_type": "code",
   "execution_count": 61,
   "metadata": {},
   "outputs": [],
   "source": [
    "spark = SparkSession.builder.appName('demo').master(\"local\").getOrCreate()"
   ]
  },
  {
   "cell_type": "code",
   "execution_count": 62,
   "metadata": {},
   "outputs": [
    {
     "data": {
      "text/html": [
       "\n",
       "            <div>\n",
       "                <p><b>SparkSession - in-memory</b></p>\n",
       "                \n",
       "        <div>\n",
       "            <p><b>SparkContext</b></p>\n",
       "\n",
       "            <p><a href=\"http://192.168.185.234:4040\">Spark UI</a></p>\n",
       "\n",
       "            <dl>\n",
       "              <dt>Version</dt>\n",
       "                <dd><code>v3.4.1</code></dd>\n",
       "              <dt>Master</dt>\n",
       "                <dd><code>local</code></dd>\n",
       "              <dt>AppName</dt>\n",
       "                <dd><code>demo</code></dd>\n",
       "            </dl>\n",
       "        </div>\n",
       "        \n",
       "            </div>\n",
       "        "
      ],
      "text/plain": [
       "<pyspark.sql.session.SparkSession at 0x7fc0107459a0>"
      ]
     },
     "execution_count": 62,
     "metadata": {},
     "output_type": "execute_result"
    }
   ],
   "source": [
    "spark"
   ]
  },
  {
   "cell_type": "code",
   "execution_count": 63,
   "metadata": {},
   "outputs": [],
   "source": [
    "rows_train = session.execute('select * from speech_data_train;')\n",
    "df_train = pd.DataFrame(list(rows_train))\n",
    "\n",
    "rows_test = session.execute('select * from speech_data_test;')\n",
    "df_test = pd.DataFrame(list(rows_test))"
   ]
  },
  {
   "cell_type": "code",
   "execution_count": 64,
   "metadata": {},
   "outputs": [
    {
     "data": {
      "text/html": [
       "<div>\n",
       "<style scoped>\n",
       "    .dataframe tbody tr th:only-of-type {\n",
       "        vertical-align: middle;\n",
       "    }\n",
       "\n",
       "    .dataframe tbody tr th {\n",
       "        vertical-align: top;\n",
       "    }\n",
       "\n",
       "    .dataframe thead th {\n",
       "        text-align: right;\n",
       "    }\n",
       "</style>\n",
       "<table border=\"1\" class=\"dataframe\">\n",
       "  <thead>\n",
       "    <tr style=\"text-align: right;\">\n",
       "      <th></th>\n",
       "      <th>subject_id</th>\n",
       "      <th>apq_11</th>\n",
       "      <th>apq_3</th>\n",
       "      <th>apq_5</th>\n",
       "      <th>jitter_abs</th>\n",
       "      <th>jitter_percent</th>\n",
       "      <th>ppq</th>\n",
       "      <th>rap</th>\n",
       "      <th>status</th>\n",
       "    </tr>\n",
       "  </thead>\n",
       "  <tbody>\n",
       "    <tr>\n",
       "      <th>0</th>\n",
       "      <td>phon_R01_S10_3</td>\n",
       "      <td>0.010330</td>\n",
       "      <td>0.007770</td>\n",
       "      <td>0.008980</td>\n",
       "      <td>0.000009</td>\n",
       "      <td>0.00210</td>\n",
       "      <td>0.00137</td>\n",
       "      <td>0.001090</td>\n",
       "      <td>0</td>\n",
       "    </tr>\n",
       "    <tr>\n",
       "      <th>1</th>\n",
       "      <td>phon_R01_S32_2</td>\n",
       "      <td>0.009030</td>\n",
       "      <td>0.004760</td>\n",
       "      <td>0.005880</td>\n",
       "      <td>0.000020</td>\n",
       "      <td>0.00270</td>\n",
       "      <td>0.00135</td>\n",
       "      <td>0.001160</td>\n",
       "      <td>1</td>\n",
       "    </tr>\n",
       "    <tr>\n",
       "      <th>2</th>\n",
       "      <td>CONT-11</td>\n",
       "      <td>0.039913</td>\n",
       "      <td>0.030384</td>\n",
       "      <td>0.035978</td>\n",
       "      <td>0.000043</td>\n",
       "      <td>0.53133</td>\n",
       "      <td>0.00332</td>\n",
       "      <td>0.002693</td>\n",
       "      <td>0</td>\n",
       "    </tr>\n",
       "    <tr>\n",
       "      <th>3</th>\n",
       "      <td>0.000157842</td>\n",
       "      <td>0.819181</td>\n",
       "      <td>18.808001</td>\n",
       "      <td>19.973000</td>\n",
       "      <td>0.779000</td>\n",
       "      <td>0.58300</td>\n",
       "      <td>13.00200</td>\n",
       "      <td>1.750000</td>\n",
       "      <td>1</td>\n",
       "    </tr>\n",
       "    <tr>\n",
       "      <th>4</th>\n",
       "      <td>9.8239e-05</td>\n",
       "      <td>0.887069</td>\n",
       "      <td>11.811000</td>\n",
       "      <td>12.712000</td>\n",
       "      <td>0.768000</td>\n",
       "      <td>0.74200</td>\n",
       "      <td>11.45500</td>\n",
       "      <td>2.226000</td>\n",
       "      <td>1</td>\n",
       "    </tr>\n",
       "  </tbody>\n",
       "</table>\n",
       "</div>"
      ],
      "text/plain": [
       "       subject_id    apq_11      apq_3      apq_5  jitter_abs  jitter_percent  \\\n",
       "0  phon_R01_S10_3  0.010330   0.007770   0.008980    0.000009         0.00210   \n",
       "1  phon_R01_S32_2  0.009030   0.004760   0.005880    0.000020         0.00270   \n",
       "2         CONT-11  0.039913   0.030384   0.035978    0.000043         0.53133   \n",
       "3     0.000157842  0.819181  18.808001  19.973000    0.779000         0.58300   \n",
       "4      9.8239e-05  0.887069  11.811000  12.712000    0.768000         0.74200   \n",
       "\n",
       "        ppq       rap  status  \n",
       "0   0.00137  0.001090       0  \n",
       "1   0.00135  0.001160       1  \n",
       "2   0.00332  0.002693       0  \n",
       "3  13.00200  1.750000       1  \n",
       "4  11.45500  2.226000       1  "
      ]
     },
     "execution_count": 64,
     "metadata": {},
     "output_type": "execute_result"
    }
   ],
   "source": [
    "df_train.head()"
   ]
  },
  {
   "cell_type": "code",
   "execution_count": 65,
   "metadata": {},
   "outputs": [
    {
     "data": {
      "text/html": [
       "<div>\n",
       "<style scoped>\n",
       "    .dataframe tbody tr th:only-of-type {\n",
       "        vertical-align: middle;\n",
       "    }\n",
       "\n",
       "    .dataframe tbody tr th {\n",
       "        vertical-align: top;\n",
       "    }\n",
       "\n",
       "    .dataframe thead th {\n",
       "        text-align: right;\n",
       "    }\n",
       "</style>\n",
       "<table border=\"1\" class=\"dataframe\">\n",
       "  <thead>\n",
       "    <tr style=\"text-align: right;\">\n",
       "      <th></th>\n",
       "      <th>subject_id</th>\n",
       "      <th>apq_11</th>\n",
       "      <th>apq_3</th>\n",
       "      <th>apq_5</th>\n",
       "      <th>jitter_abs</th>\n",
       "      <th>jitter_percent</th>\n",
       "      <th>ppq</th>\n",
       "      <th>rap</th>\n",
       "      <th>status</th>\n",
       "    </tr>\n",
       "  </thead>\n",
       "  <tbody>\n",
       "    <tr>\n",
       "      <th>0</th>\n",
       "      <td>151</td>\n",
       "      <td>0.08309</td>\n",
       "      <td>0.04866</td>\n",
       "      <td>0.05779</td>\n",
       "      <td>0.000095</td>\n",
       "      <td>0.00870</td>\n",
       "      <td>0.00533</td>\n",
       "      <td>0.00329</td>\n",
       "      <td>1</td>\n",
       "    </tr>\n",
       "    <tr>\n",
       "      <th>1</th>\n",
       "      <td>6</td>\n",
       "      <td>0.02123</td>\n",
       "      <td>0.01087</td>\n",
       "      <td>0.01250</td>\n",
       "      <td>0.000006</td>\n",
       "      <td>0.00084</td>\n",
       "      <td>0.00041</td>\n",
       "      <td>0.00018</td>\n",
       "      <td>1</td>\n",
       "    </tr>\n",
       "    <tr>\n",
       "      <th>2</th>\n",
       "      <td>191</td>\n",
       "      <td>0.03954</td>\n",
       "      <td>0.02140</td>\n",
       "      <td>0.02522</td>\n",
       "      <td>0.000009</td>\n",
       "      <td>0.00121</td>\n",
       "      <td>0.00056</td>\n",
       "      <td>0.00023</td>\n",
       "      <td>1</td>\n",
       "    </tr>\n",
       "    <tr>\n",
       "      <th>3</th>\n",
       "      <td>210</td>\n",
       "      <td>0.06352</td>\n",
       "      <td>0.02399</td>\n",
       "      <td>0.03212</td>\n",
       "      <td>0.000009</td>\n",
       "      <td>0.00097</td>\n",
       "      <td>0.00059</td>\n",
       "      <td>0.00029</td>\n",
       "      <td>0</td>\n",
       "    </tr>\n",
       "    <tr>\n",
       "      <th>4</th>\n",
       "      <td>90</td>\n",
       "      <td>0.10453</td>\n",
       "      <td>0.07051</td>\n",
       "      <td>0.08295</td>\n",
       "      <td>0.000062</td>\n",
       "      <td>0.00576</td>\n",
       "      <td>0.00362</td>\n",
       "      <td>0.00189</td>\n",
       "      <td>1</td>\n",
       "    </tr>\n",
       "  </tbody>\n",
       "</table>\n",
       "</div>"
      ],
      "text/plain": [
       "  subject_id   apq_11    apq_3    apq_5  jitter_abs  jitter_percent      ppq  \\\n",
       "0        151  0.08309  0.04866  0.05779    0.000095         0.00870  0.00533   \n",
       "1          6  0.02123  0.01087  0.01250    0.000006         0.00084  0.00041   \n",
       "2        191  0.03954  0.02140  0.02522    0.000009         0.00121  0.00056   \n",
       "3        210  0.06352  0.02399  0.03212    0.000009         0.00097  0.00059   \n",
       "4         90  0.10453  0.07051  0.08295    0.000062         0.00576  0.00362   \n",
       "\n",
       "       rap  status  \n",
       "0  0.00329       1  \n",
       "1  0.00018       1  \n",
       "2  0.00023       1  \n",
       "3  0.00029       0  \n",
       "4  0.00189       1  "
      ]
     },
     "execution_count": 65,
     "metadata": {},
     "output_type": "execute_result"
    }
   ],
   "source": [
    "df_test.head()"
   ]
  },
  {
   "cell_type": "code",
   "execution_count": 66,
   "metadata": {},
   "outputs": [
    {
     "name": "stdout",
     "output_type": "stream",
     "text": [
      "Train Table Speech Data Row Count: \n",
      "1503\n"
     ]
    }
   ],
   "source": [
    "print(\"Train Table Speech Data Row Count: \")\n",
    "print(len(df_train))"
   ]
  },
  {
   "cell_type": "code",
   "execution_count": 67,
   "metadata": {},
   "outputs": [
    {
     "name": "stdout",
     "output_type": "stream",
     "text": [
      "Test Table Speech Data Row Count: \n",
      "252\n"
     ]
    }
   ],
   "source": [
    "print(\"Test Table Speech Data Row Count: \")\n",
    "print(len(df_test))"
   ]
  },
  {
   "cell_type": "code",
   "execution_count": 68,
   "metadata": {},
   "outputs": [
    {
     "name": "stdout",
     "output_type": "stream",
     "text": [
      "The PySpark train df is: \n",
      "root\n",
      " |-- subject_id: string (nullable = true)\n",
      " |-- apq_11: double (nullable = true)\n",
      " |-- apq_3: double (nullable = true)\n",
      " |-- apq_5: double (nullable = true)\n",
      " |-- jitter_abs: double (nullable = true)\n",
      " |-- jitter_percent: double (nullable = true)\n",
      " |-- ppq: double (nullable = true)\n",
      " |-- rap: double (nullable = true)\n",
      " |-- status: long (nullable = true)\n",
      "\n",
      "+--------------+--------------------+--------------------+--------------------+--------------------+--------------------+--------------------+--------------------+------+\n",
      "|    subject_id|              apq_11|               apq_3|               apq_5|          jitter_abs|      jitter_percent|                 ppq|                 rap|status|\n",
      "+--------------+--------------------+--------------------+--------------------+--------------------+--------------------+--------------------+--------------------+------+\n",
      "|phon_R01_S10_3|0.010329999960958958|0.007770000025629997|0.008980000391602516|9.000000318337698E-6|0.002099999925121665|0.001369999954476...|0.001090000034309...|     0|\n",
      "|phon_R01_S32_2|0.009030000306665897|0.004759999923408...|0.005880000069737434|1.999999949475750...|0.002700000070035...|0.001350000035017...|0.001159999985247...|     1|\n",
      "|       CONT-11| 0.03991299867630005| 0.03038400039076805| 0.03597800061106682|4.326300040702335...|  0.5313299894332886|0.003319700015708804|0.002693000016734004|     0|\n",
      "|   0.000157842|  0.8191810250282288|  18.808000564575195|  19.972999572753906|  0.7789999842643738|  0.5830000042915344|  13.001999855041504|                1.75|     1|\n",
      "|    9.8239e-05|  0.8870689868927002|  11.810999870300293|  12.711999893188477|  0.7680000066757202|  0.7419999837875366|  11.454999923706055|  2.2260000705718994|     1|\n",
      "|   0.000274444|  0.8325780034065247|   8.017999649047852|   20.63800048828125|   2.121000051498413|   2.734999895095825|  12.357999801635742|   8.204999923706055|     0|\n",
      "|         0.119|  1.4819999933242798|  0.5849999785423279|  0.8579999804496765|0.054999999701976776|5.400000191002618...| 0.16500000655651093| 0.06199999898672104|     1|\n",
      "|   0.000271549|  0.7844079732894897|   7.539000034332275|   13.61299991607666|  0.7910000085830688|  0.9980000257492065|   8.038000106811523|   2.993000030517578|     1|\n",
      "|    0.00010372|  0.8536990284919739|  15.329000473022461|   19.09600067138672|  1.2430000305175781|  1.2259999513626099|  16.344999313354492|   3.677999973297119|     1|\n",
      "|   0.000110648|  0.6783589720726013|  13.706000328063965|   37.26300048828125|  0.6990000009536743|  0.9509999752044678|    21.9950008392334|  2.8529999256134033|     0|\n",
      "|   0.000117389|  0.6370519995689392|  13.342000007629395|   38.54399871826172|  0.9210000038146973|  0.9549999833106995|  22.509000778198242|   2.865000009536743|     0|\n",
      "|phon_R01_S06_2| 0.03779999911785126|0.017319999635219574|0.022450000047683716|5.999999848427251E-5|0.006329999770969...|0.003749999916180...|0.003160000080242753|     1|\n",
      "|phon_R01_S04_1| 0.01140000019222498|0.006560000125318766|0.007170000113546848|1.999999949475750...|0.002929999958723...|0.001530000008642...|0.001180000021122396|     1|\n",
      "|     6.495e-06|  0.9979040026664734|   1.281999945640564|  1.4880000352859497| 0.08100000023841858| 0.08799999952316284|   1.184999942779541| 0.26499998569488525|     0|\n",
      "|   0.000116073|  0.8263689875602722|  13.277999877929688|  16.047000885009766|  1.5219999551773071|  1.0779999494552612|  11.329999923706055|   3.234999895095825|     0|\n",
      "|         0.273|   3.740000009536743|  2.3940000534057617|  3.0409998893737793| 0.13899999856948853|1.109999993786914...|  0.4180000126361847|  0.1679999977350235|     1|\n",
      "|   0.000142177|  0.8826259970664978|  10.220999717712402|   9.628999710083008|  1.8890000581741333|  1.6480000019073486|   10.26200008392334|   4.943999767303467|     1|\n",
      "|   0.000102513|  0.8397150039672852|   5.889999866485596|  12.767999649047852|  0.5770000219345093|  0.7860000133514404|   8.885000228881836|  2.3570001125335693|     1|\n",
      "|   0.000156096|  0.8718169927597046|  20.354000091552734|  18.586999893188477|  0.9660000205039978|  0.8069999814033508|   14.85200023651123|   2.421999931335449|     0|\n",
      "|       PARK-06|0.017483999952673912|0.013740000315010548|0.015104000456631184|1.820000034058466...|  0.3505299985408783|0.002305499976500869|0.002026249887421727|     1|\n",
      "+--------------+--------------------+--------------------+--------------------+--------------------+--------------------+--------------------+--------------------+------+\n",
      "only showing top 20 rows\n",
      "\n",
      "The PySpark test df is: \n",
      "root\n",
      " |-- subject_id: string (nullable = true)\n",
      " |-- apq_11: double (nullable = true)\n",
      " |-- apq_3: double (nullable = true)\n",
      " |-- apq_5: double (nullable = true)\n",
      " |-- jitter_abs: double (nullable = true)\n",
      " |-- jitter_percent: double (nullable = true)\n",
      " |-- ppq: double (nullable = true)\n",
      " |-- rap: double (nullable = true)\n",
      " |-- status: long (nullable = true)\n",
      "\n",
      "+----------+--------------------+--------------------+--------------------+--------------------+--------------------+--------------------+--------------------+------+\n",
      "|subject_id|              apq_11|               apq_3|               apq_5|          jitter_abs|      jitter_percent|                 ppq|                 rap|status|\n",
      "+----------+--------------------+--------------------+--------------------+--------------------+--------------------+--------------------+--------------------+------+\n",
      "|       151| 0.08308999985456467|0.048659998923540115| 0.05778999999165535|9.549999958835542E-5|0.008700000122189522|0.005330000072717667|0.003289999905973673|     1|\n",
      "|         6|0.021229999139904976|0.010870000347495079|0.012500000186264515|5.580000106419902E-6|8.399999933317304E-4|4.100000078324228...|1.800000027287751...|     1|\n",
      "|       191| 0.03954000025987625|0.021400000900030136|0.025219999253749847|9.420000424142927E-6|0.001210000016726...|5.600000149570405E-4|2.300000051036477E-4|     1|\n",
      "|       210| 0.06351999938488007|0.023989999666810036|  0.0321200005710125|8.809999599179719E-6|9.699999936856329E-4| 5.90000010561198E-4|2.899999963119626E-4|     0|\n",
      "|        90| 0.10452999919652939| 0.07050999999046326| 0.08295000344514847| 6.22000006842427E-5|0.005760000087320805|0.003620000090450...|0.001889999955892...|     1|\n",
      "|       163| 0.02824000082910061|0.026100000366568565| 0.02810000069439411|9.239999599230941E-6|0.001410000026226...|6.500000017695129E-4|2.699999895412475E-4|     0|\n",
      "|       200| 0.03051000088453293|0.022029999643564224|0.027720000594854355|1.280000014958204...|0.002099999925121665|7.600000244565308E-4|6.399999838322401E-4|     1|\n",
      "|       223| 0.08489000052213669|0.046209998428821564| 0.06080000102519989|4.949999856762588E-5|0.007019999902695417|0.002219999907538295|0.002319999970495701|     1|\n",
      "|       221| 0.14488999545574188| 0.07498999685049057| 0.11461000144481659|3.780000042752362...|9.699999936856329E-4|2.500000118743628E-4|9.000000136438757E-5|     0|\n",
      "|       144|  0.0416099987924099|0.022679999470710754|0.028860000893473625|4.070000159117626E-6| 0.00107999995816499|2.200000017182901...|7.999999797903001E-5|     1|\n",
      "|        46| 0.08421000093221664| 0.04521000012755394| 0.06160999834537506|6.800000119255856E-5|0.007960000075399876|0.004269999917596579|0.002069999929517...|     1|\n",
      "|       115| 0.09556999802589417| 0.04165000095963478| 0.06270000338554382|1.290000000153668...|0.002139999996870756|8.999999845400453E-4|3.699999942909926E-4|     1|\n",
      "|        55| 0.06560999900102615| 0.02686999924480915| 0.03884999826550484|4.609999905369477E-6|7.900000200606883E-4|3.300000098533928...|1.400000037392601...|     1|\n",
      "|       225| 0.02298000082373619|0.017410000786185265|0.019579999148845673|7.510000159527408E-6|0.001099999994039...|5.799999926239252E-4|2.500000118743628E-4|     1|\n",
      "|       180|  0.1288899928331375| 0.07968000322580338| 0.11545000225305557|2.389999963270384E-6|6.099999882280827E-4|1.900000061141327E-4|7.000000186963007E-5|     0|\n",
      "|       251|0.027650000527501106| 0.01940000057220459|0.023320000618696213|4.399999852466863E-6|7.800000021234155E-4|3.300000098533928...|1.400000037392601...|     0|\n",
      "|        81|  0.1009799987077713|  0.0629199966788292| 0.06567999720573425|1.119999978982377...|0.001949999947100...|9.399999980814755E-4|4.100000078324228...|     1|\n",
      "|       149|0.009060000069439411|0.005799999926239252|0.006670000031590462|9.280000199396454E-7|2.699999895412475E-4|7.000000186963007E-5|2.999999924213625...|     0|\n",
      "|        16| 0.16767999529838562| 0.09736000001430511| 0.13675999641418457|1.510000038251746...|0.003139999927952...|0.001099999994039...|8.999999845400453E-4|     1|\n",
      "|       176|   0.046509999781847|0.029519999399781227|0.038669999688863754|6.159999884403078E-6|0.001200000056996...|3.800000122282654E-4|1.500000071246177E-4|     1|\n",
      "+----------+--------------------+--------------------+--------------------+--------------------+--------------------+--------------------+--------------------+------+\n",
      "only showing top 20 rows\n",
      "\n"
     ]
    }
   ],
   "source": [
    "# Create PySpark DataFrames from Pandas\n",
    "\n",
    "print('The PySpark train df is: ')\n",
    "sparkDF_train=spark.createDataFrame(df_train) \n",
    "sparkDF_train.printSchema()\n",
    "sparkDF_train.show()\n",
    "\n",
    "print('The PySpark test df is: ')\n",
    "sparkDF_test=spark.createDataFrame(df_test) \n",
    "sparkDF_test.printSchema()\n",
    "sparkDF_test.show()"
   ]
  },
  {
   "cell_type": "markdown",
   "metadata": {},
   "source": [
    "#### Helper function to have nicer formatting of Spark DataFrames"
   ]
  },
  {
   "cell_type": "code",
   "execution_count": 69,
   "metadata": {},
   "outputs": [],
   "source": [
    "# Helper for pretty formatting for Spark DataFrames\n",
    "def showDF(df, limitRows =  5, truncate = True):\n",
    "    if(truncate):\n",
    "        pd.set_option('display.max_colwidth', 50)\n",
    "    else:\n",
    "        pd.set_option('display.max_colwidth', -1)\n",
    "    pd.set_option('display.max_rows', limitRows)\n",
    "    display(df.limit(limitRows).toPandas())\n",
    "    pd.reset_option('display.max_rows')"
   ]
  },
  {
   "cell_type": "markdown",
   "metadata": {},
   "source": [
    "#### Create Vectors with all elements of the speech datasets"
   ]
  },
  {
   "cell_type": "code",
   "execution_count": 70,
   "metadata": {},
   "outputs": [
    {
     "data": {
      "text/html": [
       "<div>\n",
       "<style scoped>\n",
       "    .dataframe tbody tr th:only-of-type {\n",
       "        vertical-align: middle;\n",
       "    }\n",
       "\n",
       "    .dataframe tbody tr th {\n",
       "        vertical-align: top;\n",
       "    }\n",
       "\n",
       "    .dataframe thead th {\n",
       "        text-align: right;\n",
       "    }\n",
       "</style>\n",
       "<table border=\"1\" class=\"dataframe\">\n",
       "  <thead>\n",
       "    <tr style=\"text-align: right;\">\n",
       "      <th></th>\n",
       "      <th>subject_id</th>\n",
       "      <th>apq_11</th>\n",
       "      <th>apq_3</th>\n",
       "      <th>apq_5</th>\n",
       "      <th>jitter_abs</th>\n",
       "      <th>jitter_percent</th>\n",
       "      <th>ppq</th>\n",
       "      <th>rap</th>\n",
       "      <th>status</th>\n",
       "      <th>features</th>\n",
       "      <th>label</th>\n",
       "    </tr>\n",
       "  </thead>\n",
       "  <tbody>\n",
       "    <tr>\n",
       "      <th>0</th>\n",
       "      <td>phon_R01_S10_3</td>\n",
       "      <td>0.010330</td>\n",
       "      <td>0.007770</td>\n",
       "      <td>0.008980</td>\n",
       "      <td>0.000009</td>\n",
       "      <td>0.00210</td>\n",
       "      <td>0.00137</td>\n",
       "      <td>0.001090</td>\n",
       "      <td>0</td>\n",
       "      <td>[0.002099999925121665, 9.000000318337698e-06, ...</td>\n",
       "      <td>1.0</td>\n",
       "    </tr>\n",
       "    <tr>\n",
       "      <th>1</th>\n",
       "      <td>phon_R01_S32_2</td>\n",
       "      <td>0.009030</td>\n",
       "      <td>0.004760</td>\n",
       "      <td>0.005880</td>\n",
       "      <td>0.000020</td>\n",
       "      <td>0.00270</td>\n",
       "      <td>0.00135</td>\n",
       "      <td>0.001160</td>\n",
       "      <td>1</td>\n",
       "      <td>[0.0027000000700354576, 1.9999999494757503e-05...</td>\n",
       "      <td>0.0</td>\n",
       "    </tr>\n",
       "    <tr>\n",
       "      <th>2</th>\n",
       "      <td>CONT-11</td>\n",
       "      <td>0.039913</td>\n",
       "      <td>0.030384</td>\n",
       "      <td>0.035978</td>\n",
       "      <td>0.000043</td>\n",
       "      <td>0.53133</td>\n",
       "      <td>0.00332</td>\n",
       "      <td>0.002693</td>\n",
       "      <td>0</td>\n",
       "      <td>[0.5313299894332886, 4.3263000407023355e-05, 0...</td>\n",
       "      <td>1.0</td>\n",
       "    </tr>\n",
       "    <tr>\n",
       "      <th>3</th>\n",
       "      <td>0.000157842</td>\n",
       "      <td>0.819181</td>\n",
       "      <td>18.808001</td>\n",
       "      <td>19.973000</td>\n",
       "      <td>0.779000</td>\n",
       "      <td>0.58300</td>\n",
       "      <td>13.00200</td>\n",
       "      <td>1.750000</td>\n",
       "      <td>1</td>\n",
       "      <td>[0.5830000042915344, 0.7789999842643738, 1.75,...</td>\n",
       "      <td>0.0</td>\n",
       "    </tr>\n",
       "    <tr>\n",
       "      <th>4</th>\n",
       "      <td>9.8239e-05</td>\n",
       "      <td>0.887069</td>\n",
       "      <td>11.811000</td>\n",
       "      <td>12.712000</td>\n",
       "      <td>0.768000</td>\n",
       "      <td>0.74200</td>\n",
       "      <td>11.45500</td>\n",
       "      <td>2.226000</td>\n",
       "      <td>1</td>\n",
       "      <td>[0.7419999837875366, 0.7680000066757202, 2.226...</td>\n",
       "      <td>0.0</td>\n",
       "    </tr>\n",
       "  </tbody>\n",
       "</table>\n",
       "</div>"
      ],
      "text/plain": [
       "       subject_id    apq_11      apq_3      apq_5  jitter_abs  jitter_percent  \\\n",
       "0  phon_R01_S10_3  0.010330   0.007770   0.008980    0.000009         0.00210   \n",
       "1  phon_R01_S32_2  0.009030   0.004760   0.005880    0.000020         0.00270   \n",
       "2         CONT-11  0.039913   0.030384   0.035978    0.000043         0.53133   \n",
       "3     0.000157842  0.819181  18.808001  19.973000    0.779000         0.58300   \n",
       "4      9.8239e-05  0.887069  11.811000  12.712000    0.768000         0.74200   \n",
       "\n",
       "        ppq       rap  status  \\\n",
       "0   0.00137  0.001090       0   \n",
       "1   0.00135  0.001160       1   \n",
       "2   0.00332  0.002693       0   \n",
       "3  13.00200  1.750000       1   \n",
       "4  11.45500  2.226000       1   \n",
       "\n",
       "                                            features  label  \n",
       "0  [0.002099999925121665, 9.000000318337698e-06, ...    1.0  \n",
       "1  [0.0027000000700354576, 1.9999999494757503e-05...    0.0  \n",
       "2  [0.5313299894332886, 4.3263000407023355e-05, 0...    1.0  \n",
       "3  [0.5830000042915344, 0.7789999842643738, 1.75,...    0.0  \n",
       "4  [0.7419999837875366, 0.7680000066757202, 2.226...    0.0  "
      ]
     },
     "metadata": {},
     "output_type": "display_data"
    },
    {
     "name": "stdout",
     "output_type": "stream",
     "text": [
      "1503\n"
     ]
    },
    {
     "data": {
      "text/html": [
       "<div>\n",
       "<style scoped>\n",
       "    .dataframe tbody tr th:only-of-type {\n",
       "        vertical-align: middle;\n",
       "    }\n",
       "\n",
       "    .dataframe tbody tr th {\n",
       "        vertical-align: top;\n",
       "    }\n",
       "\n",
       "    .dataframe thead th {\n",
       "        text-align: right;\n",
       "    }\n",
       "</style>\n",
       "<table border=\"1\" class=\"dataframe\">\n",
       "  <thead>\n",
       "    <tr style=\"text-align: right;\">\n",
       "      <th></th>\n",
       "      <th>subject_id</th>\n",
       "      <th>apq_11</th>\n",
       "      <th>apq_3</th>\n",
       "      <th>apq_5</th>\n",
       "      <th>jitter_abs</th>\n",
       "      <th>jitter_percent</th>\n",
       "      <th>ppq</th>\n",
       "      <th>rap</th>\n",
       "      <th>status</th>\n",
       "      <th>features</th>\n",
       "      <th>label</th>\n",
       "    </tr>\n",
       "  </thead>\n",
       "  <tbody>\n",
       "    <tr>\n",
       "      <th>0</th>\n",
       "      <td>151</td>\n",
       "      <td>0.08309</td>\n",
       "      <td>0.04866</td>\n",
       "      <td>0.05779</td>\n",
       "      <td>0.000095</td>\n",
       "      <td>0.00870</td>\n",
       "      <td>0.00533</td>\n",
       "      <td>0.00329</td>\n",
       "      <td>1</td>\n",
       "      <td>[0.008700000122189522, 9.549999958835542e-05, ...</td>\n",
       "      <td>0.0</td>\n",
       "    </tr>\n",
       "    <tr>\n",
       "      <th>1</th>\n",
       "      <td>6</td>\n",
       "      <td>0.02123</td>\n",
       "      <td>0.01087</td>\n",
       "      <td>0.01250</td>\n",
       "      <td>0.000006</td>\n",
       "      <td>0.00084</td>\n",
       "      <td>0.00041</td>\n",
       "      <td>0.00018</td>\n",
       "      <td>1</td>\n",
       "      <td>[0.0008399999933317304, 5.580000106419902e-06,...</td>\n",
       "      <td>0.0</td>\n",
       "    </tr>\n",
       "    <tr>\n",
       "      <th>2</th>\n",
       "      <td>191</td>\n",
       "      <td>0.03954</td>\n",
       "      <td>0.02140</td>\n",
       "      <td>0.02522</td>\n",
       "      <td>0.000009</td>\n",
       "      <td>0.00121</td>\n",
       "      <td>0.00056</td>\n",
       "      <td>0.00023</td>\n",
       "      <td>1</td>\n",
       "      <td>[0.0012100000167265534, 9.420000424142927e-06,...</td>\n",
       "      <td>0.0</td>\n",
       "    </tr>\n",
       "    <tr>\n",
       "      <th>3</th>\n",
       "      <td>210</td>\n",
       "      <td>0.06352</td>\n",
       "      <td>0.02399</td>\n",
       "      <td>0.03212</td>\n",
       "      <td>0.000009</td>\n",
       "      <td>0.00097</td>\n",
       "      <td>0.00059</td>\n",
       "      <td>0.00029</td>\n",
       "      <td>0</td>\n",
       "      <td>[0.0009699999936856329, 8.809999599179719e-06,...</td>\n",
       "      <td>1.0</td>\n",
       "    </tr>\n",
       "    <tr>\n",
       "      <th>4</th>\n",
       "      <td>90</td>\n",
       "      <td>0.10453</td>\n",
       "      <td>0.07051</td>\n",
       "      <td>0.08295</td>\n",
       "      <td>0.000062</td>\n",
       "      <td>0.00576</td>\n",
       "      <td>0.00362</td>\n",
       "      <td>0.00189</td>\n",
       "      <td>1</td>\n",
       "      <td>[0.005760000087320805, 6.22000006842427e-05, 0...</td>\n",
       "      <td>0.0</td>\n",
       "    </tr>\n",
       "  </tbody>\n",
       "</table>\n",
       "</div>"
      ],
      "text/plain": [
       "  subject_id   apq_11    apq_3    apq_5  jitter_abs  jitter_percent      ppq  \\\n",
       "0        151  0.08309  0.04866  0.05779    0.000095         0.00870  0.00533   \n",
       "1          6  0.02123  0.01087  0.01250    0.000006         0.00084  0.00041   \n",
       "2        191  0.03954  0.02140  0.02522    0.000009         0.00121  0.00056   \n",
       "3        210  0.06352  0.02399  0.03212    0.000009         0.00097  0.00059   \n",
       "4         90  0.10453  0.07051  0.08295    0.000062         0.00576  0.00362   \n",
       "\n",
       "       rap  status                                           features  label  \n",
       "0  0.00329       1  [0.008700000122189522, 9.549999958835542e-05, ...    0.0  \n",
       "1  0.00018       1  [0.0008399999933317304, 5.580000106419902e-06,...    0.0  \n",
       "2  0.00023       1  [0.0012100000167265534, 9.420000424142927e-06,...    0.0  \n",
       "3  0.00029       0  [0.0009699999936856329, 8.809999599179719e-06,...    1.0  \n",
       "4  0.00189       1  [0.005760000087320805, 6.22000006842427e-05, 0...    0.0  "
      ]
     },
     "metadata": {},
     "output_type": "display_data"
    },
    {
     "name": "stdout",
     "output_type": "stream",
     "text": [
      "252\n"
     ]
    }
   ],
   "source": [
    "assembler = VectorAssembler(\n",
    "    inputCols=['jitter_percent', 'jitter_abs', 'rap', 'ppq', 'apq_3', 'apq_5', 'apq_11'],\n",
    "    outputCol='features')\n",
    "\n",
    "trainingData = assembler.transform(sparkDF_train)\n",
    "\n",
    "labelIndexer_train = StringIndexer(inputCol=\"status\", outputCol=\"label\", handleInvalid='keep')\n",
    "train = labelIndexer_train.fit(trainingData).transform(trainingData)\n",
    "\n",
    "showDF(train)\n",
    "print(train.count())\n",
    "\n",
    "testingData = assembler.transform(sparkDF_test)\n",
    "\n",
    "labelIndexer_test = StringIndexer(inputCol=\"status\", outputCol=\"label\", handleInvalid='keep')\n",
    "test = labelIndexer_test.fit(testingData).transform(testingData)\n",
    "\n",
    "showDF(test)\n",
    "print(test.count())"
   ]
  },
  {
   "cell_type": "markdown",
   "metadata": {},
   "source": [
    "### Train a Random Forest model whilst preserving the train and test sets generated above, which prevent both time-related data leakage and do not have any overlapping subjects between train and test sets. \n",
    "\n",
    "### The optimal hyperparameters are obtained via grid search optimisation when cross-validating the model during training."
   ]
  },
  {
   "cell_type": "code",
   "execution_count": 71,
   "metadata": {},
   "outputs": [
    {
     "name": "stdout",
     "output_type": "stream",
     "text": [
      "252\n"
     ]
    },
    {
     "data": {
      "text/html": [
       "<div>\n",
       "<style scoped>\n",
       "    .dataframe tbody tr th:only-of-type {\n",
       "        vertical-align: middle;\n",
       "    }\n",
       "\n",
       "    .dataframe tbody tr th {\n",
       "        vertical-align: top;\n",
       "    }\n",
       "\n",
       "    .dataframe thead th {\n",
       "        text-align: right;\n",
       "    }\n",
       "</style>\n",
       "<table border=\"1\" class=\"dataframe\">\n",
       "  <thead>\n",
       "    <tr style=\"text-align: right;\">\n",
       "      <th></th>\n",
       "      <th>subject_id</th>\n",
       "      <th>apq_11</th>\n",
       "      <th>apq_3</th>\n",
       "      <th>apq_5</th>\n",
       "      <th>jitter_abs</th>\n",
       "      <th>jitter_percent</th>\n",
       "      <th>ppq</th>\n",
       "      <th>rap</th>\n",
       "      <th>status</th>\n",
       "      <th>features</th>\n",
       "      <th>label</th>\n",
       "      <th>rawPrediction</th>\n",
       "      <th>probability</th>\n",
       "      <th>prediction</th>\n",
       "    </tr>\n",
       "  </thead>\n",
       "  <tbody>\n",
       "    <tr>\n",
       "      <th>0</th>\n",
       "      <td>151</td>\n",
       "      <td>0.08309</td>\n",
       "      <td>0.04866</td>\n",
       "      <td>0.05779</td>\n",
       "      <td>0.000095</td>\n",
       "      <td>0.00870</td>\n",
       "      <td>0.00533</td>\n",
       "      <td>0.00329</td>\n",
       "      <td>1</td>\n",
       "      <td>[0.008700000122189522, 9.549999958835542e-05, ...</td>\n",
       "      <td>0.0</td>\n",
       "      <td>[9.985806957203188, 0.014193042796813094, 0.0]</td>\n",
       "      <td>[0.9985806957203186, 0.001419304279681309, 0.0]</td>\n",
       "      <td>0.0</td>\n",
       "    </tr>\n",
       "    <tr>\n",
       "      <th>1</th>\n",
       "      <td>6</td>\n",
       "      <td>0.02123</td>\n",
       "      <td>0.01087</td>\n",
       "      <td>0.01250</td>\n",
       "      <td>0.000006</td>\n",
       "      <td>0.00084</td>\n",
       "      <td>0.00041</td>\n",
       "      <td>0.00018</td>\n",
       "      <td>1</td>\n",
       "      <td>[0.0008399999933317304, 5.580000106419902e-06,...</td>\n",
       "      <td>0.0</td>\n",
       "      <td>[5.819444444444445, 4.180555555555555, 0.0]</td>\n",
       "      <td>[0.5819444444444445, 0.4180555555555555, 0.0]</td>\n",
       "      <td>0.0</td>\n",
       "    </tr>\n",
       "    <tr>\n",
       "      <th>2</th>\n",
       "      <td>191</td>\n",
       "      <td>0.03954</td>\n",
       "      <td>0.02140</td>\n",
       "      <td>0.02522</td>\n",
       "      <td>0.000009</td>\n",
       "      <td>0.00121</td>\n",
       "      <td>0.00056</td>\n",
       "      <td>0.00023</td>\n",
       "      <td>1</td>\n",
       "      <td>[0.0012100000167265534, 9.420000424142927e-06,...</td>\n",
       "      <td>0.0</td>\n",
       "      <td>[9.708333333333332, 0.2916666666666667, 0.0]</td>\n",
       "      <td>[0.9708333333333334, 0.029166666666666674, 0.0]</td>\n",
       "      <td>0.0</td>\n",
       "    </tr>\n",
       "    <tr>\n",
       "      <th>3</th>\n",
       "      <td>210</td>\n",
       "      <td>0.06352</td>\n",
       "      <td>0.02399</td>\n",
       "      <td>0.03212</td>\n",
       "      <td>0.000009</td>\n",
       "      <td>0.00097</td>\n",
       "      <td>0.00059</td>\n",
       "      <td>0.00029</td>\n",
       "      <td>0</td>\n",
       "      <td>[0.0009699999936856329, 8.809999599179719e-06,...</td>\n",
       "      <td>1.0</td>\n",
       "      <td>[8.708333333333332, 1.2916666666666667, 0.0]</td>\n",
       "      <td>[0.8708333333333333, 0.1291666666666667, 0.0]</td>\n",
       "      <td>0.0</td>\n",
       "    </tr>\n",
       "    <tr>\n",
       "      <th>4</th>\n",
       "      <td>90</td>\n",
       "      <td>0.10453</td>\n",
       "      <td>0.07051</td>\n",
       "      <td>0.08295</td>\n",
       "      <td>0.000062</td>\n",
       "      <td>0.00576</td>\n",
       "      <td>0.00362</td>\n",
       "      <td>0.00189</td>\n",
       "      <td>1</td>\n",
       "      <td>[0.005760000087320805, 6.22000006842427e-05, 0...</td>\n",
       "      <td>0.0</td>\n",
       "      <td>[9.985806957203188, 0.014193042796813094, 0.0]</td>\n",
       "      <td>[0.9985806957203186, 0.001419304279681309, 0.0]</td>\n",
       "      <td>0.0</td>\n",
       "    </tr>\n",
       "  </tbody>\n",
       "</table>\n",
       "</div>"
      ],
      "text/plain": [
       "  subject_id   apq_11    apq_3    apq_5  jitter_abs  jitter_percent      ppq  \\\n",
       "0        151  0.08309  0.04866  0.05779    0.000095         0.00870  0.00533   \n",
       "1          6  0.02123  0.01087  0.01250    0.000006         0.00084  0.00041   \n",
       "2        191  0.03954  0.02140  0.02522    0.000009         0.00121  0.00056   \n",
       "3        210  0.06352  0.02399  0.03212    0.000009         0.00097  0.00059   \n",
       "4         90  0.10453  0.07051  0.08295    0.000062         0.00576  0.00362   \n",
       "\n",
       "       rap  status                                           features  label  \\\n",
       "0  0.00329       1  [0.008700000122189522, 9.549999958835542e-05, ...    0.0   \n",
       "1  0.00018       1  [0.0008399999933317304, 5.580000106419902e-06,...    0.0   \n",
       "2  0.00023       1  [0.0012100000167265534, 9.420000424142927e-06,...    0.0   \n",
       "3  0.00029       0  [0.0009699999936856329, 8.809999599179719e-06,...    1.0   \n",
       "4  0.00189       1  [0.005760000087320805, 6.22000006842427e-05, 0...    0.0   \n",
       "\n",
       "                                    rawPrediction  \\\n",
       "0  [9.985806957203188, 0.014193042796813094, 0.0]   \n",
       "1     [5.819444444444445, 4.180555555555555, 0.0]   \n",
       "2    [9.708333333333332, 0.2916666666666667, 0.0]   \n",
       "3    [8.708333333333332, 1.2916666666666667, 0.0]   \n",
       "4  [9.985806957203188, 0.014193042796813094, 0.0]   \n",
       "\n",
       "                                       probability  prediction  \n",
       "0  [0.9985806957203186, 0.001419304279681309, 0.0]         0.0  \n",
       "1    [0.5819444444444445, 0.4180555555555555, 0.0]         0.0  \n",
       "2  [0.9708333333333334, 0.029166666666666674, 0.0]         0.0  \n",
       "3    [0.8708333333333333, 0.1291666666666667, 0.0]         0.0  \n",
       "4  [0.9985806957203186, 0.001419304279681309, 0.0]         0.0  "
      ]
     },
     "metadata": {},
     "output_type": "display_data"
    }
   ],
   "source": [
    "rf = RandomForestClassifier(labelCol=\"label\", featuresCol=\"features\")\n",
    "\n",
    "numFolds = 5\n",
    "\n",
    "weighted_recall_evaluator = MulticlassClassificationEvaluator(labelCol=\"label\", predictionCol=\"prediction\",\n",
    "                                              metricName=\"weightedRecall\")\n",
    "\n",
    "pipeline = Pipeline(stages=[rf])\n",
    "paramGrid = (ParamGridBuilder().addGrid(param=rf.numTrees, values=[8, 10, 12]).addGrid(param=rf.seed, values=[13, 17, 42]).addGrid(param=rf.maxDepth, values=[5, 8, 10]).build())\n",
    "\n",
    "crossval = CrossValidator(\n",
    "    estimator=pipeline,\n",
    "    estimatorParamMaps=paramGrid,\n",
    "    evaluator=weighted_recall_evaluator,\n",
    "    numFolds=numFolds)\n",
    "\n",
    "model = crossval.fit(train)\n",
    "\n",
    "predictions_from_Random_Forest = model.transform(test)\n",
    "\n",
    "print(predictions_from_Random_Forest.count())\n",
    "showDF(predictions_from_Random_Forest)"
   ]
  },
  {
   "cell_type": "code",
   "execution_count": 72,
   "metadata": {},
   "outputs": [
    {
     "name": "stdout",
     "output_type": "stream",
     "text": [
      "Best param for numTrees is:  10\n",
      "Best param for seed is:  42\n",
      "Best param for maxDepth is:  10\n"
     ]
    }
   ],
   "source": [
    "# Visualising the optimal hyperparameters obtained via grid search optimisation\n",
    "# when cross-validating the Random Forest model during training\n",
    "bestRandomForestModel = model.bestModel\n",
    "print('Best param for numTrees is: ', bestRandomForestModel.stages[-1]._java_obj.parent().getNumTrees())\n",
    "print('Best param for seed is: ', bestRandomForestModel.stages[-1]._java_obj.parent().getSeed())\n",
    "print('Best param for maxDepth is: ', bestRandomForestModel.stages[-1]._java_obj.parent().getMaxDepth())"
   ]
  },
  {
   "cell_type": "code",
   "execution_count": 73,
   "metadata": {},
   "outputs": [
    {
     "data": {
      "text/html": [
       "<div>\n",
       "<style scoped>\n",
       "    .dataframe tbody tr th:only-of-type {\n",
       "        vertical-align: middle;\n",
       "    }\n",
       "\n",
       "    .dataframe tbody tr th {\n",
       "        vertical-align: top;\n",
       "    }\n",
       "\n",
       "    .dataframe thead th {\n",
       "        text-align: right;\n",
       "    }\n",
       "</style>\n",
       "<table border=\"1\" class=\"dataframe\">\n",
       "  <thead>\n",
       "    <tr style=\"text-align: right;\">\n",
       "      <th></th>\n",
       "      <th>status</th>\n",
       "      <th>label</th>\n",
       "      <th>prediction</th>\n",
       "      <th>probability</th>\n",
       "    </tr>\n",
       "  </thead>\n",
       "  <tbody>\n",
       "    <tr>\n",
       "      <th>0</th>\n",
       "      <td>1</td>\n",
       "      <td>0.0</td>\n",
       "      <td>0.0</td>\n",
       "      <td>[0.9985806957203186, 0.001419304279681309, 0.0]</td>\n",
       "    </tr>\n",
       "    <tr>\n",
       "      <th>1</th>\n",
       "      <td>1</td>\n",
       "      <td>0.0</td>\n",
       "      <td>0.0</td>\n",
       "      <td>[0.5819444444444445, 0.4180555555555555, 0.0]</td>\n",
       "    </tr>\n",
       "    <tr>\n",
       "      <th>2</th>\n",
       "      <td>1</td>\n",
       "      <td>0.0</td>\n",
       "      <td>0.0</td>\n",
       "      <td>[0.9708333333333334, 0.029166666666666674, 0.0]</td>\n",
       "    </tr>\n",
       "    <tr>\n",
       "      <th>3</th>\n",
       "      <td>0</td>\n",
       "      <td>1.0</td>\n",
       "      <td>0.0</td>\n",
       "      <td>[0.8708333333333333, 0.1291666666666667, 0.0]</td>\n",
       "    </tr>\n",
       "    <tr>\n",
       "      <th>4</th>\n",
       "      <td>1</td>\n",
       "      <td>0.0</td>\n",
       "      <td>0.0</td>\n",
       "      <td>[0.9985806957203186, 0.001419304279681309, 0.0]</td>\n",
       "    </tr>\n",
       "  </tbody>\n",
       "</table>\n",
       "</div>"
      ],
      "text/plain": [
       "   status  label  prediction                                      probability\n",
       "0       1    0.0         0.0  [0.9985806957203186, 0.001419304279681309, 0.0]\n",
       "1       1    0.0         0.0    [0.5819444444444445, 0.4180555555555555, 0.0]\n",
       "2       1    0.0         0.0  [0.9708333333333334, 0.029166666666666674, 0.0]\n",
       "3       0    1.0         0.0    [0.8708333333333333, 0.1291666666666667, 0.0]\n",
       "4       1    0.0         0.0  [0.9985806957203186, 0.001419304279681309, 0.0]"
      ]
     },
     "metadata": {},
     "output_type": "display_data"
    }
   ],
   "source": [
    "showDF(predictions_from_Random_Forest.select(\"status\", \"label\", \"prediction\", \"probability\"))"
   ]
  },
  {
   "cell_type": "markdown",
   "metadata": {},
   "source": [
    "### Train, Cross-Validate, and Optimise Decision Tree and Gradient-Boosted Decision Tree models to compare their predictive performance against the optimal Random Forest model trained above, and select the best-performing model among these three decision tree-based approaches."
   ]
  },
  {
   "cell_type": "code",
   "execution_count": 83,
   "metadata": {},
   "outputs": [
    {
     "name": "stdout",
     "output_type": "stream",
     "text": [
      "252\n"
     ]
    },
    {
     "data": {
      "text/html": [
       "<div>\n",
       "<style scoped>\n",
       "    .dataframe tbody tr th:only-of-type {\n",
       "        vertical-align: middle;\n",
       "    }\n",
       "\n",
       "    .dataframe tbody tr th {\n",
       "        vertical-align: top;\n",
       "    }\n",
       "\n",
       "    .dataframe thead th {\n",
       "        text-align: right;\n",
       "    }\n",
       "</style>\n",
       "<table border=\"1\" class=\"dataframe\">\n",
       "  <thead>\n",
       "    <tr style=\"text-align: right;\">\n",
       "      <th></th>\n",
       "      <th>subject_id</th>\n",
       "      <th>apq_11</th>\n",
       "      <th>apq_3</th>\n",
       "      <th>apq_5</th>\n",
       "      <th>jitter_abs</th>\n",
       "      <th>jitter_percent</th>\n",
       "      <th>ppq</th>\n",
       "      <th>rap</th>\n",
       "      <th>status</th>\n",
       "      <th>features</th>\n",
       "      <th>label</th>\n",
       "      <th>rawPrediction</th>\n",
       "      <th>probability</th>\n",
       "      <th>prediction</th>\n",
       "    </tr>\n",
       "  </thead>\n",
       "  <tbody>\n",
       "    <tr>\n",
       "      <th>0</th>\n",
       "      <td>151</td>\n",
       "      <td>0.08309</td>\n",
       "      <td>0.04866</td>\n",
       "      <td>0.05779</td>\n",
       "      <td>0.000095</td>\n",
       "      <td>0.00870</td>\n",
       "      <td>0.00533</td>\n",
       "      <td>0.00329</td>\n",
       "      <td>1</td>\n",
       "      <td>[0.008700000122189522, 9.549999958835542e-05, ...</td>\n",
       "      <td>0.0</td>\n",
       "      <td>[245.0, 1.0, 0.0]</td>\n",
       "      <td>[0.9959349593495935, 0.0040650406504065045, 0.0]</td>\n",
       "      <td>0.0</td>\n",
       "    </tr>\n",
       "    <tr>\n",
       "      <th>1</th>\n",
       "      <td>6</td>\n",
       "      <td>0.02123</td>\n",
       "      <td>0.01087</td>\n",
       "      <td>0.01250</td>\n",
       "      <td>0.000006</td>\n",
       "      <td>0.00084</td>\n",
       "      <td>0.00041</td>\n",
       "      <td>0.00018</td>\n",
       "      <td>1</td>\n",
       "      <td>[0.0008399999933317304, 5.580000106419902e-06,...</td>\n",
       "      <td>0.0</td>\n",
       "      <td>[1.0, 0.0, 0.0]</td>\n",
       "      <td>[1.0, 0.0, 0.0]</td>\n",
       "      <td>0.0</td>\n",
       "    </tr>\n",
       "    <tr>\n",
       "      <th>2</th>\n",
       "      <td>191</td>\n",
       "      <td>0.03954</td>\n",
       "      <td>0.02140</td>\n",
       "      <td>0.02522</td>\n",
       "      <td>0.000009</td>\n",
       "      <td>0.00121</td>\n",
       "      <td>0.00056</td>\n",
       "      <td>0.00023</td>\n",
       "      <td>1</td>\n",
       "      <td>[0.0012100000167265534, 9.420000424142927e-06,...</td>\n",
       "      <td>0.0</td>\n",
       "      <td>[245.0, 1.0, 0.0]</td>\n",
       "      <td>[0.9959349593495935, 0.0040650406504065045, 0.0]</td>\n",
       "      <td>0.0</td>\n",
       "    </tr>\n",
       "    <tr>\n",
       "      <th>3</th>\n",
       "      <td>210</td>\n",
       "      <td>0.06352</td>\n",
       "      <td>0.02399</td>\n",
       "      <td>0.03212</td>\n",
       "      <td>0.000009</td>\n",
       "      <td>0.00097</td>\n",
       "      <td>0.00059</td>\n",
       "      <td>0.00029</td>\n",
       "      <td>0</td>\n",
       "      <td>[0.0009699999936856329, 8.809999599179719e-06,...</td>\n",
       "      <td>1.0</td>\n",
       "      <td>[245.0, 1.0, 0.0]</td>\n",
       "      <td>[0.9959349593495935, 0.0040650406504065045, 0.0]</td>\n",
       "      <td>0.0</td>\n",
       "    </tr>\n",
       "    <tr>\n",
       "      <th>4</th>\n",
       "      <td>90</td>\n",
       "      <td>0.10453</td>\n",
       "      <td>0.07051</td>\n",
       "      <td>0.08295</td>\n",
       "      <td>0.000062</td>\n",
       "      <td>0.00576</td>\n",
       "      <td>0.00362</td>\n",
       "      <td>0.00189</td>\n",
       "      <td>1</td>\n",
       "      <td>[0.005760000087320805, 6.22000006842427e-05, 0...</td>\n",
       "      <td>0.0</td>\n",
       "      <td>[245.0, 1.0, 0.0]</td>\n",
       "      <td>[0.9959349593495935, 0.0040650406504065045, 0.0]</td>\n",
       "      <td>0.0</td>\n",
       "    </tr>\n",
       "  </tbody>\n",
       "</table>\n",
       "</div>"
      ],
      "text/plain": [
       "  subject_id   apq_11    apq_3    apq_5  jitter_abs  jitter_percent      ppq  \\\n",
       "0        151  0.08309  0.04866  0.05779    0.000095         0.00870  0.00533   \n",
       "1          6  0.02123  0.01087  0.01250    0.000006         0.00084  0.00041   \n",
       "2        191  0.03954  0.02140  0.02522    0.000009         0.00121  0.00056   \n",
       "3        210  0.06352  0.02399  0.03212    0.000009         0.00097  0.00059   \n",
       "4         90  0.10453  0.07051  0.08295    0.000062         0.00576  0.00362   \n",
       "\n",
       "       rap  status                                           features  label  \\\n",
       "0  0.00329       1  [0.008700000122189522, 9.549999958835542e-05, ...    0.0   \n",
       "1  0.00018       1  [0.0008399999933317304, 5.580000106419902e-06,...    0.0   \n",
       "2  0.00023       1  [0.0012100000167265534, 9.420000424142927e-06,...    0.0   \n",
       "3  0.00029       0  [0.0009699999936856329, 8.809999599179719e-06,...    1.0   \n",
       "4  0.00189       1  [0.005760000087320805, 6.22000006842427e-05, 0...    0.0   \n",
       "\n",
       "       rawPrediction                                       probability  \\\n",
       "0  [245.0, 1.0, 0.0]  [0.9959349593495935, 0.0040650406504065045, 0.0]   \n",
       "1    [1.0, 0.0, 0.0]                                   [1.0, 0.0, 0.0]   \n",
       "2  [245.0, 1.0, 0.0]  [0.9959349593495935, 0.0040650406504065045, 0.0]   \n",
       "3  [245.0, 1.0, 0.0]  [0.9959349593495935, 0.0040650406504065045, 0.0]   \n",
       "4  [245.0, 1.0, 0.0]  [0.9959349593495935, 0.0040650406504065045, 0.0]   \n",
       "\n",
       "   prediction  \n",
       "0         0.0  \n",
       "1         0.0  \n",
       "2         0.0  \n",
       "3         0.0  \n",
       "4         0.0  "
      ]
     },
     "metadata": {},
     "output_type": "display_data"
    }
   ],
   "source": [
    "dt = DecisionTreeClassifier(labelCol=\"label\", featuresCol=\"features\")\n",
    "\n",
    "pipeline = Pipeline(stages=[dt])\n",
    "paramGrid = (ParamGridBuilder().addGrid(param=dt.seed, values=[13, 17, 42]).addGrid(param=dt.maxDepth, values=[5, 8, 10]).build())\n",
    "\n",
    "dt_crossval = CrossValidator(\n",
    "    estimator=pipeline,\n",
    "    estimatorParamMaps=paramGrid,\n",
    "    evaluator=weighted_recall_evaluator,\n",
    "    numFolds=numFolds)\n",
    "\n",
    "dt_model = dt_crossval.fit(train)\n",
    "\n",
    "predictions_from_DT = dt_model.transform(test)\n",
    "\n",
    "print(predictions_from_DT.count())\n",
    "showDF(predictions_from_DT)"
   ]
  },
  {
   "cell_type": "code",
   "execution_count": 84,
   "metadata": {},
   "outputs": [
    {
     "name": "stdout",
     "output_type": "stream",
     "text": [
      "Best param for seed is:  13\n",
      "Best param for maxDepth is:  8\n"
     ]
    }
   ],
   "source": [
    "# Visualising the optimal hyperparameters obtained via grid search optimisation\n",
    "# when cross-validating the Decision Tree model during training\n",
    "bestDTModel = dt_model.bestModel\n",
    "print('Best param for seed is: ', bestDTModel.stages[-1]._java_obj.parent().getSeed())\n",
    "print('Best param for maxDepth is: ', bestDTModel.stages[-1]._java_obj.parent().getMaxDepth())"
   ]
  },
  {
   "cell_type": "code",
   "execution_count": 85,
   "metadata": {},
   "outputs": [
    {
     "name": "stdout",
     "output_type": "stream",
     "text": [
      "252\n"
     ]
    },
    {
     "data": {
      "text/html": [
       "<div>\n",
       "<style scoped>\n",
       "    .dataframe tbody tr th:only-of-type {\n",
       "        vertical-align: middle;\n",
       "    }\n",
       "\n",
       "    .dataframe tbody tr th {\n",
       "        vertical-align: top;\n",
       "    }\n",
       "\n",
       "    .dataframe thead th {\n",
       "        text-align: right;\n",
       "    }\n",
       "</style>\n",
       "<table border=\"1\" class=\"dataframe\">\n",
       "  <thead>\n",
       "    <tr style=\"text-align: right;\">\n",
       "      <th></th>\n",
       "      <th>subject_id</th>\n",
       "      <th>apq_11</th>\n",
       "      <th>apq_3</th>\n",
       "      <th>apq_5</th>\n",
       "      <th>jitter_abs</th>\n",
       "      <th>jitter_percent</th>\n",
       "      <th>ppq</th>\n",
       "      <th>rap</th>\n",
       "      <th>status</th>\n",
       "      <th>features</th>\n",
       "      <th>label</th>\n",
       "      <th>rawPrediction</th>\n",
       "      <th>probability</th>\n",
       "      <th>prediction</th>\n",
       "    </tr>\n",
       "  </thead>\n",
       "  <tbody>\n",
       "    <tr>\n",
       "      <th>0</th>\n",
       "      <td>151</td>\n",
       "      <td>0.08309</td>\n",
       "      <td>0.04866</td>\n",
       "      <td>0.05779</td>\n",
       "      <td>0.000095</td>\n",
       "      <td>0.00870</td>\n",
       "      <td>0.00533</td>\n",
       "      <td>0.00329</td>\n",
       "      <td>1</td>\n",
       "      <td>[0.008700000122189522, 9.549999958835542e-05, ...</td>\n",
       "      <td>0.0</td>\n",
       "      <td>[1.5231557166980803, -1.5231557166980803]</td>\n",
       "      <td>[0.9546230131687325, 0.04537698683126745]</td>\n",
       "      <td>0.0</td>\n",
       "    </tr>\n",
       "    <tr>\n",
       "      <th>1</th>\n",
       "      <td>6</td>\n",
       "      <td>0.02123</td>\n",
       "      <td>0.01087</td>\n",
       "      <td>0.01250</td>\n",
       "      <td>0.000006</td>\n",
       "      <td>0.00084</td>\n",
       "      <td>0.00041</td>\n",
       "      <td>0.00018</td>\n",
       "      <td>1</td>\n",
       "      <td>[0.0008399999933317304, 5.580000106419902e-06,...</td>\n",
       "      <td>0.0</td>\n",
       "      <td>[1.1798928565944504, -1.1798928565944504]</td>\n",
       "      <td>[0.913708911571824, 0.08629108842817601]</td>\n",
       "      <td>0.0</td>\n",
       "    </tr>\n",
       "    <tr>\n",
       "      <th>2</th>\n",
       "      <td>191</td>\n",
       "      <td>0.03954</td>\n",
       "      <td>0.02140</td>\n",
       "      <td>0.02522</td>\n",
       "      <td>0.000009</td>\n",
       "      <td>0.00121</td>\n",
       "      <td>0.00056</td>\n",
       "      <td>0.00023</td>\n",
       "      <td>1</td>\n",
       "      <td>[0.0012100000167265534, 9.420000424142927e-06,...</td>\n",
       "      <td>0.0</td>\n",
       "      <td>[1.5686453937407265, -1.5686453937407265]</td>\n",
       "      <td>[0.9584050123916438, 0.041594987608356226]</td>\n",
       "      <td>0.0</td>\n",
       "    </tr>\n",
       "    <tr>\n",
       "      <th>3</th>\n",
       "      <td>210</td>\n",
       "      <td>0.06352</td>\n",
       "      <td>0.02399</td>\n",
       "      <td>0.03212</td>\n",
       "      <td>0.000009</td>\n",
       "      <td>0.00097</td>\n",
       "      <td>0.00059</td>\n",
       "      <td>0.00029</td>\n",
       "      <td>0</td>\n",
       "      <td>[0.0009699999936856329, 8.809999599179719e-06,...</td>\n",
       "      <td>1.0</td>\n",
       "      <td>[1.3846903786537041, -1.3846903786537041]</td>\n",
       "      <td>[0.9409986154312837, 0.059001384568716286]</td>\n",
       "      <td>0.0</td>\n",
       "    </tr>\n",
       "    <tr>\n",
       "      <th>4</th>\n",
       "      <td>90</td>\n",
       "      <td>0.10453</td>\n",
       "      <td>0.07051</td>\n",
       "      <td>0.08295</td>\n",
       "      <td>0.000062</td>\n",
       "      <td>0.00576</td>\n",
       "      <td>0.00362</td>\n",
       "      <td>0.00189</td>\n",
       "      <td>1</td>\n",
       "      <td>[0.005760000087320805, 6.22000006842427e-05, 0...</td>\n",
       "      <td>0.0</td>\n",
       "      <td>[1.5307898458492857, -1.5307898458492857]</td>\n",
       "      <td>[0.9552798303717731, 0.04472016962822689]</td>\n",
       "      <td>0.0</td>\n",
       "    </tr>\n",
       "  </tbody>\n",
       "</table>\n",
       "</div>"
      ],
      "text/plain": [
       "  subject_id   apq_11    apq_3    apq_5  jitter_abs  jitter_percent      ppq  \\\n",
       "0        151  0.08309  0.04866  0.05779    0.000095         0.00870  0.00533   \n",
       "1          6  0.02123  0.01087  0.01250    0.000006         0.00084  0.00041   \n",
       "2        191  0.03954  0.02140  0.02522    0.000009         0.00121  0.00056   \n",
       "3        210  0.06352  0.02399  0.03212    0.000009         0.00097  0.00059   \n",
       "4         90  0.10453  0.07051  0.08295    0.000062         0.00576  0.00362   \n",
       "\n",
       "       rap  status                                           features  label  \\\n",
       "0  0.00329       1  [0.008700000122189522, 9.549999958835542e-05, ...    0.0   \n",
       "1  0.00018       1  [0.0008399999933317304, 5.580000106419902e-06,...    0.0   \n",
       "2  0.00023       1  [0.0012100000167265534, 9.420000424142927e-06,...    0.0   \n",
       "3  0.00029       0  [0.0009699999936856329, 8.809999599179719e-06,...    1.0   \n",
       "4  0.00189       1  [0.005760000087320805, 6.22000006842427e-05, 0...    0.0   \n",
       "\n",
       "                               rawPrediction  \\\n",
       "0  [1.5231557166980803, -1.5231557166980803]   \n",
       "1  [1.1798928565944504, -1.1798928565944504]   \n",
       "2  [1.5686453937407265, -1.5686453937407265]   \n",
       "3  [1.3846903786537041, -1.3846903786537041]   \n",
       "4  [1.5307898458492857, -1.5307898458492857]   \n",
       "\n",
       "                                  probability  prediction  \n",
       "0   [0.9546230131687325, 0.04537698683126745]         0.0  \n",
       "1    [0.913708911571824, 0.08629108842817601]         0.0  \n",
       "2  [0.9584050123916438, 0.041594987608356226]         0.0  \n",
       "3  [0.9409986154312837, 0.059001384568716286]         0.0  \n",
       "4   [0.9552798303717731, 0.04472016962822689]         0.0  "
      ]
     },
     "metadata": {},
     "output_type": "display_data"
    }
   ],
   "source": [
    "gbt = GBTClassifier(labelCol=\"label\", featuresCol=\"features\")\n",
    "\n",
    "pipeline = Pipeline(stages=[gbt])\n",
    "paramGrid = (ParamGridBuilder().addGrid(param=gbt.seed, values=[13, 17, 42]).addGrid(param=gbt.maxDepth, values=[5, 8, 10]).build())\n",
    "\n",
    "gbt_crossval = CrossValidator(\n",
    "    estimator=pipeline,\n",
    "    estimatorParamMaps=paramGrid,\n",
    "    evaluator=weighted_recall_evaluator,\n",
    "    numFolds=numFolds)\n",
    "\n",
    "gbt_model = gbt_crossval.fit(train)\n",
    "\n",
    "predictions_from_GBT = gbt_model.transform(test)\n",
    "\n",
    "print(predictions_from_GBT.count())\n",
    "showDF(predictions_from_GBT)"
   ]
  },
  {
   "cell_type": "code",
   "execution_count": 86,
   "metadata": {},
   "outputs": [
    {
     "name": "stdout",
     "output_type": "stream",
     "text": [
      "Best param for seed is:  13\n",
      "Best param for maxDepth is:  5\n"
     ]
    }
   ],
   "source": [
    "# Visualising the optimal hyperparameters obtained via grid search optimisation\n",
    "# when cross-validating the Gradient-Boosted Tree model during training\n",
    "bestGBTModel = gbt_model.bestModel\n",
    "print('Best param for seed is: ', bestGBTModel.stages[-1]._java_obj.parent().getSeed())\n",
    "print('Best param for maxDepth is: ', bestGBTModel.stages[-1]._java_obj.parent().getMaxDepth())"
   ]
  },
  {
   "cell_type": "markdown",
   "metadata": {},
   "source": [
    "### Leverage the MulticlassClassificationEvaluator to evaluate the accuracy and reliability of the predictions among the three models evaluated to inform the selection of the optimal decision tree-based approach. "
   ]
  },
  {
   "cell_type": "code",
   "execution_count": 87,
   "metadata": {},
   "outputs": [
    {
     "name": "stdout",
     "output_type": "stream",
     "text": [
      "Test set accuracy for the Random Forest = 0.738\n",
      "Test set accuracy for the Decision Tree = 0.75\n",
      "Test set accuracy for the Gradient-Boosted Tree = 0.762\n",
      "Test set weighted precision for the Random Forest = 0.668\n",
      "Test set weighted precision for the Decision Tree = 0.813\n",
      "Test set weighted precision for the Gradient-Boosted Tree = 0.737\n",
      "Test set weighted recall for the Random Forest = 0.738\n",
      "Test set weighted recall for the Decision Tree = 0.75\n",
      "Test set weighted recall for the Gradient-Boosted Tree = 0.762\n",
      "Test set weighted F-measure for the Random Forest = 0.664\n",
      "Test set weighted F-measure for the Decision Tree = 0.647\n",
      "Test set weighted F-measure for the Gradient-Boosted Tree = 0.7\n"
     ]
    }
   ],
   "source": [
    "# compute key evaluation metrics on the test set, i.e., accuracy, \n",
    "# weightedPrecision, weightedRecall, weightedFMeasure\n",
    "\n",
    "precision_vals = 3\n",
    "\n",
    "accuracy_evaluator = MulticlassClassificationEvaluator(labelCol=\"label\", predictionCol=\"prediction\",\n",
    "                                              metricName=\"accuracy\")\n",
    "accuracy_Random_Forest = accuracy_evaluator.evaluate(predictions_from_Random_Forest)\n",
    "print(\"Test set accuracy for the Random Forest = \" + str(round(accuracy_Random_Forest, precision_vals)))\n",
    "accuracy_DT = accuracy_evaluator.evaluate(predictions_from_DT)\n",
    "print(\"Test set accuracy for the Decision Tree = \" + str(round(accuracy_DT, precision_vals)))\n",
    "accuracy_GBT = accuracy_evaluator.evaluate(predictions_from_GBT)\n",
    "print(\"Test set accuracy for the Gradient-Boosted Tree = \" + str(round(accuracy_GBT, precision_vals)))\n",
    "\n",
    "weighted_precision_evaluator = MulticlassClassificationEvaluator(labelCol=\"label\", predictionCol=\"prediction\",\n",
    "                                              metricName=\"weightedPrecision\")\n",
    "weighted_precision_Random_Forest = weighted_precision_evaluator.evaluate(predictions_from_Random_Forest)\n",
    "print(\"Test set weighted precision for the Random Forest = \" + str(round(weighted_precision_Random_Forest, precision_vals)))\n",
    "weighted_precision_DT = weighted_precision_evaluator.evaluate(predictions_from_DT)\n",
    "print(\"Test set weighted precision for the Decision Tree = \" + str(round(weighted_precision_DT, precision_vals)))\n",
    "weighted_precision_GBT = weighted_precision_evaluator.evaluate(predictions_from_GBT)\n",
    "print(\"Test set weighted precision for the Gradient-Boosted Tree = \" + str(round(weighted_precision_GBT, precision_vals)))\n",
    "\n",
    "\n",
    "# Recall is also named as 'sensitivity' or 'true positive rate', and is the key metric to increase in this project.\n",
    "weighted_recall_Random_Forest = weighted_recall_evaluator.evaluate(predictions_from_Random_Forest)\n",
    "print(\"Test set weighted recall for the Random Forest = \" + str(round(weighted_recall_Random_Forest, precision_vals)))\n",
    "weighted_recall_DT = weighted_recall_evaluator.evaluate(predictions_from_DT)\n",
    "print(\"Test set weighted recall for the Decision Tree = \" + str(round(weighted_recall_DT, precision_vals)))\n",
    "weighted_recall_GBT = weighted_recall_evaluator.evaluate(predictions_from_GBT)\n",
    "print(\"Test set weighted recall for the Gradient-Boosted Tree = \" + str(round(weighted_recall_GBT, precision_vals)))\n",
    "\n",
    "# F-measure is also named as 'F-score' or 'F1-score', and is the harmonic mean between precision and recall.\n",
    "weighted_f_measure_evaluator = MulticlassClassificationEvaluator(labelCol=\"label\", predictionCol=\"prediction\",\n",
    "                                              metricName=\"weightedFMeasure\")\n",
    "weighted_f_measure_Random_Forest = weighted_f_measure_evaluator.evaluate(predictions_from_Random_Forest)\n",
    "print(\"Test set weighted F-measure for the Random Forest = \" + str(round(weighted_f_measure_Random_Forest, precision_vals)))\n",
    "weighted_f_measure_DT = weighted_f_measure_evaluator.evaluate(predictions_from_DT)\n",
    "print(\"Test set weighted F-measure for the Decision Tree = \" + str(round(weighted_f_measure_DT, precision_vals)))\n",
    "weighted_f_measure_GBT = weighted_f_measure_evaluator.evaluate(predictions_from_GBT)\n",
    "print(\"Test set weighted F-measure for the Gradient-Boosted Tree = \" + str(round(weighted_f_measure_GBT, precision_vals)))"
   ]
  },
  {
   "cell_type": "markdown",
   "metadata": {},
   "source": [
    "### Insights on predictive performance\n",
    "\n",
    "The initial set of metrics (from the [PR no. 2](https://github.com/marianne-manaog/vs-ml-pd-detector/pull/2)) of a Random Forest model, using \n",
    "80% and 20% of the data split randomly between the train and test sets but without training the model via cross-validation, was as follows:\n",
    "- Test set accuracy = 0.709\n",
    "- Test set weighted precision = 0.706\n",
    "- Test set weighted recall = 0.709\n",
    "- Test set weighted F-measure = 0.707\n",
    "\n",
    "The second set of metrics (from the [PR no. 3](https://github.com/marianne-manaog/vs-ml-pd-detector/pull/3)) of a Random Forest model, using the previously generated data splits to avoid time- and subject-related data leakage (2008-2016 data for training, 2018 data on different subjects for testing) but without training the model via cross-validation, was as follows:\n",
    "- Test set accuracy = 0.75\n",
    "- Test set weighted precision = 0.706\n",
    "- Test set weighted recall = 0.75\n",
    "- Test set weighted F-measure = 0.691\n",
    "\n",
    "The third set of metrics (from the [PR no. 4](https://github.com/marianne-manaog/vs-ml-pd-detector/pull/4)) of a Random Forest model, using the previously generated data splits to avoid time- and subject-related data leakage (2008-2016 data for training, 2018 data on different subjects for testing) but training the model with cross-validation, was as follows:\n",
    "- Test set accuracy = 0.75\n",
    "- Test set weighted precision = 0.813\n",
    "- Test set weighted recall = 0.75\n",
    "- Test set weighted F-measure = 0.647\n",
    "\n",
    "The fourth set of metrics (from the [PR no. 5](https://github.com/marianne-manaog/vs-ml-pd-detector/pull/5)) of a Gradient-Boosted Tree model, using the previously generated data splits to avoid time- and subject-related data leakage (2008-2016 data for training, 2018 data on different subjects for testing) but training the model with cross-validation, was as follows:\n",
    "- Test set accuracy = 0.762\n",
    "- Test set weighted precision = 0.737\n",
    "- Test set weighted recall = 0.762\n",
    "- Test set weighted F-measure = 0.7\n",
    "\n",
    "\n",
    "I.e., the following predictive performance changes have been achieved between the third (Random Forest) and fourth (Gradient-Boosted Tree) set of metrics:\n",
    "- Increased accuracy by 1.2%\n",
    "- Decreased weighted precision by 7.6%\n",
    "- Increased weighted recall by 1.2%\n",
    "- Increased weighted F-measure by 5.3%\n",
    "\n",
    "Thus, overall and considering that the weighted recall is the key metric to increase in this project, the predictive performance of the Gradient-Boosted model was found slightly higher than the Random Forest and the Decision Tree models. Thus, the Gradient-Boosted model was selected as the optimal one for this project."
   ]
  },
  {
   "cell_type": "code",
   "execution_count": null,
   "metadata": {
    "scrolled": true
   },
   "outputs": [],
   "source": [
    "# session.execute(\"\"\"drop table speech_data\"\"\")"
   ]
  }
 ],
 "metadata": {
  "kernelspec": {
   "display_name": "vs-l-pd-detector",
   "language": "python",
   "name": "vs-l-pd-detector"
  },
  "language_info": {
   "codemirror_mode": {
    "name": "ipython",
    "version": 3
   },
   "file_extension": ".py",
   "mimetype": "text/x-python",
   "name": "python",
   "nbconvert_exporter": "python",
   "pygments_lexer": "ipython3",
   "version": "3.8.8"
  }
 },
 "nbformat": 4,
 "nbformat_minor": 4
}
