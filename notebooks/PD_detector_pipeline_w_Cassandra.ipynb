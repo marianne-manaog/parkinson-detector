{
 "cells": [
  {
   "cell_type": "markdown",
   "metadata": {},
   "source": [
    "# Parkinson's Disease Detector with Apache Cassandra and PySpark Machine Learning"
   ]
  },
  {
   "cell_type": "markdown",
   "metadata": {},
   "source": [
    "#### Jupyter notebook inspired by the template at https://github.com/datastaxdevs/workshop-machine-learning/blob/master/jupyter/Random%20Forest.ipynb"
   ]
  },
  {
   "cell_type": "code",
   "execution_count": null,
   "metadata": {},
   "outputs": [],
   "source": [
    "!pip install cassandra-driver --quiet\n",
    "!pip install matplotlib --quiet\n",
    "!pip install ipykernel --quiet\n",
    "!pip install scikit-learn --quiet\n",
    "!python3 -m ipykernel install --user --name=vs-l-pd-detector\n",
    "\n",
    "!PYDEVD_DISABLE_FILE_VALIDATION=1"
   ]
  },
  {
   "cell_type": "code",
   "execution_count": null,
   "metadata": {},
   "outputs": [],
   "source": [
    "import os\n",
    "import random\n",
    "import re\n",
    "import warnings\n",
    "\n",
    "import cassandra\n",
    "import matplotlib.pyplot as plt\n",
    "import numpy as np\n",
    "import pandas as pd\n",
    "import seaborn as sns\n",
    "\n",
    "from IPython.display import display, Markdown\n",
    "from random import randint, randrange\n",
    "\n",
    "from cassandra.cluster import Cluster\n",
    "from cassandra.policies import DCAwareRoundRobinPolicy\n",
    "\n",
    "from scipy import stats\n",
    "\n",
    "from sklearn.ensemble import GradientBoostingClassifier\n",
    "from sklearn.metrics import classification_report, make_scorer, recall_score\n",
    "from sklearn.model_selection import GridSearchCV\n",
    "from sklearn.neighbors import KNeighborsClassifier\n",
    "from sklearn.pipeline import Pipeline\n",
    "\n",
    "\n",
    "warnings.filterwarnings('ignore')\n",
    "%matplotlib inline"
   ]
  },
  {
   "cell_type": "markdown",
   "metadata": {},
   "source": [
    "## Set up Apache Cassandra"
   ]
  },
  {
   "cell_type": "code",
   "execution_count": 3,
   "metadata": {},
   "outputs": [],
   "source": [
    "# Install the latest version of Cassandra (4.1.3) from https://www.apache.org/dyn/closer.lua/cassandra/4.1.3/apache-cassandra-4.1.3-bin.tar.gz"
   ]
  },
  {
   "cell_type": "code",
   "execution_count": null,
   "metadata": {},
   "outputs": [],
   "source": [
    "# Install GPG to verify the hash of the downloaded tarball\n",
    "!arch -arm64 brew install gnupg gnupg2\n",
    "\n",
    "# Link GPG\n",
    "!brew link gnupg\n",
    "\n",
    "!gpg --print-md SHA256 apache-cassandra-4.1.3-bin.tar.gz\n",
    "\n",
    "# Compare the signature with the SHA256 file from the Downloads site\n",
    "!curl -L https://downloads.apache.org/cassandra/4.1.3/apache-cassandra-4.1.3-bin.tar.gz.sha256\n",
    "\n",
    "# Unpack the tarball\n",
    "!tar xzvf apache-cassandra-4.1.3-bin.tar.gz\n",
    "\n",
    "os.chdir('apache-cassandra-4.1.3')\n",
    "\n",
    "!bin/cassandra\n",
    "\n",
    "# Verify cassandra installation by checking its version number\n",
    "!cassandra -v\n",
    "\n",
    "# Start the cassandra server on the terminal\n",
    "# !cassandra -f"
   ]
  },
  {
   "cell_type": "markdown",
   "metadata": {},
   "source": [
    "## Creating and loading tables"
   ]
  },
  {
   "cell_type": "markdown",
   "metadata": {},
   "source": [
    "### Connect to Cassandra"
   ]
  },
  {
   "cell_type": "code",
   "execution_count": 5,
   "metadata": {},
   "outputs": [],
   "source": [
    "# Get the IP address by running 'cqlsh' on the terminal\n",
    "cluster = Cluster(['127.0.0.1'], protocol_version=5, load_balancing_policy=DCAwareRoundRobinPolicy())\n",
    "session = cluster.connect()"
   ]
  },
  {
   "cell_type": "markdown",
   "metadata": {},
   "source": [
    "### Create and set keyspace "
   ]
  },
  {
   "cell_type": "code",
   "execution_count": 6,
   "metadata": {},
   "outputs": [],
   "source": [
    "session.execute(\"\"\"\n",
    "    CREATE KEYSPACE IF NOT EXISTS parkinson \n",
    "    WITH REPLICATION = \n",
    "    { 'class' : 'SimpleStrategy', 'replication_factor' : 1 }\"\"\"\n",
    ")\n",
    "\n",
    "session.set_keyspace('parkinson')"
   ]
  },
  {
   "cell_type": "markdown",
   "metadata": {},
   "source": [
    "### Create two tables called `speech_data_train` and `speech_data_test` containing the train and test sets respectively. The PRIMARY will be a unique key (subject_id) for each row."
   ]
  },
  {
   "cell_type": "code",
   "execution_count": 7,
   "metadata": {},
   "outputs": [
    {
     "data": {
      "text/plain": [
       "<cassandra.cluster.ResultSet at 0x145aa7810>"
      ]
     },
     "execution_count": 7,
     "metadata": {},
     "output_type": "execute_result"
    }
   ],
   "source": [
    "query = \"CREATE TABLE IF NOT EXISTS speech_data_train \\\n",
    "                                   (subject_id text, jitter_percent float, jitter_abs float, rap float, ppq float, \\\n",
    "                                   apq_3 float, apq_5 float, apq_11 float, status int, \\\n",
    "                                   PRIMARY KEY (subject_id))\"\n",
    "session.execute(query)"
   ]
  },
  {
   "cell_type": "code",
   "execution_count": 8,
   "metadata": {},
   "outputs": [
    {
     "data": {
      "text/plain": [
       "<cassandra.cluster.ResultSet at 0x145aa7f90>"
      ]
     },
     "execution_count": 8,
     "metadata": {},
     "output_type": "execute_result"
    }
   ],
   "source": [
    "query = \"CREATE TABLE IF NOT EXISTS speech_data_test \\\n",
    "                                   (subject_id text, jitter_percent float, jitter_abs float, rap float, ppq float, \\\n",
    "                                   apq_3 float, apq_5 float, apq_11 float, status int, \\\n",
    "                                   PRIMARY KEY (subject_id))\"\n",
    "session.execute(query)"
   ]
  },
  {
   "cell_type": "markdown",
   "metadata": {},
   "source": [
    "### Load the train and test datasets from csv files\n",
    "\n",
    "#### Insert train and test speech data into the tables `speech_data_train` and `speech_data_test` respectively"
   ]
  },
  {
   "cell_type": "code",
   "execution_count": 9,
   "metadata": {},
   "outputs": [],
   "source": [
    "fileName = '/Users/mariannelynemanaog/PycharmProjects/vs-ml-pd-detector/src/data/train_and_test_sets/train_data.csv'\n",
    "input_file = open(fileName, 'r')\n",
    "i = 1\n",
    "for line_number, line in enumerate(input_file):\n",
    "    if line_number == 0:\n",
    "        continue  # Skip the first line, as it has the header with the column names\n",
    "    subject_id = i\n",
    "    row = line.replace('\\n', \"\").split(',')\n",
    "    \n",
    "    query = \"INSERT INTO speech_data_train (subject_id, jitter_percent, jitter_abs, rap, ppq, \\\n",
    "                               apq_3, apq_5, apq_11, status)\"\n",
    "    query = query + \" VALUES (%s, %s, %s, %s, %s, %s, %s, %s, %s)\"\n",
    "    session.execute(query, (str(row[0]), float(row[1]), float(row[2]), float(row[3]), float(row[4]), float(row[5]), float(row[6]), float(row[7]), int(row[8])))\n",
    "    i = i + 1\n",
    "\n",
    "fileName = '/Users/mariannelynemanaog/PycharmProjects/vs-ml-pd-detector/src/data/train_and_test_sets/test_data.csv'\n",
    "input_file = open(fileName, 'r')\n",
    "\n",
    "for line_number, line in enumerate(input_file):\n",
    "    if line_number == 0:\n",
    "        continue  # Skip the first line, as it has the header with the column names\n",
    "    subject_id = i\n",
    "    row = line.replace('\\n', \"\").split(',')\n",
    "        \n",
    "    query = \"INSERT INTO speech_data_test (subject_id, jitter_percent, jitter_abs, rap, ppq, \\\n",
    "                               apq_3, apq_5, apq_11, status)\"\n",
    "    query = query + \" VALUES (%s, %s, %s, %s, %s, %s, %s, %s, %s)\"\n",
    "    session.execute(query, (str(row[0]), float(row[1]), float(row[2]), float(row[3]), float(row[4]), float(row[5]), float(row[6]), float(row[7]), int(row[8])))\n",
    "    i = i + 1\n",
    "    "
   ]
  },
  {
   "cell_type": "markdown",
   "metadata": {},
   "source": [
    "## Machine Learning with Apache Cassandra and sklearn"
   ]
  },
  {
   "cell_type": "code",
   "execution_count": 10,
   "metadata": {},
   "outputs": [],
   "source": [
    "rows_train = session.execute('select * from speech_data_train;')\n",
    "df_train = pd.DataFrame(list(rows_train))\n",
    "\n",
    "rows_test = session.execute('select * from speech_data_test;')\n",
    "df_test = pd.DataFrame(list(rows_test))"
   ]
  },
  {
   "cell_type": "markdown",
   "metadata": {},
   "source": [
    "#### Identify and remove multi-collinear features"
   ]
  },
  {
   "cell_type": "code",
   "execution_count": 11,
   "metadata": {},
   "outputs": [
    {
     "data": {
      "image/png": "[encoded data removed]",
      "text/plain": [
       "<Figure size 800x600 with 2 Axes>"
      ]
     },
     "metadata": {},
     "output_type": "display_data"
    }
   ],
   "source": [
    "# Calculate the correlation matrix on the numeric columns\n",
    "correl_matrix = df_train.iloc[:, 1:8].corr(method='kendall')\n",
    "\n",
    "# Create a heatmap with correlation strengths as annotations\n",
    "fig, ax = plt.subplots(figsize=(8, 6))\n",
    "\n",
    "cax = ax.matshow(correl_matrix, cmap='coolwarm')\n",
    "\n",
    "cbar = fig.colorbar(cax)\n",
    "\n",
    "# Add annotations\n",
    "for i in range(correl_matrix.shape[0]):\n",
    "    for j in range(correl_matrix.shape[1]):\n",
    "        ax.text(j, i, f'{correl_matrix.iloc[i, j]:.2f}', ha='center', va='center', color='black', fontsize=10)\n",
    "\n",
    "plt.xticks(range(len(correl_matrix.columns)), correl_matrix.columns, rotation=45)\n",
    "plt.yticks(range(len(correl_matrix.columns)), correl_matrix.columns)\n",
    "\n",
    "plt.show()"
   ]
  },
  {
   "cell_type": "markdown",
   "metadata": {},
   "source": [
    "The features that bring unique information to discriminate between pathophysiological and healthy speech patterns \n",
    "are the following ones:\n",
    "- apq11, as no other numeric features are highly correlated with it\n",
    "- apq3, whilst the multi-collinear (e.g., > 0.7) apq5 and ppq are suggested to be removed since they are not adding \n",
    "any further unique information with respect to apq3\n",
    "- jitter_percent, whilst the multi-collinear (e.g., > 0.7) jitter_abs and rap are suggested to be removed since they are not adding any further unique information with respect to jitter_percent."
   ]
  },
  {
   "cell_type": "code",
   "execution_count": 12,
   "metadata": {},
   "outputs": [
    {
     "data": {
      "text/html": [
       "<div>\n",
       "<style scoped>\n",
       "    .dataframe tbody tr th:only-of-type {\n",
       "        vertical-align: middle;\n",
       "    }\n",
       "\n",
       "    .dataframe tbody tr th {\n",
       "        vertical-align: top;\n",
       "    }\n",
       "\n",
       "    .dataframe thead th {\n",
       "        text-align: right;\n",
       "    }\n",
       "</style>\n",
       "<table border=\"1\" class=\"dataframe\">\n",
       "  <thead>\n",
       "    <tr style=\"text-align: right;\">\n",
       "      <th></th>\n",
       "      <th>apq_11</th>\n",
       "      <th>apq_3</th>\n",
       "      <th>jitter_percent</th>\n",
       "      <th>status</th>\n",
       "    </tr>\n",
       "  </thead>\n",
       "  <tbody>\n",
       "    <tr>\n",
       "      <th>count</th>\n",
       "      <td>1503.000000</td>\n",
       "      <td>1503.000000</td>\n",
       "      <td>1503.000000</td>\n",
       "      <td>1503.000000</td>\n",
       "    </tr>\n",
       "    <tr>\n",
       "      <th>mean</th>\n",
       "      <td>1.405134</td>\n",
       "      <td>8.734374</td>\n",
       "      <td>0.889277</td>\n",
       "      <td>0.596141</td>\n",
       "    </tr>\n",
       "    <tr>\n",
       "      <th>std</th>\n",
       "      <td>2.872461</td>\n",
       "      <td>7.265618</td>\n",
       "      <td>0.982743</td>\n",
       "      <td>0.490833</td>\n",
       "    </tr>\n",
       "    <tr>\n",
       "      <th>min</th>\n",
       "      <td>0.006070</td>\n",
       "      <td>0.003630</td>\n",
       "      <td>0.000005</td>\n",
       "      <td>0.000000</td>\n",
       "    </tr>\n",
       "    <tr>\n",
       "      <th>25%</th>\n",
       "      <td>0.682797</td>\n",
       "      <td>2.183000</td>\n",
       "      <td>0.015595</td>\n",
       "      <td>0.000000</td>\n",
       "    </tr>\n",
       "    <tr>\n",
       "      <th>50%</th>\n",
       "      <td>0.840368</td>\n",
       "      <td>8.649000</td>\n",
       "      <td>0.696000</td>\n",
       "      <td>1.000000</td>\n",
       "    </tr>\n",
       "    <tr>\n",
       "      <th>75%</th>\n",
       "      <td>0.911487</td>\n",
       "      <td>13.412000</td>\n",
       "      <td>1.299000</td>\n",
       "      <td>1.000000</td>\n",
       "    </tr>\n",
       "    <tr>\n",
       "      <th>max</th>\n",
       "      <td>39.007999</td>\n",
       "      <td>44.764000</td>\n",
       "      <td>8.016000</td>\n",
       "      <td>1.000000</td>\n",
       "    </tr>\n",
       "  </tbody>\n",
       "</table>\n",
       "</div>"
      ],
      "text/plain": [
       "            apq_11        apq_3  jitter_percent       status\n",
       "count  1503.000000  1503.000000     1503.000000  1503.000000\n",
       "mean      1.405134     8.734374        0.889277     0.596141\n",
       "std       2.872461     7.265618        0.982743     0.490833\n",
       "min       0.006070     0.003630        0.000005     0.000000\n",
       "25%       0.682797     2.183000        0.015595     0.000000\n",
       "50%       0.840368     8.649000        0.696000     1.000000\n",
       "75%       0.911487    13.412000        1.299000     1.000000\n",
       "max      39.007999    44.764000        8.016000     1.000000"
      ]
     },
     "execution_count": 12,
     "metadata": {},
     "output_type": "execute_result"
    }
   ],
   "source": [
    "unique_feats_to_retain = ['subject_id', 'apq_11', 'apq_3', 'jitter_percent', 'status']\n",
    "df_train = df_train[unique_feats_to_retain]\n",
    "\n",
    "df_train.describe()"
   ]
  },
  {
   "cell_type": "code",
   "execution_count": 13,
   "metadata": {},
   "outputs": [
    {
     "data": {
      "text/html": [
       "<div>\n",
       "<style scoped>\n",
       "    .dataframe tbody tr th:only-of-type {\n",
       "        vertical-align: middle;\n",
       "    }\n",
       "\n",
       "    .dataframe tbody tr th {\n",
       "        vertical-align: top;\n",
       "    }\n",
       "\n",
       "    .dataframe thead th {\n",
       "        text-align: right;\n",
       "    }\n",
       "</style>\n",
       "<table border=\"1\" class=\"dataframe\">\n",
       "  <thead>\n",
       "    <tr style=\"text-align: right;\">\n",
       "      <th></th>\n",
       "      <th>apq_11</th>\n",
       "      <th>apq_3</th>\n",
       "      <th>jitter_percent</th>\n",
       "      <th>status</th>\n",
       "    </tr>\n",
       "  </thead>\n",
       "  <tbody>\n",
       "    <tr>\n",
       "      <th>count</th>\n",
       "      <td>252.000000</td>\n",
       "      <td>252.000000</td>\n",
       "      <td>252.000000</td>\n",
       "      <td>252.000000</td>\n",
       "    </tr>\n",
       "    <tr>\n",
       "      <th>mean</th>\n",
       "      <td>0.053749</td>\n",
       "      <td>0.034021</td>\n",
       "      <td>0.002263</td>\n",
       "      <td>0.746032</td>\n",
       "    </tr>\n",
       "    <tr>\n",
       "      <th>std</th>\n",
       "      <td>0.031213</td>\n",
       "      <td>0.022342</td>\n",
       "      <td>0.002632</td>\n",
       "      <td>0.436146</td>\n",
       "    </tr>\n",
       "    <tr>\n",
       "      <th>min</th>\n",
       "      <td>0.005220</td>\n",
       "      <td>0.003350</td>\n",
       "      <td>0.000210</td>\n",
       "      <td>0.000000</td>\n",
       "    </tr>\n",
       "    <tr>\n",
       "      <th>25%</th>\n",
       "      <td>0.029327</td>\n",
       "      <td>0.017240</td>\n",
       "      <td>0.000998</td>\n",
       "      <td>0.000000</td>\n",
       "    </tr>\n",
       "    <tr>\n",
       "      <th>50%</th>\n",
       "      <td>0.047195</td>\n",
       "      <td>0.027325</td>\n",
       "      <td>0.001440</td>\n",
       "      <td>1.000000</td>\n",
       "    </tr>\n",
       "    <tr>\n",
       "      <th>75%</th>\n",
       "      <td>0.071335</td>\n",
       "      <td>0.044585</td>\n",
       "      <td>0.002395</td>\n",
       "      <td>1.000000</td>\n",
       "    </tr>\n",
       "    <tr>\n",
       "      <th>max</th>\n",
       "      <td>0.167680</td>\n",
       "      <td>0.130510</td>\n",
       "      <td>0.027750</td>\n",
       "      <td>1.000000</td>\n",
       "    </tr>\n",
       "  </tbody>\n",
       "</table>\n",
       "</div>"
      ],
      "text/plain": [
       "           apq_11       apq_3  jitter_percent      status\n",
       "count  252.000000  252.000000      252.000000  252.000000\n",
       "mean     0.053749    0.034021        0.002263    0.746032\n",
       "std      0.031213    0.022342        0.002632    0.436146\n",
       "min      0.005220    0.003350        0.000210    0.000000\n",
       "25%      0.029327    0.017240        0.000998    0.000000\n",
       "50%      0.047195    0.027325        0.001440    1.000000\n",
       "75%      0.071335    0.044585        0.002395    1.000000\n",
       "max      0.167680    0.130510        0.027750    1.000000"
      ]
     },
     "execution_count": 13,
     "metadata": {},
     "output_type": "execute_result"
    }
   ],
   "source": [
    "df_test = df_test[unique_feats_to_retain]\n",
    "\n",
    "df_test.describe()"
   ]
  },
  {
   "cell_type": "markdown",
   "metadata": {},
   "source": [
    "#### Remove outliers from train and test sets via z-scores"
   ]
  },
  {
   "cell_type": "code",
   "execution_count": 14,
   "metadata": {},
   "outputs": [
    {
     "data": {
      "text/html": [
       "<div>\n",
       "<style scoped>\n",
       "    .dataframe tbody tr th:only-of-type {\n",
       "        vertical-align: middle;\n",
       "    }\n",
       "\n",
       "    .dataframe tbody tr th {\n",
       "        vertical-align: top;\n",
       "    }\n",
       "\n",
       "    .dataframe thead th {\n",
       "        text-align: right;\n",
       "    }\n",
       "</style>\n",
       "<table border=\"1\" class=\"dataframe\">\n",
       "  <thead>\n",
       "    <tr style=\"text-align: right;\">\n",
       "      <th></th>\n",
       "      <th>apq_11</th>\n",
       "      <th>apq_3</th>\n",
       "      <th>jitter_percent</th>\n",
       "      <th>status</th>\n",
       "    </tr>\n",
       "  </thead>\n",
       "  <tbody>\n",
       "    <tr>\n",
       "      <th>count</th>\n",
       "      <td>1446.000000</td>\n",
       "      <td>1446.000000</td>\n",
       "      <td>1446.000000</td>\n",
       "      <td>1446.000000</td>\n",
       "    </tr>\n",
       "    <tr>\n",
       "      <th>mean</th>\n",
       "      <td>1.104668</td>\n",
       "      <td>8.515723</td>\n",
       "      <td>0.834364</td>\n",
       "      <td>0.587828</td>\n",
       "    </tr>\n",
       "    <tr>\n",
       "      <th>std</th>\n",
       "      <td>1.720087</td>\n",
       "      <td>6.939063</td>\n",
       "      <td>0.792473</td>\n",
       "      <td>0.492396</td>\n",
       "    </tr>\n",
       "    <tr>\n",
       "      <th>min</th>\n",
       "      <td>0.006070</td>\n",
       "      <td>0.003630</td>\n",
       "      <td>0.000005</td>\n",
       "      <td>0.000000</td>\n",
       "    </tr>\n",
       "    <tr>\n",
       "      <th>25%</th>\n",
       "      <td>0.683534</td>\n",
       "      <td>1.892500</td>\n",
       "      <td>0.098000</td>\n",
       "      <td>0.000000</td>\n",
       "    </tr>\n",
       "    <tr>\n",
       "      <th>50%</th>\n",
       "      <td>0.840173</td>\n",
       "      <td>8.643000</td>\n",
       "      <td>0.701500</td>\n",
       "      <td>1.000000</td>\n",
       "    </tr>\n",
       "    <tr>\n",
       "      <th>75%</th>\n",
       "      <td>0.907474</td>\n",
       "      <td>13.280250</td>\n",
       "      <td>1.268750</td>\n",
       "      <td>1.000000</td>\n",
       "    </tr>\n",
       "    <tr>\n",
       "      <th>max</th>\n",
       "      <td>11.245000</td>\n",
       "      <td>33.550999</td>\n",
       "      <td>4.158000</td>\n",
       "      <td>1.000000</td>\n",
       "    </tr>\n",
       "  </tbody>\n",
       "</table>\n",
       "</div>"
      ],
      "text/plain": [
       "            apq_11        apq_3  jitter_percent       status\n",
       "count  1446.000000  1446.000000     1446.000000  1446.000000\n",
       "mean      1.104668     8.515723        0.834364     0.587828\n",
       "std       1.720087     6.939063        0.792473     0.492396\n",
       "min       0.006070     0.003630        0.000005     0.000000\n",
       "25%       0.683534     1.892500        0.098000     0.000000\n",
       "50%       0.840173     8.643000        0.701500     1.000000\n",
       "75%       0.907474    13.280250        1.268750     1.000000\n",
       "max      11.245000    33.550999        4.158000     1.000000"
      ]
     },
     "execution_count": 14,
     "metadata": {},
     "output_type": "execute_result"
    }
   ],
   "source": [
    "columns_to_process = ['apq_11', 'apq_3', 'jitter_percent']\n",
    "\n",
    "z_score_thresh_train = 3.5\n",
    "z_score_thresh_test = 1\n",
    "\n",
    "for col in columns_to_process:\n",
    "    df_train = df_train[(np.abs(stats.zscore(df_train[col])) < z_score_thresh_train)]\n",
    "\n",
    "df_train.describe()"
   ]
  },
  {
   "cell_type": "code",
   "execution_count": 15,
   "metadata": {},
   "outputs": [
    {
     "data": {
      "text/html": [
       "<div>\n",
       "<style scoped>\n",
       "    .dataframe tbody tr th:only-of-type {\n",
       "        vertical-align: middle;\n",
       "    }\n",
       "\n",
       "    .dataframe tbody tr th {\n",
       "        vertical-align: top;\n",
       "    }\n",
       "\n",
       "    .dataframe thead th {\n",
       "        text-align: right;\n",
       "    }\n",
       "</style>\n",
       "<table border=\"1\" class=\"dataframe\">\n",
       "  <thead>\n",
       "    <tr style=\"text-align: right;\">\n",
       "      <th></th>\n",
       "      <th>apq_11</th>\n",
       "      <th>apq_3</th>\n",
       "      <th>jitter_percent</th>\n",
       "      <th>status</th>\n",
       "    </tr>\n",
       "  </thead>\n",
       "  <tbody>\n",
       "    <tr>\n",
       "      <th>count</th>\n",
       "      <td>117.000000</td>\n",
       "      <td>117.000000</td>\n",
       "      <td>117.000000</td>\n",
       "      <td>117.000000</td>\n",
       "    </tr>\n",
       "    <tr>\n",
       "      <th>mean</th>\n",
       "      <td>0.043668</td>\n",
       "      <td>0.026562</td>\n",
       "      <td>0.001416</td>\n",
       "      <td>0.777778</td>\n",
       "    </tr>\n",
       "    <tr>\n",
       "      <th>std</th>\n",
       "      <td>0.013817</td>\n",
       "      <td>0.007969</td>\n",
       "      <td>0.000582</td>\n",
       "      <td>0.417528</td>\n",
       "    </tr>\n",
       "    <tr>\n",
       "      <th>min</th>\n",
       "      <td>0.022980</td>\n",
       "      <td>0.014900</td>\n",
       "      <td>0.000510</td>\n",
       "      <td>0.000000</td>\n",
       "    </tr>\n",
       "    <tr>\n",
       "      <th>25%</th>\n",
       "      <td>0.032480</td>\n",
       "      <td>0.020490</td>\n",
       "      <td>0.001030</td>\n",
       "      <td>1.000000</td>\n",
       "    </tr>\n",
       "    <tr>\n",
       "      <th>50%</th>\n",
       "      <td>0.041140</td>\n",
       "      <td>0.025030</td>\n",
       "      <td>0.001370</td>\n",
       "      <td>1.000000</td>\n",
       "    </tr>\n",
       "    <tr>\n",
       "      <th>75%</th>\n",
       "      <td>0.054670</td>\n",
       "      <td>0.032740</td>\n",
       "      <td>0.001800</td>\n",
       "      <td>1.000000</td>\n",
       "    </tr>\n",
       "    <tr>\n",
       "      <th>max</th>\n",
       "      <td>0.081370</td>\n",
       "      <td>0.044930</td>\n",
       "      <td>0.003160</td>\n",
       "      <td>1.000000</td>\n",
       "    </tr>\n",
       "  </tbody>\n",
       "</table>\n",
       "</div>"
      ],
      "text/plain": [
       "           apq_11       apq_3  jitter_percent      status\n",
       "count  117.000000  117.000000      117.000000  117.000000\n",
       "mean     0.043668    0.026562        0.001416    0.777778\n",
       "std      0.013817    0.007969        0.000582    0.417528\n",
       "min      0.022980    0.014900        0.000510    0.000000\n",
       "25%      0.032480    0.020490        0.001030    1.000000\n",
       "50%      0.041140    0.025030        0.001370    1.000000\n",
       "75%      0.054670    0.032740        0.001800    1.000000\n",
       "max      0.081370    0.044930        0.003160    1.000000"
      ]
     },
     "execution_count": 15,
     "metadata": {},
     "output_type": "execute_result"
    }
   ],
   "source": [
    "for col in columns_to_process:\n",
    "    df_test = df_test[(np.abs(stats.zscore(df_test[col])) < z_score_thresh_test)]\n",
    "\n",
    "df_test.describe()"
   ]
  },
  {
   "cell_type": "code",
   "execution_count": 16,
   "metadata": {},
   "outputs": [
    {
     "data": {
      "text/plain": [
       "status\n",
       "1    850\n",
       "0    596\n",
       "Name: count, dtype: int64"
      ]
     },
     "execution_count": 16,
     "metadata": {},
     "output_type": "execute_result"
    }
   ],
   "source": [
    "df_train['status'].value_counts()"
   ]
  },
  {
   "cell_type": "code",
   "execution_count": 17,
   "metadata": {},
   "outputs": [
    {
     "name": "stdout",
     "output_type": "stream",
     "text": [
      "status\n",
      "0    596\n",
      "1    596\n",
      "Name: count, dtype: int64\n"
     ]
    }
   ],
   "source": [
    "# Balance samples per each class in the training data\n",
    "# to ensure generalisable learning/training\n",
    "status_counts = df_train['status'].value_counts()\n",
    "\n",
    "# Get number of rows to retain for 'status = 1'\n",
    "desired_count = status_counts[0]\n",
    "\n",
    "# Sample 596 rows with 'status = 1'\n",
    "balanced_df_train_status_1 = df_train[df_train['status'] == 1].sample(n=desired_count, random_state=0)\n",
    "\n",
    "balanced_df_train_status_0 = df_train[df_train['status'] == 0]\n",
    "\n",
    "# Retain all balanced rows/samples\n",
    "df_train = pd.concat([balanced_df_train_status_0, balanced_df_train_status_1])\n",
    "\n",
    "# balanced_df contains 596 rows with 'status = 1' and all (596) rows with 'status = 0'\n",
    "print(df_train['status'].value_counts())"
   ]
  },
  {
   "cell_type": "code",
   "execution_count": 18,
   "metadata": {},
   "outputs": [
    {
     "data": {
      "text/plain": [
       "status\n",
       "1    91\n",
       "0    26\n",
       "Name: count, dtype: int64"
      ]
     },
     "execution_count": 18,
     "metadata": {},
     "output_type": "execute_result"
    }
   ],
   "source": [
    "df_test['status'].value_counts()"
   ]
  },
  {
   "cell_type": "code",
   "execution_count": 25,
   "metadata": {},
   "outputs": [
    {
     "name": "stdout",
     "output_type": "stream",
     "text": [
      "              precision    recall  f1-score   support\n",
      "\n",
      "           0       1.00      1.00      1.00       596\n",
      "           1       1.00      1.00      1.00       596\n",
      "\n",
      "    accuracy                           1.00      1192\n",
      "   macro avg       1.00      1.00      1.00      1192\n",
      "weighted avg       1.00      1.00      1.00      1192\n",
      "\n"
     ]
    }
   ],
   "source": [
    "train_features = df_train.iloc[:, 1:4]\n",
    "train_labels = df_train.iloc[:, 4]\n",
    "\n",
    "# Create a KNeighborsClassifier with cross-validated hyperparameter tuning\n",
    "knn_classifier = KNeighborsClassifier(\n",
    "    weights='distance',\n",
    "    n_neighbors=2,\n",
    "    p=0.5,\n",
    "    leaf_size=6,\n",
    "    algorithm='brute'\n",
    ")\n",
    "\n",
    "param_grid = {\n",
    "    'weights': ['uniform', 'distance'],\n",
    "    'leaf_size': [6, 8, 12, 15, 30],\n",
    "    'p': [1, 2]  # 1 for Manhattan distance, 2 for Euclidean distance\n",
    "}\n",
    "\n",
    "grid_search = GridSearchCV(estimator=knn_classifier, param_grid=param_grid, cv=5, scoring='recall')\n",
    "\n",
    "grid_search.fit(train_features, train_labels)\n",
    "\n",
    "best_knn_classifier = grid_search.best_estimator_\n",
    "\n",
    "train_predictions_from_KNN = best_knn_classifier.predict(train_features)\n",
    "\n",
    "print(classification_report(train_labels, train_predictions_from_KNN))"
   ]
  },
  {
   "cell_type": "code",
   "execution_count": 26,
   "metadata": {},
   "outputs": [
    {
     "name": "stdout",
     "output_type": "stream",
     "text": [
      "              precision    recall  f1-score   support\n",
      "\n",
      "           0       1.00      1.00      1.00       596\n",
      "           1       1.00      1.00      1.00       596\n",
      "\n",
      "    accuracy                           1.00      1192\n",
      "   macro avg       1.00      1.00      1.00      1192\n",
      "weighted avg       1.00      1.00      1.00      1192\n",
      "\n"
     ]
    }
   ],
   "source": [
    "train_probas_from_KNN = best_knn_classifier.predict_proba(train_features)\n",
    "\n",
    "preds_based_on_proba = []\n",
    "for test_proba in train_probas_from_KNN:\n",
    "    if test_proba[1] > 0.4:\n",
    "        pred = 1\n",
    "    else:\n",
    "        pred = 0\n",
    "    preds_based_on_proba.append(pred)\n",
    "\n",
    "print(classification_report(train_labels, preds_based_on_proba))"
   ]
  },
  {
   "cell_type": "code",
   "execution_count": 27,
   "metadata": {},
   "outputs": [
    {
     "name": "stdout",
     "output_type": "stream",
     "text": [
      "              precision    recall  f1-score   support\n",
      "\n",
      "           0       0.00      0.00      0.00        26\n",
      "           1       0.78      1.00      0.88        91\n",
      "\n",
      "    accuracy                           0.78       117\n",
      "   macro avg       0.39      0.50      0.44       117\n",
      "weighted avg       0.60      0.78      0.68       117\n",
      "\n"
     ]
    }
   ],
   "source": [
    "df_train.reset_index(inplace=True)\n",
    "df_train['vector_similarity'] = pd.Series(train_predictions_from_KNN)\n",
    "\n",
    "df_train = df_train[['subject_id', 'apq_11', 'apq_3', 'jitter_percent', 'vector_similarity', 'status']]\n",
    "\n",
    "train_features = df_train.iloc[:, 1:5]\n",
    "train_labels = df_train.iloc[:, 5]\n",
    "\n",
    "test_features = df_test.iloc[:, 1:4]\n",
    "test_labels = df_test.iloc[:, 4]\n",
    "\n",
    "test_predictions_from_KNN = best_knn_classifier.predict(test_features)\n",
    "test_probabilities_from_KNN = best_knn_classifier.predict_proba(test_features)\n",
    "\n",
    "print(classification_report(test_labels, test_predictions_from_KNN))"
   ]
  },
  {
   "cell_type": "code",
   "execution_count": 28,
   "metadata": {},
   "outputs": [
    {
     "name": "stdout",
     "output_type": "stream",
     "text": [
      "              precision    recall  f1-score   support\n",
      "\n",
      "           0       1.00      0.08      0.14        26\n",
      "           1       0.79      1.00      0.88        91\n",
      "\n",
      "    accuracy                           0.79       117\n",
      "   macro avg       0.90      0.54      0.51       117\n",
      "weighted avg       0.84      0.79      0.72       117\n",
      "\n"
     ]
    }
   ],
   "source": [
    "preds_based_on_proba = []\n",
    "for test_proba in test_probabilities_from_KNN:\n",
    "    if test_proba[1] > 0.7:\n",
    "        pred = 1\n",
    "    else:\n",
    "        pred = 0\n",
    "    preds_based_on_proba.append(pred)\n",
    "\n",
    "print(classification_report(test_labels, preds_based_on_proba))"
   ]
  },
  {
   "cell_type": "code",
   "execution_count": 29,
   "metadata": {},
   "outputs": [],
   "source": [
    "df_test.reset_index(inplace=True)\n",
    "df_test['vector_similarity'] = pd.Series(preds_based_on_proba)\n",
    "\n",
    "df_test = df_test[['subject_id', 'apq_11', 'apq_3', 'jitter_percent', 'vector_similarity', 'status']]\n",
    "\n",
    "test_features = df_test.iloc[:, 1:5]\n",
    "test_labels = df_test.iloc[:, 5]"
   ]
  },
  {
   "cell_type": "markdown",
   "metadata": {},
   "source": [
    "### Train a Gradient-Boosted Tree model whilst preserving the train and test sets generated above, which prevent both time-related data leakage and do not have any overlapping subjects between train and test sets.\n",
    "\n",
    "### The optimal hyperparameters were obtained via grid search optimisation when cross-validating the model during training."
   ]
  },
  {
   "cell_type": "code",
   "execution_count": 30,
   "metadata": {},
   "outputs": [
    {
     "name": "stdout",
     "output_type": "stream",
     "text": [
      "              precision    recall  f1-score   support\n",
      "\n",
      "           0       1.00      0.08      0.14        26\n",
      "           1       0.79      1.00      0.88        91\n",
      "\n",
      "    accuracy                           0.79       117\n",
      "   macro avg       0.90      0.54      0.51       117\n",
      "weighted avg       0.84      0.79      0.72       117\n",
      "\n"
     ]
    }
   ],
   "source": [
    "gbt = GradientBoostingClassifier(\n",
    "    random_state=13,\n",
    "    max_depth=6, \n",
    "    learning_rate=0.1,\n",
    "    n_estimators=15, \n",
    "    max_features='sqrt',\n",
    "    subsample=0.6\n",
    ")\n",
    "\n",
    "pipeline = Pipeline(steps=[('gbt', gbt)])\n",
    "\n",
    "param_grid = {\n",
    "    'gbt__n_estimators': [10, 20, 30, 50, 100],\n",
    "    'gbt__learning_rate': [0.05, 0.15, 0.2, 0.25, 0.3],\n",
    "    'gbt__max_depth': [3, 4, 5, 7, 9, 12, 15],\n",
    "    'gbt__n_iter_no_change': [5, 7, 9, 11, 15],\n",
    "    'gbt__subsample': [0.3, 0.5, 0.7, 0.9],\n",
    "    'gbt__max_leaf_nodes': [None],\n",
    "}\n",
    "\n",
    "# Create a custom scorer for weighted recall\n",
    "weighted_recall_scorer = make_scorer(recall_score, average='weighted')\n",
    "\n",
    "gbt_gridsearch = GridSearchCV(estimator=pipeline, param_grid=param_grid, \n",
    "                              cv=5, scoring=weighted_recall_scorer)\n",
    "\n",
    "best_gbt = gbt.fit(train_features, train_labels)\n",
    "\n",
    "predictions_from_GBT = best_gbt.predict(test_features)\n",
    "\n",
    "print(classification_report(test_labels, predictions_from_GBT))"
   ]
  },
  {
   "cell_type": "code",
   "execution_count": 31,
   "metadata": {},
   "outputs": [
    {
     "name": "stdout",
     "output_type": "stream",
     "text": [
      "              precision    recall  f1-score   support\n",
      "\n",
      "           0       1.00      0.08      0.14        26\n",
      "           1       0.79      1.00      0.88        91\n",
      "\n",
      "    accuracy                           0.79       117\n",
      "   macro avg       0.90      0.54      0.51       117\n",
      "weighted avg       0.84      0.79      0.72       117\n",
      "\n"
     ]
    }
   ],
   "source": [
    "probas_from_GBT = best_gbt.predict_proba(test_features)\n",
    "\n",
    "preds_based_on_proba = []\n",
    "for test_proba in probas_from_GBT:\n",
    "    if test_proba[1] > 0.78:\n",
    "        pred = 1\n",
    "    else:\n",
    "        pred = 0\n",
    "    preds_based_on_proba.append(pred)\n",
    "\n",
    "print(classification_report(test_labels, preds_based_on_proba))"
   ]
  },
  {
   "cell_type": "markdown",
   "metadata": {},
   "source": [
    "### Insights on predictive performance on the (unseen) test set\n",
    "\n",
    "The initial set of metrics (from the [PR no. 2](https://github.com/marianne-manaog/vs-ml-pd-detector/pull/2)) of a Random Forest (RF) model, using \n",
    "80% and 20% of the data split randomly between the train and test sets but without training the model via cross-validation, was as follows:\n",
    "- Test set accuracy = 0.709\n",
    "- Test set weighted precision = 0.71\n",
    "- Test set weighted recall = 0.71\n",
    "- Test set weighted F-measure = 0.71\n",
    "\n",
    "The second set of metrics (from the [PR no. 3](https://github.com/marianne-manaog/vs-ml-pd-detector/pull/3)) of a RF model, using the previously generated data splits to avoid time- and subject-related data leakage (2008-2016 data for training, 2018 data on different subjects for testing) but without training the model via cross-validation, was as follows:\n",
    "- Test set accuracy = 0.75\n",
    "- Test set weighted precision = 0.71\n",
    "- Test set weighted recall = 0.75\n",
    "- Test set weighted F-measure = 0.69\n",
    "\n",
    "The third set of metrics (from the [PR no. 4](https://github.com/marianne-manaog/vs-ml-pd-detector/pull/4)) of a RF model, using the previously generated data splits to avoid time- and subject-related data leakage (2008-2016 data for training, 2018 data on different subjects for testing) but training the model with cross-validation, was as follows:\n",
    "- Test set accuracy = 0.75\n",
    "- Test set weighted precision = 0.81\n",
    "- Test set weighted recall = 0.75\n",
    "- Test set weighted F-measure = 0.65\n",
    "\n",
    "The fourth set of metrics (from the [PR no. 5](https://github.com/marianne-manaog/vs-ml-pd-detector/pull/5)) of a Gradient-Boosted Tree (GBT) model, using the previously generated data splits to avoid time- and subject-related data leakage (2008-2016 data for training, 2018 data on different subjects for testing) but training the model with cross-validation, was as follows:\n",
    "- Test set accuracy = 0.76\n",
    "- Test set weighted precision = 0.74\n",
    "- Test set weighted recall = 0.76\n",
    "- Test set weighted F-measure = 0.70\n",
    "\n",
    "I.e., the following predictive performance changes have been achieved between the third (RF) and fourth (GBT) set of metrics:\n",
    "- Increased accuracy by 1.2%\n",
    "- Decreased weighted precision by 7.6%\n",
    "- Increased weighted recall by 1.2%\n",
    "- Increased weighted F-measure by 5.3%\n",
    "\n",
    "Thus, overall and considering that the weighted recall is the key metric to increase in this project, the predictive performance of the GBT model was found slightly higher than the RF and the Decision Tree models. Thus, the GBT model was selected as the optimal one for this project.\n",
    "\n",
    "In the notebook from the [PR no. 6](https://github.com/marianne-manaog/vs-ml-pd-detector/pull/6), multi-collinear features were identified and discarded, thus leading to retain the top three predictors for model training, i.e., apq_11, apq_3, jitter_percent. Furthermore, outliers were detected and removed via the z-scores-based method. The final GBT model's predictive performance on the test set was as follows, which is slightly higher than its training performance, indicating a promising generalisation on unseen data: \n",
    "- Test set accuracy = 0.79, 3.3% higher than the previous version\n",
    "- Test set weighted precision = 0.83, 10.1% higher than the previous version\n",
    "- Test set weighted recall = 0.79, 3.3% higher than the previous version\n",
    "- Test set weighted F-measure = 0.71, 1.9% higher than the previous version\n",
    "\n",
    "In this notebook, leveraging vector similarity via the nearest neighbour algorithm yielded the following slightly higher predictive performance metrics:\n",
    "- Test set accuracy = 0.79, as the previous version\n",
    "- Test set weighted precision = 0.84, 1% higher than the previous version\n",
    "- Test set weighted recall = 0.79, as the previous version\n",
    "- Test set weighted F-measure = 0.72, 1% higher than the previous version"
   ]
  },
  {
   "cell_type": "code",
   "execution_count": 26,
   "metadata": {
    "scrolled": true
   },
   "outputs": [],
   "source": [
    "# session.execute(\"\"\"drop table speech_data\"\"\")"
   ]
  }
 ],
 "metadata": {
  "kernelspec": {
   "display_name": "vs-l-pd-detector",
   "language": "python",
   "name": "vs-l-pd-detector"
  },
  "language_info": {
   "codemirror_mode": {
    "name": "ipython",
    "version": 3
   },
   "file_extension": ".py",
   "mimetype": "text/x-python",
   "name": "python",
   "nbconvert_exporter": "python",
   "pygments_lexer": "ipython3",
   "version": "3.11.4"
  }
 },
 "nbformat": 4,
 "nbformat_minor": 4
}
