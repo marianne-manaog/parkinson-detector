{
 "cells": [
  {
   "cell_type": "markdown",
   "metadata": {},
   "source": [
    "# Parkinson's Disease Detector with Apache Cassandra and PySpark Machine Learning"
   ]
  },
  {
   "cell_type": "markdown",
   "metadata": {},
   "source": [
    "#### Jupyter notebook inspired by the template at https://github.com/datastaxdevs/workshop-machine-learning/blob/master/jupyter/Random%20Forest.ipynb"
   ]
  },
  {
   "cell_type": "code",
   "execution_count": 229,
   "metadata": {},
   "outputs": [],
   "source": [
    "!pip3 install matplotlib --quiet\n",
    "!pip3 install ipykernel --quiet"
   ]
  },
  {
   "cell_type": "code",
   "execution_count": 230,
   "metadata": {},
   "outputs": [],
   "source": [
    "!pip install cassandra-driver --quiet\n",
    "!pip install pyspark==3.4.1 --quiet"
   ]
  },
  {
   "cell_type": "code",
   "execution_count": 231,
   "metadata": {},
   "outputs": [
    {
     "name": "stdout",
     "output_type": "stream",
     "text": [
      "Installed kernelspec vs-l-pd-detector in /Users/mariannelynemanaog/Library/Jupyter/kernels/vs-l-pd-detector\r\n"
     ]
    }
   ],
   "source": [
    "!python3 -m ipykernel install --user --name=vs-l-pd-detector"
   ]
  },
  {
   "cell_type": "code",
   "execution_count": 232,
   "metadata": {},
   "outputs": [],
   "source": [
    "!PYDEVD_DISABLE_FILE_VALIDATION=1"
   ]
  },
  {
   "cell_type": "code",
   "execution_count": 233,
   "metadata": {},
   "outputs": [],
   "source": [
    "import os\n",
    "import random\n",
    "import re\n",
    "import warnings\n",
    "\n",
    "import cassandra\n",
    "import matplotlib.pyplot as plt\n",
    "import numpy as np\n",
    "import pandas as pd\n",
    "import pyspark\n",
    "import seaborn as sns\n",
    "\n",
    "from IPython.display import display, Markdown\n",
    "from random import randint, randrange\n",
    "\n",
    "from cassandra.cluster import Cluster\n",
    "from cassandra.policies import DCAwareRoundRobinPolicy\n",
    "\n",
    "from pyspark.sql import SparkSession\n",
    "\n",
    "from pyspark.ml import Pipeline\n",
    "from pyspark.ml.classification import DecisionTreeClassifier, GBTClassifier, RandomForestClassifier\n",
    "from pyspark.ml.evaluation import MulticlassClassificationEvaluator\n",
    "from pyspark.ml.feature import IndexToString, StringIndexer, VectorAssembler\n",
    "from pyspark.ml.tuning import CrossValidator, ParamGridBuilder\n",
    "\n",
    "from scipy import stats"
   ]
  },
  {
   "cell_type": "code",
   "execution_count": 234,
   "metadata": {},
   "outputs": [],
   "source": [
    "warnings.filterwarnings('ignore')\n",
    "%matplotlib inline"
   ]
  },
  {
   "cell_type": "markdown",
   "metadata": {},
   "source": [
    "## Set up Apache Cassandra"
   ]
  },
  {
   "cell_type": "code",
   "execution_count": 235,
   "metadata": {},
   "outputs": [],
   "source": [
    "# Install the latest version of Cassandra (4.1.3) from https://www.apache.org/dyn/closer.lua/cassandra/4.1.3/apache-cassandra-4.1.3-bin.tar.gz"
   ]
  },
  {
   "cell_type": "code",
   "execution_count": null,
   "metadata": {},
   "outputs": [],
   "source": [
    "# Install GPG to verify the hash of the downloaded tarball\n",
    "!arch -arm64 brew install gnupg gnupg2\n",
    "\n",
    "# Link GPG\n",
    "!brew link gnupg\n",
    "\n",
    "!gpg --print-md SHA256 apache-cassandra-4.1.3-bin.tar.gz"
   ]
  },
  {
   "cell_type": "code",
   "execution_count": 237,
   "metadata": {},
   "outputs": [
    {
     "name": "stdout",
     "output_type": "stream",
     "text": [
      "da014999723f4e1e2c15775dac6aaa9ff69a48f6df6465740fcd52ca9d19ea88\r\n"
     ]
    }
   ],
   "source": [
    "# Compare the signature with the SHA256 file from the Downloads site\n",
    "!curl -L https://downloads.apache.org/cassandra/4.1.3/apache-cassandra-4.1.3-bin.tar.gz.sha256"
   ]
  },
  {
   "cell_type": "code",
   "execution_count": null,
   "metadata": {},
   "outputs": [],
   "source": [
    "Unpack the tarball\n",
    "!tar xzvf apache-cassandra-4.1.3-bin.tar.gz"
   ]
  },
  {
   "cell_type": "code",
   "execution_count": 240,
   "metadata": {},
   "outputs": [],
   "source": [
    "os.chdir('apache-cassandra-4.1.3')"
   ]
  },
  {
   "cell_type": "code",
   "execution_count": 241,
   "metadata": {},
   "outputs": [
    {
     "name": "stdout",
     "output_type": "stream",
     "text": [
      "/Users/mariannelynemanaog/PycharmProjects/vs-ml-pd-detector/notebooks/apache-cassandra-4.1.3\r\n"
     ]
    }
   ],
   "source": [
    "!pwd"
   ]
  },
  {
   "cell_type": "code",
   "execution_count": 242,
   "metadata": {},
   "outputs": [],
   "source": [
    "!bin/cassandra"
   ]
  },
  {
   "cell_type": "code",
   "execution_count": 243,
   "metadata": {},
   "outputs": [
    {
     "name": "stdout",
     "output_type": "stream",
     "text": [
      "4.1.3\r\n"
     ]
    }
   ],
   "source": [
    "# Verify cassandra installation by checking its version number\n",
    "!cassandra -v"
   ]
  },
  {
   "cell_type": "code",
   "execution_count": 244,
   "metadata": {},
   "outputs": [],
   "source": [
    "# Start the cassandra server on the terminal\n",
    "!cassandra -f"
   ]
  },
  {
   "cell_type": "markdown",
   "metadata": {},
   "source": [
    "## Creating and loading tables"
   ]
  },
  {
   "cell_type": "markdown",
   "metadata": {},
   "source": [
    "### Connect to Cassandra"
   ]
  },
  {
   "cell_type": "code",
   "execution_count": 245,
   "metadata": {},
   "outputs": [],
   "source": [
    "# Get the IP address by running 'cqlsh' on the terminal\n",
    "cluster = Cluster(['127.0.0.1'], protocol_version=5, load_balancing_policy=DCAwareRoundRobinPolicy())\n",
    "session = cluster.connect()"
   ]
  },
  {
   "cell_type": "markdown",
   "metadata": {},
   "source": [
    "### Create keyspace "
   ]
  },
  {
   "cell_type": "code",
   "execution_count": 246,
   "metadata": {},
   "outputs": [
    {
     "data": {
      "text/plain": [
       "<cassandra.cluster.ResultSet at 0x7ff2688ab4c0>"
      ]
     },
     "execution_count": 246,
     "metadata": {},
     "output_type": "execute_result"
    }
   ],
   "source": [
    "session.execute(\"\"\"\n",
    "    CREATE KEYSPACE IF NOT EXISTS parkinson \n",
    "    WITH REPLICATION = \n",
    "    { 'class' : 'SimpleStrategy', 'replication_factor' : 1 }\"\"\"\n",
    ")"
   ]
  },
  {
   "cell_type": "markdown",
   "metadata": {},
   "source": [
    "### Set keyspace "
   ]
  },
  {
   "cell_type": "code",
   "execution_count": 247,
   "metadata": {},
   "outputs": [],
   "source": [
    "session.set_keyspace('parkinson')"
   ]
  },
  {
   "cell_type": "markdown",
   "metadata": {},
   "source": [
    "### Create two tables called `speech_data_train` and `speech_data_test` containing the train and test sets respectively. The PRIMARY will be a unique key (subject_id) for each row."
   ]
  },
  {
   "cell_type": "code",
   "execution_count": 248,
   "metadata": {},
   "outputs": [
    {
     "data": {
      "text/plain": [
       "<cassandra.cluster.ResultSet at 0x7ff2689a1bb0>"
      ]
     },
     "execution_count": 248,
     "metadata": {},
     "output_type": "execute_result"
    }
   ],
   "source": [
    "query = \"CREATE TABLE IF NOT EXISTS speech_data_train \\\n",
    "                                   (subject_id text, jitter_percent float, jitter_abs float, rap float, ppq float, \\\n",
    "                                   apq_3 float, apq_5 float, apq_11 float, status int, \\\n",
    "                                   PRIMARY KEY (subject_id))\"\n",
    "session.execute(query)"
   ]
  },
  {
   "cell_type": "code",
   "execution_count": 249,
   "metadata": {},
   "outputs": [
    {
     "data": {
      "text/plain": [
       "<cassandra.cluster.ResultSet at 0x7ff278d4c850>"
      ]
     },
     "execution_count": 249,
     "metadata": {},
     "output_type": "execute_result"
    }
   ],
   "source": [
    "query = \"CREATE TABLE IF NOT EXISTS speech_data_test \\\n",
    "                                   (subject_id text, jitter_percent float, jitter_abs float, rap float, ppq float, \\\n",
    "                                   apq_3 float, apq_5 float, apq_11 float, status int, \\\n",
    "                                   PRIMARY KEY (subject_id))\"\n",
    "session.execute(query)"
   ]
  },
  {
   "cell_type": "markdown",
   "metadata": {},
   "source": [
    "### Load the train and test datasets from csv files\n",
    "\n",
    "#### Insert train and test speech data into the tables `speech_data_train` and `speech_data_test` respectively"
   ]
  },
  {
   "cell_type": "code",
   "execution_count": 250,
   "metadata": {},
   "outputs": [],
   "source": [
    "fileName = '/Users/mariannelynemanaog/PycharmProjects/vs-ml-pd-detector/src/data/train_and_test_sets/train_data.csv'\n",
    "input_file = open(fileName, 'r')\n",
    "i = 1\n",
    "for line_number, line in enumerate(input_file):\n",
    "    if line_number == 0:\n",
    "        continue  # Skip the first line, as it has the header with the column names\n",
    "    subject_id = i\n",
    "    row = line.replace('\\n', \"\").split(',')\n",
    "    \n",
    "    query = \"INSERT INTO speech_data_train (subject_id, jitter_percent, jitter_abs, rap, ppq, \\\n",
    "                               apq_3, apq_5, apq_11, status)\"\n",
    "    query = query + \" VALUES (%s, %s, %s, %s, %s, %s, %s, %s, %s)\"\n",
    "    session.execute(query, (str(row[0]), float(row[1]), float(row[2]), float(row[3]), float(row[4]), float(row[5]), float(row[6]), float(row[7]), int(row[8])))\n",
    "    i = i + 1\n",
    "\n",
    "fileName = '/Users/mariannelynemanaog/PycharmProjects/vs-ml-pd-detector/src/data/train_and_test_sets/test_data.csv'\n",
    "input_file = open(fileName, 'r')\n",
    "\n",
    "for line_number, line in enumerate(input_file):\n",
    "    if line_number == 0:\n",
    "        continue  # Skip the first line, as it has the header with the column names\n",
    "    subject_id = i\n",
    "    row = line.replace('\\n', \"\").split(',')\n",
    "        \n",
    "    query = \"INSERT INTO speech_data_test (subject_id, jitter_percent, jitter_abs, rap, ppq, \\\n",
    "                               apq_3, apq_5, apq_11, status)\"\n",
    "    query = query + \" VALUES (%s, %s, %s, %s, %s, %s, %s, %s, %s)\"\n",
    "    session.execute(query, (str(row[0]), float(row[1]), float(row[2]), float(row[3]), float(row[4]), float(row[5]), float(row[6]), float(row[7]), int(row[8])))\n",
    "    i = i + 1\n",
    "    "
   ]
  },
  {
   "cell_type": "markdown",
   "metadata": {},
   "source": [
    "## Machine Learning with Apache Cassandra and Apache Spark"
   ]
  },
  {
   "cell_type": "markdown",
   "metadata": {},
   "source": [
    "#### Create a spark session that is connected to the database. Then, load each table into a Spark Dataframe and take a count of the number of rows in each."
   ]
  },
  {
   "cell_type": "code",
   "execution_count": 251,
   "metadata": {},
   "outputs": [],
   "source": [
    "spark = SparkSession.builder.appName('demo').master(\"local\").getOrCreate()"
   ]
  },
  {
   "cell_type": "code",
   "execution_count": 252,
   "metadata": {},
   "outputs": [
    {
     "data": {
      "text/html": [
       "\n",
       "            <div>\n",
       "                <p><b>SparkSession - in-memory</b></p>\n",
       "                \n",
       "        <div>\n",
       "            <p><b>SparkContext</b></p>\n",
       "\n",
       "            <p><a href=\"http://192.168.1.37:4040\">Spark UI</a></p>\n",
       "\n",
       "            <dl>\n",
       "              <dt>Version</dt>\n",
       "                <dd><code>v3.4.1</code></dd>\n",
       "              <dt>Master</dt>\n",
       "                <dd><code>local</code></dd>\n",
       "              <dt>AppName</dt>\n",
       "                <dd><code>demo</code></dd>\n",
       "            </dl>\n",
       "        </div>\n",
       "        \n",
       "            </div>\n",
       "        "
      ],
      "text/plain": [
       "<pyspark.sql.session.SparkSession at 0x7ff2789ffaf0>"
      ]
     },
     "execution_count": 252,
     "metadata": {},
     "output_type": "execute_result"
    }
   ],
   "source": [
    "spark"
   ]
  },
  {
   "cell_type": "code",
   "execution_count": 253,
   "metadata": {},
   "outputs": [],
   "source": [
    "rows_train = session.execute('select * from speech_data_train;')\n",
    "df_train = pd.DataFrame(list(rows_train))\n",
    "\n",
    "rows_test = session.execute('select * from speech_data_test;')\n",
    "df_test = pd.DataFrame(list(rows_test))"
   ]
  },
  {
   "cell_type": "markdown",
   "metadata": {},
   "source": [
    "#### Identify and remove multi-collinear features"
   ]
  },
  {
   "cell_type": "code",
   "execution_count": 254,
   "metadata": {},
   "outputs": [
    {
     "data": {
      "text/html": [
       "<div>\n",
       "<style scoped>\n",
       "    .dataframe tbody tr th:only-of-type {\n",
       "        vertical-align: middle;\n",
       "    }\n",
       "\n",
       "    .dataframe tbody tr th {\n",
       "        vertical-align: top;\n",
       "    }\n",
       "\n",
       "    .dataframe thead th {\n",
       "        text-align: right;\n",
       "    }\n",
       "</style>\n",
       "<table border=\"1\" class=\"dataframe\">\n",
       "  <thead>\n",
       "    <tr style=\"text-align: right;\">\n",
       "      <th></th>\n",
       "      <th>apq_11</th>\n",
       "      <th>apq_3</th>\n",
       "      <th>apq_5</th>\n",
       "      <th>jitter_abs</th>\n",
       "      <th>jitter_percent</th>\n",
       "      <th>ppq</th>\n",
       "      <th>rap</th>\n",
       "      <th>status</th>\n",
       "    </tr>\n",
       "  </thead>\n",
       "  <tbody>\n",
       "    <tr>\n",
       "      <th>apq_11</th>\n",
       "      <td>1.000000</td>\n",
       "      <td>0.052892</td>\n",
       "      <td>0.019032</td>\n",
       "      <td>0.012825</td>\n",
       "      <td>-0.130432</td>\n",
       "      <td>-0.040990</td>\n",
       "      <td>-0.007268</td>\n",
       "      <td>0.046021</td>\n",
       "    </tr>\n",
       "    <tr>\n",
       "      <th>apq_3</th>\n",
       "      <td>0.052892</td>\n",
       "      <td>1.000000</td>\n",
       "      <td>0.723559</td>\n",
       "      <td>0.646277</td>\n",
       "      <td>0.539519</td>\n",
       "      <td>0.763585</td>\n",
       "      <td>0.652425</td>\n",
       "      <td>-0.101047</td>\n",
       "    </tr>\n",
       "    <tr>\n",
       "      <th>apq_5</th>\n",
       "      <td>0.019032</td>\n",
       "      <td>0.723559</td>\n",
       "      <td>1.000000</td>\n",
       "      <td>0.631294</td>\n",
       "      <td>0.548759</td>\n",
       "      <td>0.842134</td>\n",
       "      <td>0.658644</td>\n",
       "      <td>-0.140040</td>\n",
       "    </tr>\n",
       "    <tr>\n",
       "      <th>jitter_abs</th>\n",
       "      <td>0.012825</td>\n",
       "      <td>0.646277</td>\n",
       "      <td>0.631294</td>\n",
       "      <td>1.000000</td>\n",
       "      <td>0.743401</td>\n",
       "      <td>0.676145</td>\n",
       "      <td>0.876982</td>\n",
       "      <td>-0.066838</td>\n",
       "    </tr>\n",
       "    <tr>\n",
       "      <th>jitter_percent</th>\n",
       "      <td>-0.130432</td>\n",
       "      <td>0.539519</td>\n",
       "      <td>0.548759</td>\n",
       "      <td>0.743401</td>\n",
       "      <td>1.000000</td>\n",
       "      <td>0.578950</td>\n",
       "      <td>0.852491</td>\n",
       "      <td>-0.130294</td>\n",
       "    </tr>\n",
       "    <tr>\n",
       "      <th>ppq</th>\n",
       "      <td>-0.040990</td>\n",
       "      <td>0.763585</td>\n",
       "      <td>0.842134</td>\n",
       "      <td>0.676145</td>\n",
       "      <td>0.578950</td>\n",
       "      <td>1.000000</td>\n",
       "      <td>0.702596</td>\n",
       "      <td>-0.138054</td>\n",
       "    </tr>\n",
       "    <tr>\n",
       "      <th>rap</th>\n",
       "      <td>-0.007268</td>\n",
       "      <td>0.652425</td>\n",
       "      <td>0.658644</td>\n",
       "      <td>0.876982</td>\n",
       "      <td>0.852491</td>\n",
       "      <td>0.702596</td>\n",
       "      <td>1.000000</td>\n",
       "      <td>-0.086286</td>\n",
       "    </tr>\n",
       "    <tr>\n",
       "      <th>status</th>\n",
       "      <td>0.046021</td>\n",
       "      <td>-0.101047</td>\n",
       "      <td>-0.140040</td>\n",
       "      <td>-0.066838</td>\n",
       "      <td>-0.130294</td>\n",
       "      <td>-0.138054</td>\n",
       "      <td>-0.086286</td>\n",
       "      <td>1.000000</td>\n",
       "    </tr>\n",
       "  </tbody>\n",
       "</table>\n",
       "</div>"
      ],
      "text/plain": [
       "                  apq_11     apq_3     apq_5  jitter_abs  jitter_percent  \\\n",
       "apq_11          1.000000  0.052892  0.019032    0.012825       -0.130432   \n",
       "apq_3           0.052892  1.000000  0.723559    0.646277        0.539519   \n",
       "apq_5           0.019032  0.723559  1.000000    0.631294        0.548759   \n",
       "jitter_abs      0.012825  0.646277  0.631294    1.000000        0.743401   \n",
       "jitter_percent -0.130432  0.539519  0.548759    0.743401        1.000000   \n",
       "ppq            -0.040990  0.763585  0.842134    0.676145        0.578950   \n",
       "rap            -0.007268  0.652425  0.658644    0.876982        0.852491   \n",
       "status          0.046021 -0.101047 -0.140040   -0.066838       -0.130294   \n",
       "\n",
       "                     ppq       rap    status  \n",
       "apq_11         -0.040990 -0.007268  0.046021  \n",
       "apq_3           0.763585  0.652425 -0.101047  \n",
       "apq_5           0.842134  0.658644 -0.140040  \n",
       "jitter_abs      0.676145  0.876982 -0.066838  \n",
       "jitter_percent  0.578950  0.852491 -0.130294  \n",
       "ppq             1.000000  0.702596 -0.138054  \n",
       "rap             0.702596  1.000000 -0.086286  \n",
       "status         -0.138054 -0.086286  1.000000  "
      ]
     },
     "execution_count": 254,
     "metadata": {},
     "output_type": "execute_result"
    }
   ],
   "source": [
    "# Calculate the correlation matrix on the numeric columns\n",
    "corr = df_train.corr(method='kendall')\n",
    "\n",
    "corr"
   ]
  },
  {
   "cell_type": "code",
   "execution_count": 255,
   "metadata": {},
   "outputs": [
    {
     "data": {
      "text/plain": [
       "<AxesSubplot:>"
      ]
     },
     "execution_count": 255,
     "metadata": {},
     "output_type": "execute_result"
    },
    {
     "data": {
      "image/png": "[encoded data removed]",
      "text/plain": [
       "<Figure size 432x288 with 2 Axes>"
      ]
     },
     "metadata": {
      "needs_background": "light"
     },
     "output_type": "display_data"
    }
   ],
   "source": [
    "# Plot the heatmap\n",
    "sns.heatmap(corr, annot=True)"
   ]
  },
  {
   "cell_type": "markdown",
   "metadata": {},
   "source": [
    "The features that bring unique information to discriminate between pathophysiological and healthy speech patterns \n",
    "are the following ones:\n",
    "- apq11, as no other numeric features are highly correlated with it\n",
    "- apq3, whilst the multi-collinear (e.g., > 0.7) apq5 and ppq are suggested to be removed since they are not adding \n",
    "any further unique information with respect to apq3\n",
    "- jitter_percent, whilst the multi-collinear (e.g., > 0.7) jitter_abs and rap are suggested to be removed since they are not adding any further unique information with respect to jitter_percent."
   ]
  },
  {
   "cell_type": "code",
   "execution_count": 256,
   "metadata": {},
   "outputs": [],
   "source": [
    "unique_feats_to_retain = ['subject_id', 'apq_11', 'apq_3', 'jitter_percent', 'status']\n",
    "df_train = df_train[unique_feats_to_retain]"
   ]
  },
  {
   "cell_type": "code",
   "execution_count": 257,
   "metadata": {},
   "outputs": [
    {
     "data": {
      "text/html": [
       "<div>\n",
       "<style scoped>\n",
       "    .dataframe tbody tr th:only-of-type {\n",
       "        vertical-align: middle;\n",
       "    }\n",
       "\n",
       "    .dataframe tbody tr th {\n",
       "        vertical-align: top;\n",
       "    }\n",
       "\n",
       "    .dataframe thead th {\n",
       "        text-align: right;\n",
       "    }\n",
       "</style>\n",
       "<table border=\"1\" class=\"dataframe\">\n",
       "  <thead>\n",
       "    <tr style=\"text-align: right;\">\n",
       "      <th></th>\n",
       "      <th>subject_id</th>\n",
       "      <th>apq_11</th>\n",
       "      <th>apq_3</th>\n",
       "      <th>jitter_percent</th>\n",
       "      <th>status</th>\n",
       "    </tr>\n",
       "  </thead>\n",
       "  <tbody>\n",
       "    <tr>\n",
       "      <th>0</th>\n",
       "      <td>phon_R01_S10_3</td>\n",
       "      <td>0.010330</td>\n",
       "      <td>0.007770</td>\n",
       "      <td>0.00210</td>\n",
       "      <td>0</td>\n",
       "    </tr>\n",
       "    <tr>\n",
       "      <th>1</th>\n",
       "      <td>phon_R01_S32_2</td>\n",
       "      <td>0.009030</td>\n",
       "      <td>0.004760</td>\n",
       "      <td>0.00270</td>\n",
       "      <td>1</td>\n",
       "    </tr>\n",
       "    <tr>\n",
       "      <th>2</th>\n",
       "      <td>CONT-11</td>\n",
       "      <td>0.039913</td>\n",
       "      <td>0.030384</td>\n",
       "      <td>0.53133</td>\n",
       "      <td>0</td>\n",
       "    </tr>\n",
       "    <tr>\n",
       "      <th>3</th>\n",
       "      <td>0.000157842</td>\n",
       "      <td>0.819181</td>\n",
       "      <td>18.808001</td>\n",
       "      <td>0.58300</td>\n",
       "      <td>1</td>\n",
       "    </tr>\n",
       "    <tr>\n",
       "      <th>4</th>\n",
       "      <td>9.8239e-05</td>\n",
       "      <td>0.887069</td>\n",
       "      <td>11.811000</td>\n",
       "      <td>0.74200</td>\n",
       "      <td>1</td>\n",
       "    </tr>\n",
       "  </tbody>\n",
       "</table>\n",
       "</div>"
      ],
      "text/plain": [
       "       subject_id    apq_11      apq_3  jitter_percent  status\n",
       "0  phon_R01_S10_3  0.010330   0.007770         0.00210       0\n",
       "1  phon_R01_S32_2  0.009030   0.004760         0.00270       1\n",
       "2         CONT-11  0.039913   0.030384         0.53133       0\n",
       "3     0.000157842  0.819181  18.808001         0.58300       1\n",
       "4      9.8239e-05  0.887069  11.811000         0.74200       1"
      ]
     },
     "execution_count": 257,
     "metadata": {},
     "output_type": "execute_result"
    }
   ],
   "source": [
    "df_train.head()"
   ]
  },
  {
   "cell_type": "code",
   "execution_count": 258,
   "metadata": {},
   "outputs": [
    {
     "data": {
      "text/html": [
       "<div>\n",
       "<style scoped>\n",
       "    .dataframe tbody tr th:only-of-type {\n",
       "        vertical-align: middle;\n",
       "    }\n",
       "\n",
       "    .dataframe tbody tr th {\n",
       "        vertical-align: top;\n",
       "    }\n",
       "\n",
       "    .dataframe thead th {\n",
       "        text-align: right;\n",
       "    }\n",
       "</style>\n",
       "<table border=\"1\" class=\"dataframe\">\n",
       "  <thead>\n",
       "    <tr style=\"text-align: right;\">\n",
       "      <th></th>\n",
       "      <th>apq_11</th>\n",
       "      <th>apq_3</th>\n",
       "      <th>jitter_percent</th>\n",
       "      <th>status</th>\n",
       "    </tr>\n",
       "  </thead>\n",
       "  <tbody>\n",
       "    <tr>\n",
       "      <th>count</th>\n",
       "      <td>1503.000000</td>\n",
       "      <td>1503.000000</td>\n",
       "      <td>1503.000000</td>\n",
       "      <td>1503.000000</td>\n",
       "    </tr>\n",
       "    <tr>\n",
       "      <th>mean</th>\n",
       "      <td>1.405134</td>\n",
       "      <td>8.734374</td>\n",
       "      <td>0.889277</td>\n",
       "      <td>0.596141</td>\n",
       "    </tr>\n",
       "    <tr>\n",
       "      <th>std</th>\n",
       "      <td>2.872461</td>\n",
       "      <td>7.265618</td>\n",
       "      <td>0.982743</td>\n",
       "      <td>0.490833</td>\n",
       "    </tr>\n",
       "    <tr>\n",
       "      <th>min</th>\n",
       "      <td>0.006070</td>\n",
       "      <td>0.003630</td>\n",
       "      <td>0.000005</td>\n",
       "      <td>0.000000</td>\n",
       "    </tr>\n",
       "    <tr>\n",
       "      <th>25%</th>\n",
       "      <td>0.682797</td>\n",
       "      <td>2.183000</td>\n",
       "      <td>0.015595</td>\n",
       "      <td>0.000000</td>\n",
       "    </tr>\n",
       "    <tr>\n",
       "      <th>50%</th>\n",
       "      <td>0.840368</td>\n",
       "      <td>8.649000</td>\n",
       "      <td>0.696000</td>\n",
       "      <td>1.000000</td>\n",
       "    </tr>\n",
       "    <tr>\n",
       "      <th>75%</th>\n",
       "      <td>0.911487</td>\n",
       "      <td>13.412000</td>\n",
       "      <td>1.299000</td>\n",
       "      <td>1.000000</td>\n",
       "    </tr>\n",
       "    <tr>\n",
       "      <th>max</th>\n",
       "      <td>39.007999</td>\n",
       "      <td>44.764000</td>\n",
       "      <td>8.016000</td>\n",
       "      <td>1.000000</td>\n",
       "    </tr>\n",
       "  </tbody>\n",
       "</table>\n",
       "</div>"
      ],
      "text/plain": [
       "            apq_11        apq_3  jitter_percent       status\n",
       "count  1503.000000  1503.000000     1503.000000  1503.000000\n",
       "mean      1.405134     8.734374        0.889277     0.596141\n",
       "std       2.872461     7.265618        0.982743     0.490833\n",
       "min       0.006070     0.003630        0.000005     0.000000\n",
       "25%       0.682797     2.183000        0.015595     0.000000\n",
       "50%       0.840368     8.649000        0.696000     1.000000\n",
       "75%       0.911487    13.412000        1.299000     1.000000\n",
       "max      39.007999    44.764000        8.016000     1.000000"
      ]
     },
     "execution_count": 258,
     "metadata": {},
     "output_type": "execute_result"
    }
   ],
   "source": [
    "df_train.describe()"
   ]
  },
  {
   "cell_type": "markdown",
   "metadata": {},
   "source": [
    "#### Remove outliers from train and test sets via z-scores"
   ]
  },
  {
   "cell_type": "code",
   "execution_count": 259,
   "metadata": {},
   "outputs": [],
   "source": [
    "columns_to_process = ['apq_11', 'apq_3', 'jitter_percent']\n",
    "\n",
    "z_score_thresh_train = 3.5\n",
    "z_score_thresh_test = 1\n",
    "\n",
    "for col in columns_to_process:\n",
    "    df_train = df_train[(np.abs(stats.zscore(df_train[col])) < z_score_thresh_train)]"
   ]
  },
  {
   "cell_type": "code",
   "execution_count": 260,
   "metadata": {},
   "outputs": [
    {
     "data": {
      "text/html": [
       "<div>\n",
       "<style scoped>\n",
       "    .dataframe tbody tr th:only-of-type {\n",
       "        vertical-align: middle;\n",
       "    }\n",
       "\n",
       "    .dataframe tbody tr th {\n",
       "        vertical-align: top;\n",
       "    }\n",
       "\n",
       "    .dataframe thead th {\n",
       "        text-align: right;\n",
       "    }\n",
       "</style>\n",
       "<table border=\"1\" class=\"dataframe\">\n",
       "  <thead>\n",
       "    <tr style=\"text-align: right;\">\n",
       "      <th></th>\n",
       "      <th>apq_11</th>\n",
       "      <th>apq_3</th>\n",
       "      <th>jitter_percent</th>\n",
       "      <th>status</th>\n",
       "    </tr>\n",
       "  </thead>\n",
       "  <tbody>\n",
       "    <tr>\n",
       "      <th>count</th>\n",
       "      <td>1446.000000</td>\n",
       "      <td>1446.000000</td>\n",
       "      <td>1446.000000</td>\n",
       "      <td>1446.000000</td>\n",
       "    </tr>\n",
       "    <tr>\n",
       "      <th>mean</th>\n",
       "      <td>1.104668</td>\n",
       "      <td>8.515723</td>\n",
       "      <td>0.834364</td>\n",
       "      <td>0.587828</td>\n",
       "    </tr>\n",
       "    <tr>\n",
       "      <th>std</th>\n",
       "      <td>1.720087</td>\n",
       "      <td>6.939063</td>\n",
       "      <td>0.792473</td>\n",
       "      <td>0.492396</td>\n",
       "    </tr>\n",
       "    <tr>\n",
       "      <th>min</th>\n",
       "      <td>0.006070</td>\n",
       "      <td>0.003630</td>\n",
       "      <td>0.000005</td>\n",
       "      <td>0.000000</td>\n",
       "    </tr>\n",
       "    <tr>\n",
       "      <th>25%</th>\n",
       "      <td>0.683534</td>\n",
       "      <td>1.892500</td>\n",
       "      <td>0.098000</td>\n",
       "      <td>0.000000</td>\n",
       "    </tr>\n",
       "    <tr>\n",
       "      <th>50%</th>\n",
       "      <td>0.840173</td>\n",
       "      <td>8.643000</td>\n",
       "      <td>0.701500</td>\n",
       "      <td>1.000000</td>\n",
       "    </tr>\n",
       "    <tr>\n",
       "      <th>75%</th>\n",
       "      <td>0.907474</td>\n",
       "      <td>13.280250</td>\n",
       "      <td>1.268750</td>\n",
       "      <td>1.000000</td>\n",
       "    </tr>\n",
       "    <tr>\n",
       "      <th>max</th>\n",
       "      <td>11.245000</td>\n",
       "      <td>33.550999</td>\n",
       "      <td>4.158000</td>\n",
       "      <td>1.000000</td>\n",
       "    </tr>\n",
       "  </tbody>\n",
       "</table>\n",
       "</div>"
      ],
      "text/plain": [
       "            apq_11        apq_3  jitter_percent       status\n",
       "count  1446.000000  1446.000000     1446.000000  1446.000000\n",
       "mean      1.104668     8.515723        0.834364     0.587828\n",
       "std       1.720087     6.939063        0.792473     0.492396\n",
       "min       0.006070     0.003630        0.000005     0.000000\n",
       "25%       0.683534     1.892500        0.098000     0.000000\n",
       "50%       0.840173     8.643000        0.701500     1.000000\n",
       "75%       0.907474    13.280250        1.268750     1.000000\n",
       "max      11.245000    33.550999        4.158000     1.000000"
      ]
     },
     "execution_count": 260,
     "metadata": {},
     "output_type": "execute_result"
    }
   ],
   "source": [
    "df_train.describe()"
   ]
  },
  {
   "cell_type": "code",
   "execution_count": 261,
   "metadata": {},
   "outputs": [],
   "source": [
    "df_test = df_test[unique_feats_to_retain]"
   ]
  },
  {
   "cell_type": "code",
   "execution_count": 262,
   "metadata": {},
   "outputs": [
    {
     "data": {
      "text/html": [
       "<div>\n",
       "<style scoped>\n",
       "    .dataframe tbody tr th:only-of-type {\n",
       "        vertical-align: middle;\n",
       "    }\n",
       "\n",
       "    .dataframe tbody tr th {\n",
       "        vertical-align: top;\n",
       "    }\n",
       "\n",
       "    .dataframe thead th {\n",
       "        text-align: right;\n",
       "    }\n",
       "</style>\n",
       "<table border=\"1\" class=\"dataframe\">\n",
       "  <thead>\n",
       "    <tr style=\"text-align: right;\">\n",
       "      <th></th>\n",
       "      <th>subject_id</th>\n",
       "      <th>apq_11</th>\n",
       "      <th>apq_3</th>\n",
       "      <th>jitter_percent</th>\n",
       "      <th>status</th>\n",
       "    </tr>\n",
       "  </thead>\n",
       "  <tbody>\n",
       "    <tr>\n",
       "      <th>0</th>\n",
       "      <td>151</td>\n",
       "      <td>0.08309</td>\n",
       "      <td>0.04866</td>\n",
       "      <td>0.00870</td>\n",
       "      <td>1</td>\n",
       "    </tr>\n",
       "    <tr>\n",
       "      <th>1</th>\n",
       "      <td>6</td>\n",
       "      <td>0.02123</td>\n",
       "      <td>0.01087</td>\n",
       "      <td>0.00084</td>\n",
       "      <td>1</td>\n",
       "    </tr>\n",
       "    <tr>\n",
       "      <th>2</th>\n",
       "      <td>191</td>\n",
       "      <td>0.03954</td>\n",
       "      <td>0.02140</td>\n",
       "      <td>0.00121</td>\n",
       "      <td>1</td>\n",
       "    </tr>\n",
       "    <tr>\n",
       "      <th>3</th>\n",
       "      <td>210</td>\n",
       "      <td>0.06352</td>\n",
       "      <td>0.02399</td>\n",
       "      <td>0.00097</td>\n",
       "      <td>0</td>\n",
       "    </tr>\n",
       "    <tr>\n",
       "      <th>4</th>\n",
       "      <td>90</td>\n",
       "      <td>0.10453</td>\n",
       "      <td>0.07051</td>\n",
       "      <td>0.00576</td>\n",
       "      <td>1</td>\n",
       "    </tr>\n",
       "  </tbody>\n",
       "</table>\n",
       "</div>"
      ],
      "text/plain": [
       "  subject_id   apq_11    apq_3  jitter_percent  status\n",
       "0        151  0.08309  0.04866         0.00870       1\n",
       "1          6  0.02123  0.01087         0.00084       1\n",
       "2        191  0.03954  0.02140         0.00121       1\n",
       "3        210  0.06352  0.02399         0.00097       0\n",
       "4         90  0.10453  0.07051         0.00576       1"
      ]
     },
     "execution_count": 262,
     "metadata": {},
     "output_type": "execute_result"
    }
   ],
   "source": [
    "df_test.head()"
   ]
  },
  {
   "cell_type": "code",
   "execution_count": 263,
   "metadata": {},
   "outputs": [
    {
     "data": {
      "text/html": [
       "<div>\n",
       "<style scoped>\n",
       "    .dataframe tbody tr th:only-of-type {\n",
       "        vertical-align: middle;\n",
       "    }\n",
       "\n",
       "    .dataframe tbody tr th {\n",
       "        vertical-align: top;\n",
       "    }\n",
       "\n",
       "    .dataframe thead th {\n",
       "        text-align: right;\n",
       "    }\n",
       "</style>\n",
       "<table border=\"1\" class=\"dataframe\">\n",
       "  <thead>\n",
       "    <tr style=\"text-align: right;\">\n",
       "      <th></th>\n",
       "      <th>apq_11</th>\n",
       "      <th>apq_3</th>\n",
       "      <th>jitter_percent</th>\n",
       "      <th>status</th>\n",
       "    </tr>\n",
       "  </thead>\n",
       "  <tbody>\n",
       "    <tr>\n",
       "      <th>count</th>\n",
       "      <td>252.000000</td>\n",
       "      <td>252.000000</td>\n",
       "      <td>252.000000</td>\n",
       "      <td>252.000000</td>\n",
       "    </tr>\n",
       "    <tr>\n",
       "      <th>mean</th>\n",
       "      <td>0.053749</td>\n",
       "      <td>0.034021</td>\n",
       "      <td>0.002263</td>\n",
       "      <td>0.746032</td>\n",
       "    </tr>\n",
       "    <tr>\n",
       "      <th>std</th>\n",
       "      <td>0.031213</td>\n",
       "      <td>0.022342</td>\n",
       "      <td>0.002632</td>\n",
       "      <td>0.436146</td>\n",
       "    </tr>\n",
       "    <tr>\n",
       "      <th>min</th>\n",
       "      <td>0.005220</td>\n",
       "      <td>0.003350</td>\n",
       "      <td>0.000210</td>\n",
       "      <td>0.000000</td>\n",
       "    </tr>\n",
       "    <tr>\n",
       "      <th>25%</th>\n",
       "      <td>0.029327</td>\n",
       "      <td>0.017240</td>\n",
       "      <td>0.000998</td>\n",
       "      <td>0.000000</td>\n",
       "    </tr>\n",
       "    <tr>\n",
       "      <th>50%</th>\n",
       "      <td>0.047195</td>\n",
       "      <td>0.027325</td>\n",
       "      <td>0.001440</td>\n",
       "      <td>1.000000</td>\n",
       "    </tr>\n",
       "    <tr>\n",
       "      <th>75%</th>\n",
       "      <td>0.071335</td>\n",
       "      <td>0.044585</td>\n",
       "      <td>0.002395</td>\n",
       "      <td>1.000000</td>\n",
       "    </tr>\n",
       "    <tr>\n",
       "      <th>max</th>\n",
       "      <td>0.167680</td>\n",
       "      <td>0.130510</td>\n",
       "      <td>0.027750</td>\n",
       "      <td>1.000000</td>\n",
       "    </tr>\n",
       "  </tbody>\n",
       "</table>\n",
       "</div>"
      ],
      "text/plain": [
       "           apq_11       apq_3  jitter_percent      status\n",
       "count  252.000000  252.000000      252.000000  252.000000\n",
       "mean     0.053749    0.034021        0.002263    0.746032\n",
       "std      0.031213    0.022342        0.002632    0.436146\n",
       "min      0.005220    0.003350        0.000210    0.000000\n",
       "25%      0.029327    0.017240        0.000998    0.000000\n",
       "50%      0.047195    0.027325        0.001440    1.000000\n",
       "75%      0.071335    0.044585        0.002395    1.000000\n",
       "max      0.167680    0.130510        0.027750    1.000000"
      ]
     },
     "execution_count": 263,
     "metadata": {},
     "output_type": "execute_result"
    }
   ],
   "source": [
    "df_test.describe()"
   ]
  },
  {
   "cell_type": "code",
   "execution_count": 264,
   "metadata": {},
   "outputs": [],
   "source": [
    "for col in columns_to_process:\n",
    "    df_test = df_test[(np.abs(stats.zscore(df_test[col])) < z_score_thresh_test)]"
   ]
  },
  {
   "cell_type": "code",
   "execution_count": 265,
   "metadata": {},
   "outputs": [
    {
     "data": {
      "text/html": [
       "<div>\n",
       "<style scoped>\n",
       "    .dataframe tbody tr th:only-of-type {\n",
       "        vertical-align: middle;\n",
       "    }\n",
       "\n",
       "    .dataframe tbody tr th {\n",
       "        vertical-align: top;\n",
       "    }\n",
       "\n",
       "    .dataframe thead th {\n",
       "        text-align: right;\n",
       "    }\n",
       "</style>\n",
       "<table border=\"1\" class=\"dataframe\">\n",
       "  <thead>\n",
       "    <tr style=\"text-align: right;\">\n",
       "      <th></th>\n",
       "      <th>apq_11</th>\n",
       "      <th>apq_3</th>\n",
       "      <th>jitter_percent</th>\n",
       "      <th>status</th>\n",
       "    </tr>\n",
       "  </thead>\n",
       "  <tbody>\n",
       "    <tr>\n",
       "      <th>count</th>\n",
       "      <td>117.000000</td>\n",
       "      <td>117.000000</td>\n",
       "      <td>117.000000</td>\n",
       "      <td>117.000000</td>\n",
       "    </tr>\n",
       "    <tr>\n",
       "      <th>mean</th>\n",
       "      <td>0.043668</td>\n",
       "      <td>0.026562</td>\n",
       "      <td>0.001416</td>\n",
       "      <td>0.777778</td>\n",
       "    </tr>\n",
       "    <tr>\n",
       "      <th>std</th>\n",
       "      <td>0.013817</td>\n",
       "      <td>0.007969</td>\n",
       "      <td>0.000582</td>\n",
       "      <td>0.417528</td>\n",
       "    </tr>\n",
       "    <tr>\n",
       "      <th>min</th>\n",
       "      <td>0.022980</td>\n",
       "      <td>0.014900</td>\n",
       "      <td>0.000510</td>\n",
       "      <td>0.000000</td>\n",
       "    </tr>\n",
       "    <tr>\n",
       "      <th>25%</th>\n",
       "      <td>0.032480</td>\n",
       "      <td>0.020490</td>\n",
       "      <td>0.001030</td>\n",
       "      <td>1.000000</td>\n",
       "    </tr>\n",
       "    <tr>\n",
       "      <th>50%</th>\n",
       "      <td>0.041140</td>\n",
       "      <td>0.025030</td>\n",
       "      <td>0.001370</td>\n",
       "      <td>1.000000</td>\n",
       "    </tr>\n",
       "    <tr>\n",
       "      <th>75%</th>\n",
       "      <td>0.054670</td>\n",
       "      <td>0.032740</td>\n",
       "      <td>0.001800</td>\n",
       "      <td>1.000000</td>\n",
       "    </tr>\n",
       "    <tr>\n",
       "      <th>max</th>\n",
       "      <td>0.081370</td>\n",
       "      <td>0.044930</td>\n",
       "      <td>0.003160</td>\n",
       "      <td>1.000000</td>\n",
       "    </tr>\n",
       "  </tbody>\n",
       "</table>\n",
       "</div>"
      ],
      "text/plain": [
       "           apq_11       apq_3  jitter_percent      status\n",
       "count  117.000000  117.000000      117.000000  117.000000\n",
       "mean     0.043668    0.026562        0.001416    0.777778\n",
       "std      0.013817    0.007969        0.000582    0.417528\n",
       "min      0.022980    0.014900        0.000510    0.000000\n",
       "25%      0.032480    0.020490        0.001030    1.000000\n",
       "50%      0.041140    0.025030        0.001370    1.000000\n",
       "75%      0.054670    0.032740        0.001800    1.000000\n",
       "max      0.081370    0.044930        0.003160    1.000000"
      ]
     },
     "execution_count": 265,
     "metadata": {},
     "output_type": "execute_result"
    }
   ],
   "source": [
    "df_test.describe()"
   ]
  },
  {
   "cell_type": "code",
   "execution_count": 266,
   "metadata": {},
   "outputs": [
    {
     "data": {
      "text/plain": [
       "1    850\n",
       "0    596\n",
       "Name: status, dtype: int64"
      ]
     },
     "execution_count": 266,
     "metadata": {},
     "output_type": "execute_result"
    }
   ],
   "source": [
    "df_train['status'].value_counts()"
   ]
  },
  {
   "cell_type": "code",
   "execution_count": 267,
   "metadata": {},
   "outputs": [
    {
     "data": {
      "text/plain": [
       "1    91\n",
       "0    26\n",
       "Name: status, dtype: int64"
      ]
     },
     "execution_count": 267,
     "metadata": {},
     "output_type": "execute_result"
    }
   ],
   "source": [
    "df_test['status'].value_counts()"
   ]
  },
  {
   "cell_type": "code",
   "execution_count": 268,
   "metadata": {},
   "outputs": [
    {
     "name": "stdout",
     "output_type": "stream",
     "text": [
      "Train Table Speech Data Row Count: \n",
      "1446\n"
     ]
    }
   ],
   "source": [
    "print(\"Train Table Speech Data Row Count: \")\n",
    "print(len(df_train))"
   ]
  },
  {
   "cell_type": "code",
   "execution_count": 269,
   "metadata": {},
   "outputs": [
    {
     "name": "stdout",
     "output_type": "stream",
     "text": [
      "Test Table Speech Data Row Count: \n",
      "117\n"
     ]
    }
   ],
   "source": [
    "print(\"Test Table Speech Data Row Count: \")\n",
    "print(len(df_test))"
   ]
  },
  {
   "cell_type": "code",
   "execution_count": 270,
   "metadata": {},
   "outputs": [
    {
     "name": "stdout",
     "output_type": "stream",
     "text": [
      "The PySpark train df is: \n",
      "root\n",
      " |-- subject_id: string (nullable = true)\n",
      " |-- apq_11: double (nullable = true)\n",
      " |-- apq_3: double (nullable = true)\n",
      " |-- jitter_percent: double (nullable = true)\n",
      " |-- status: long (nullable = true)\n",
      "\n",
      "+--------------+--------------------+--------------------+--------------------+------+\n",
      "|    subject_id|              apq_11|               apq_3|      jitter_percent|status|\n",
      "+--------------+--------------------+--------------------+--------------------+------+\n",
      "|phon_R01_S10_3|0.010329999960958958|0.007770000025629997|0.002099999925121665|     0|\n",
      "|phon_R01_S32_2|0.009030000306665897|0.004759999923408...|0.002700000070035...|     1|\n",
      "|       CONT-11| 0.03991299867630005| 0.03038400039076805|  0.5313299894332886|     0|\n",
      "|   0.000157842|  0.8191810250282288|  18.808000564575195|  0.5830000042915344|     1|\n",
      "|    9.8239e-05|  0.8870689868927002|  11.810999870300293|  0.7419999837875366|     1|\n",
      "|   0.000274444|  0.8325780034065247|   8.017999649047852|   2.734999895095825|     0|\n",
      "|         0.119|  1.4819999933242798|  0.5849999785423279|5.400000191002618...|     1|\n",
      "|   0.000271549|  0.7844079732894897|   7.539000034332275|  0.9980000257492065|     1|\n",
      "|    0.00010372|  0.8536990284919739|  15.329000473022461|  1.2259999513626099|     1|\n",
      "|   0.000110648|  0.6783589720726013|  13.706000328063965|  0.9509999752044678|     0|\n",
      "|   0.000117389|  0.6370519995689392|  13.342000007629395|  0.9549999833106995|     0|\n",
      "|phon_R01_S06_2| 0.03779999911785126|0.017319999635219574|0.006329999770969...|     1|\n",
      "|phon_R01_S04_1| 0.01140000019222498|0.006560000125318766|0.002929999958723...|     1|\n",
      "|     6.495e-06|  0.9979040026664734|   1.281999945640564| 0.08799999952316284|     0|\n",
      "|   0.000116073|  0.8263689875602722|  13.277999877929688|  1.0779999494552612|     0|\n",
      "|         0.273|   3.740000009536743|  2.3940000534057617|1.109999993786914...|     1|\n",
      "|   0.000142177|  0.8826259970664978|  10.220999717712402|  1.6480000019073486|     1|\n",
      "|   0.000102513|  0.8397150039672852|   5.889999866485596|  0.7860000133514404|     1|\n",
      "|   0.000156096|  0.8718169927597046|  20.354000091552734|  0.8069999814033508|     0|\n",
      "|       PARK-06|0.017483999952673912|0.013740000315010548|  0.3505299985408783|     1|\n",
      "+--------------+--------------------+--------------------+--------------------+------+\n",
      "only showing top 20 rows\n",
      "\n",
      "The PySpark test df is: \n",
      "root\n",
      " |-- subject_id: string (nullable = true)\n",
      " |-- apq_11: double (nullable = true)\n",
      " |-- apq_3: double (nullable = true)\n",
      " |-- jitter_percent: double (nullable = true)\n",
      " |-- status: long (nullable = true)\n",
      "\n",
      "+----------+--------------------+--------------------+--------------------+------+\n",
      "|subject_id|              apq_11|               apq_3|      jitter_percent|status|\n",
      "+----------+--------------------+--------------------+--------------------+------+\n",
      "|       191| 0.03954000025987625|0.021400000900030136|0.001210000016726...|     1|\n",
      "|       210| 0.06351999938488007|0.023989999666810036|9.699999936856329E-4|     0|\n",
      "|       163| 0.02824000082910061|0.026100000366568565|0.001410000026226...|     0|\n",
      "|       200| 0.03051000088453293|0.022029999643564224|0.002099999925121665|     1|\n",
      "|       144|  0.0416099987924099|0.022679999470710754| 0.00107999995816499|     1|\n",
      "|        55| 0.06560999900102615| 0.02686999924480915|7.900000200606883E-4|     1|\n",
      "|       225| 0.02298000082373619|0.017410000786185265|0.001099999994039...|     1|\n",
      "|       251|0.027650000527501106| 0.01940000057220459|7.800000021234155E-4|     0|\n",
      "|       176|   0.046509999781847|0.029519999399781227|0.001200000056996...|     1|\n",
      "|       229| 0.07137999683618546|0.025129999965429306|0.001249999972060...|     1|\n",
      "|        94|0.034529998898506165|0.015699999406933784| 0.00279000005684793|     1|\n",
      "|       188| 0.03864999860525131|0.022360000759363174|0.002009999938309...|     1|\n",
      "|       230| 0.05082999914884567| 0.03432999923825264|0.001659999950788...|     1|\n",
      "|       247|0.026739999651908875| 0.01489999983459711|0.001909999991767...|     1|\n",
      "|        67|0.027410000562667847| 0.01785999909043312|0.002050000010058284|     1|\n",
      "|        58| 0.03448000177741051|0.024730000644922256|9.399999980814755E-4|     1|\n",
      "|       159| 0.06712000072002411|0.043719999492168427|8.500000112690032E-4|     1|\n",
      "|       103|0.048579998314380646|0.043069999665021896|6.600000197067857E-4|     0|\n",
      "|        40| 0.04830000177025795|0.020190000534057617|0.001670000026933...|     1|\n",
      "|       173| 0.03359000012278557|  0.0243500005453825|8.800000068731606E-4|     0|\n",
      "+----------+--------------------+--------------------+--------------------+------+\n",
      "only showing top 20 rows\n",
      "\n"
     ]
    }
   ],
   "source": [
    "# Create PySpark DataFrames from Pandas\n",
    "print('The PySpark train df is: ')\n",
    "sparkDF_train=spark.createDataFrame(df_train) \n",
    "sparkDF_train.printSchema()\n",
    "sparkDF_train.show()\n",
    "\n",
    "print('The PySpark test df is: ')\n",
    "sparkDF_test=spark.createDataFrame(df_test) \n",
    "sparkDF_test.printSchema()\n",
    "sparkDF_test.show()"
   ]
  },
  {
   "cell_type": "code",
   "execution_count": 271,
   "metadata": {},
   "outputs": [],
   "source": [
    "def visualise_df(input_df: pd.DataFrame, limitRows: int = 5, truncate: bool = True) -> None:\n",
    "    \"\"\"\n",
    "    Visualise the first n rows of a Spark df while truncating the columns' width (if True).\n",
    "    \n",
    "    Args:\n",
    "       input_df: pd.DataFrame\n",
    "           An input df to visualise.\n",
    "       limitRows: int\n",
    "           The number of rows to show.\n",
    "       truncate: bool\n",
    "           If True (by default), truncate the columns' width.\n",
    "    \"\"\"\n",
    "    if(truncate):\n",
    "        pd.set_option('display.max_colwidth', 50)\n",
    "    else:\n",
    "        pd.set_option('display.max_colwidth', -1)\n",
    "    pd.set_option('display.max_rows', limitRows)\n",
    "    display(input_df.limit(limitRows).toPandas())\n",
    "    pd.reset_option('display.max_rows')"
   ]
  },
  {
   "cell_type": "markdown",
   "metadata": {},
   "source": [
    "#### Create vectors with all elements of the speech datasets"
   ]
  },
  {
   "cell_type": "code",
   "execution_count": 272,
   "metadata": {},
   "outputs": [
    {
     "data": {
      "text/html": [
       "<div>\n",
       "<style scoped>\n",
       "    .dataframe tbody tr th:only-of-type {\n",
       "        vertical-align: middle;\n",
       "    }\n",
       "\n",
       "    .dataframe tbody tr th {\n",
       "        vertical-align: top;\n",
       "    }\n",
       "\n",
       "    .dataframe thead th {\n",
       "        text-align: right;\n",
       "    }\n",
       "</style>\n",
       "<table border=\"1\" class=\"dataframe\">\n",
       "  <thead>\n",
       "    <tr style=\"text-align: right;\">\n",
       "      <th></th>\n",
       "      <th>subject_id</th>\n",
       "      <th>apq_11</th>\n",
       "      <th>apq_3</th>\n",
       "      <th>jitter_percent</th>\n",
       "      <th>status</th>\n",
       "      <th>features</th>\n",
       "      <th>label</th>\n",
       "    </tr>\n",
       "  </thead>\n",
       "  <tbody>\n",
       "    <tr>\n",
       "      <th>0</th>\n",
       "      <td>phon_R01_S10_3</td>\n",
       "      <td>0.010330</td>\n",
       "      <td>0.007770</td>\n",
       "      <td>0.00210</td>\n",
       "      <td>0</td>\n",
       "      <td>[0.002099999925121665, 0.007770000025629997, 0...</td>\n",
       "      <td>1.0</td>\n",
       "    </tr>\n",
       "    <tr>\n",
       "      <th>1</th>\n",
       "      <td>phon_R01_S32_2</td>\n",
       "      <td>0.009030</td>\n",
       "      <td>0.004760</td>\n",
       "      <td>0.00270</td>\n",
       "      <td>1</td>\n",
       "      <td>[0.0027000000700354576, 0.0047599999234080315,...</td>\n",
       "      <td>0.0</td>\n",
       "    </tr>\n",
       "    <tr>\n",
       "      <th>2</th>\n",
       "      <td>CONT-11</td>\n",
       "      <td>0.039913</td>\n",
       "      <td>0.030384</td>\n",
       "      <td>0.53133</td>\n",
       "      <td>0</td>\n",
       "      <td>[0.5313299894332886, 0.03038400039076805, 0.03...</td>\n",
       "      <td>1.0</td>\n",
       "    </tr>\n",
       "    <tr>\n",
       "      <th>3</th>\n",
       "      <td>0.000157842</td>\n",
       "      <td>0.819181</td>\n",
       "      <td>18.808001</td>\n",
       "      <td>0.58300</td>\n",
       "      <td>1</td>\n",
       "      <td>[0.5830000042915344, 18.808000564575195, 0.819...</td>\n",
       "      <td>0.0</td>\n",
       "    </tr>\n",
       "    <tr>\n",
       "      <th>4</th>\n",
       "      <td>9.8239e-05</td>\n",
       "      <td>0.887069</td>\n",
       "      <td>11.811000</td>\n",
       "      <td>0.74200</td>\n",
       "      <td>1</td>\n",
       "      <td>[0.7419999837875366, 11.810999870300293, 0.887...</td>\n",
       "      <td>0.0</td>\n",
       "    </tr>\n",
       "  </tbody>\n",
       "</table>\n",
       "</div>"
      ],
      "text/plain": [
       "       subject_id    apq_11      apq_3  jitter_percent  status  \\\n",
       "0  phon_R01_S10_3  0.010330   0.007770         0.00210       0   \n",
       "1  phon_R01_S32_2  0.009030   0.004760         0.00270       1   \n",
       "2         CONT-11  0.039913   0.030384         0.53133       0   \n",
       "3     0.000157842  0.819181  18.808001         0.58300       1   \n",
       "4      9.8239e-05  0.887069  11.811000         0.74200       1   \n",
       "\n",
       "                                            features  label  \n",
       "0  [0.002099999925121665, 0.007770000025629997, 0...    1.0  \n",
       "1  [0.0027000000700354576, 0.0047599999234080315,...    0.0  \n",
       "2  [0.5313299894332886, 0.03038400039076805, 0.03...    1.0  \n",
       "3  [0.5830000042915344, 18.808000564575195, 0.819...    0.0  \n",
       "4  [0.7419999837875366, 11.810999870300293, 0.887...    0.0  "
      ]
     },
     "metadata": {},
     "output_type": "display_data"
    },
    {
     "name": "stdout",
     "output_type": "stream",
     "text": [
      "1446\n"
     ]
    },
    {
     "data": {
      "text/html": [
       "<div>\n",
       "<style scoped>\n",
       "    .dataframe tbody tr th:only-of-type {\n",
       "        vertical-align: middle;\n",
       "    }\n",
       "\n",
       "    .dataframe tbody tr th {\n",
       "        vertical-align: top;\n",
       "    }\n",
       "\n",
       "    .dataframe thead th {\n",
       "        text-align: right;\n",
       "    }\n",
       "</style>\n",
       "<table border=\"1\" class=\"dataframe\">\n",
       "  <thead>\n",
       "    <tr style=\"text-align: right;\">\n",
       "      <th></th>\n",
       "      <th>subject_id</th>\n",
       "      <th>apq_11</th>\n",
       "      <th>apq_3</th>\n",
       "      <th>jitter_percent</th>\n",
       "      <th>status</th>\n",
       "      <th>features</th>\n",
       "      <th>label</th>\n",
       "    </tr>\n",
       "  </thead>\n",
       "  <tbody>\n",
       "    <tr>\n",
       "      <th>0</th>\n",
       "      <td>191</td>\n",
       "      <td>0.03954</td>\n",
       "      <td>0.02140</td>\n",
       "      <td>0.00121</td>\n",
       "      <td>1</td>\n",
       "      <td>[0.0012100000167265534, 0.021400000900030136, ...</td>\n",
       "      <td>0.0</td>\n",
       "    </tr>\n",
       "    <tr>\n",
       "      <th>1</th>\n",
       "      <td>210</td>\n",
       "      <td>0.06352</td>\n",
       "      <td>0.02399</td>\n",
       "      <td>0.00097</td>\n",
       "      <td>0</td>\n",
       "      <td>[0.0009699999936856329, 0.023989999666810036, ...</td>\n",
       "      <td>1.0</td>\n",
       "    </tr>\n",
       "    <tr>\n",
       "      <th>2</th>\n",
       "      <td>163</td>\n",
       "      <td>0.02824</td>\n",
       "      <td>0.02610</td>\n",
       "      <td>0.00141</td>\n",
       "      <td>0</td>\n",
       "      <td>[0.0014100000262260437, 0.026100000366568565, ...</td>\n",
       "      <td>1.0</td>\n",
       "    </tr>\n",
       "    <tr>\n",
       "      <th>3</th>\n",
       "      <td>200</td>\n",
       "      <td>0.03051</td>\n",
       "      <td>0.02203</td>\n",
       "      <td>0.00210</td>\n",
       "      <td>1</td>\n",
       "      <td>[0.002099999925121665, 0.022029999643564224, 0...</td>\n",
       "      <td>0.0</td>\n",
       "    </tr>\n",
       "    <tr>\n",
       "      <th>4</th>\n",
       "      <td>144</td>\n",
       "      <td>0.04161</td>\n",
       "      <td>0.02268</td>\n",
       "      <td>0.00108</td>\n",
       "      <td>1</td>\n",
       "      <td>[0.00107999995816499, 0.022679999470710754, 0....</td>\n",
       "      <td>0.0</td>\n",
       "    </tr>\n",
       "  </tbody>\n",
       "</table>\n",
       "</div>"
      ],
      "text/plain": [
       "  subject_id   apq_11    apq_3  jitter_percent  status  \\\n",
       "0        191  0.03954  0.02140         0.00121       1   \n",
       "1        210  0.06352  0.02399         0.00097       0   \n",
       "2        163  0.02824  0.02610         0.00141       0   \n",
       "3        200  0.03051  0.02203         0.00210       1   \n",
       "4        144  0.04161  0.02268         0.00108       1   \n",
       "\n",
       "                                            features  label  \n",
       "0  [0.0012100000167265534, 0.021400000900030136, ...    0.0  \n",
       "1  [0.0009699999936856329, 0.023989999666810036, ...    1.0  \n",
       "2  [0.0014100000262260437, 0.026100000366568565, ...    1.0  \n",
       "3  [0.002099999925121665, 0.022029999643564224, 0...    0.0  \n",
       "4  [0.00107999995816499, 0.022679999470710754, 0....    0.0  "
      ]
     },
     "metadata": {},
     "output_type": "display_data"
    },
    {
     "name": "stdout",
     "output_type": "stream",
     "text": [
      "117\n"
     ]
    }
   ],
   "source": [
    "assembler = VectorAssembler(\n",
    "    inputCols=['jitter_percent', 'apq_3', 'apq_11'],\n",
    "    outputCol='features'\n",
    ")\n",
    "\n",
    "trainingData = assembler.transform(sparkDF_train)\n",
    "\n",
    "labelIndexer_train = StringIndexer(inputCol=\"status\", outputCol=\"label\", handleInvalid='keep')\n",
    "train = labelIndexer_train.fit(trainingData).transform(trainingData)\n",
    "\n",
    "visualise_df(train)\n",
    "print(train.count())\n",
    "\n",
    "testingData = assembler.transform(sparkDF_test)\n",
    "\n",
    "labelIndexer_test = StringIndexer(inputCol=\"status\", outputCol=\"label\", handleInvalid='keep')\n",
    "test = labelIndexer_test.fit(testingData).transform(testingData)\n",
    "\n",
    "visualise_df(test)\n",
    "print(test.count())"
   ]
  },
  {
   "cell_type": "markdown",
   "metadata": {},
   "source": [
    "### Train a Gradient-Boosted Tree model whilst preserving the train and test sets generated above, which prevent both time-related data leakage and do not have any overlapping subjects between train and test sets. \n",
    "\n",
    "### The optimal hyperparameters were obtained via grid search optimisation when cross-validating the model during training."
   ]
  },
  {
   "cell_type": "code",
   "execution_count": 296,
   "metadata": {},
   "outputs": [
    {
     "name": "stdout",
     "output_type": "stream",
     "text": [
      "117\n"
     ]
    },
    {
     "data": {
      "text/html": [
       "<div>\n",
       "<style scoped>\n",
       "    .dataframe tbody tr th:only-of-type {\n",
       "        vertical-align: middle;\n",
       "    }\n",
       "\n",
       "    .dataframe tbody tr th {\n",
       "        vertical-align: top;\n",
       "    }\n",
       "\n",
       "    .dataframe thead th {\n",
       "        text-align: right;\n",
       "    }\n",
       "</style>\n",
       "<table border=\"1\" class=\"dataframe\">\n",
       "  <thead>\n",
       "    <tr style=\"text-align: right;\">\n",
       "      <th></th>\n",
       "      <th>subject_id</th>\n",
       "      <th>apq_11</th>\n",
       "      <th>apq_3</th>\n",
       "      <th>jitter_percent</th>\n",
       "      <th>status</th>\n",
       "      <th>features</th>\n",
       "      <th>label</th>\n",
       "      <th>rawPrediction</th>\n",
       "      <th>probability</th>\n",
       "      <th>prediction</th>\n",
       "    </tr>\n",
       "  </thead>\n",
       "  <tbody>\n",
       "    <tr>\n",
       "      <th>0</th>\n",
       "      <td>191</td>\n",
       "      <td>0.03954</td>\n",
       "      <td>0.02140</td>\n",
       "      <td>0.00121</td>\n",
       "      <td>1</td>\n",
       "      <td>[0.0012100000167265534, 0.021400000900030136, ...</td>\n",
       "      <td>0.0</td>\n",
       "      <td>[1.0907984820379764, -1.0907984820379764]</td>\n",
       "      <td>[0.8985846964841182, 0.1014153035158818]</td>\n",
       "      <td>0.0</td>\n",
       "    </tr>\n",
       "    <tr>\n",
       "      <th>1</th>\n",
       "      <td>210</td>\n",
       "      <td>0.06352</td>\n",
       "      <td>0.02399</td>\n",
       "      <td>0.00097</td>\n",
       "      <td>0</td>\n",
       "      <td>[0.0009699999936856329, 0.023989999666810036, ...</td>\n",
       "      <td>1.0</td>\n",
       "      <td>[1.0907984820379764, -1.0907984820379764]</td>\n",
       "      <td>[0.8985846964841182, 0.1014153035158818]</td>\n",
       "      <td>0.0</td>\n",
       "    </tr>\n",
       "    <tr>\n",
       "      <th>2</th>\n",
       "      <td>163</td>\n",
       "      <td>0.02824</td>\n",
       "      <td>0.02610</td>\n",
       "      <td>0.00141</td>\n",
       "      <td>0</td>\n",
       "      <td>[0.0014100000262260437, 0.026100000366568565, ...</td>\n",
       "      <td>1.0</td>\n",
       "      <td>[-0.9197713013547661, 0.9197713013547661]</td>\n",
       "      <td>[0.13710539712710162, 0.8628946028728983]</td>\n",
       "      <td>1.0</td>\n",
       "    </tr>\n",
       "    <tr>\n",
       "      <th>3</th>\n",
       "      <td>200</td>\n",
       "      <td>0.03051</td>\n",
       "      <td>0.02203</td>\n",
       "      <td>0.00210</td>\n",
       "      <td>1</td>\n",
       "      <td>[0.002099999925121665, 0.022029999643564224, 0...</td>\n",
       "      <td>0.0</td>\n",
       "      <td>[1.0907984820379764, -1.0907984820379764]</td>\n",
       "      <td>[0.8985846964841182, 0.1014153035158818]</td>\n",
       "      <td>0.0</td>\n",
       "    </tr>\n",
       "    <tr>\n",
       "      <th>4</th>\n",
       "      <td>144</td>\n",
       "      <td>0.04161</td>\n",
       "      <td>0.02268</td>\n",
       "      <td>0.00108</td>\n",
       "      <td>1</td>\n",
       "      <td>[0.00107999995816499, 0.022679999470710754, 0....</td>\n",
       "      <td>0.0</td>\n",
       "      <td>[1.0907984820379764, -1.0907984820379764]</td>\n",
       "      <td>[0.8985846964841182, 0.1014153035158818]</td>\n",
       "      <td>0.0</td>\n",
       "    </tr>\n",
       "  </tbody>\n",
       "</table>\n",
       "</div>"
      ],
      "text/plain": [
       "  subject_id   apq_11    apq_3  jitter_percent  status  \\\n",
       "0        191  0.03954  0.02140         0.00121       1   \n",
       "1        210  0.06352  0.02399         0.00097       0   \n",
       "2        163  0.02824  0.02610         0.00141       0   \n",
       "3        200  0.03051  0.02203         0.00210       1   \n",
       "4        144  0.04161  0.02268         0.00108       1   \n",
       "\n",
       "                                            features  label  \\\n",
       "0  [0.0012100000167265534, 0.021400000900030136, ...    0.0   \n",
       "1  [0.0009699999936856329, 0.023989999666810036, ...    1.0   \n",
       "2  [0.0014100000262260437, 0.026100000366568565, ...    1.0   \n",
       "3  [0.002099999925121665, 0.022029999643564224, 0...    0.0   \n",
       "4  [0.00107999995816499, 0.022679999470710754, 0....    0.0   \n",
       "\n",
       "                               rawPrediction  \\\n",
       "0  [1.0907984820379764, -1.0907984820379764]   \n",
       "1  [1.0907984820379764, -1.0907984820379764]   \n",
       "2  [-0.9197713013547661, 0.9197713013547661]   \n",
       "3  [1.0907984820379764, -1.0907984820379764]   \n",
       "4  [1.0907984820379764, -1.0907984820379764]   \n",
       "\n",
       "                                 probability  prediction  \n",
       "0   [0.8985846964841182, 0.1014153035158818]         0.0  \n",
       "1   [0.8985846964841182, 0.1014153035158818]         0.0  \n",
       "2  [0.13710539712710162, 0.8628946028728983]         1.0  \n",
       "3   [0.8985846964841182, 0.1014153035158818]         0.0  \n",
       "4   [0.8985846964841182, 0.1014153035158818]         0.0  "
      ]
     },
     "metadata": {},
     "output_type": "display_data"
    }
   ],
   "source": [
    "# stepSize is the learning rate and a low value can improve the predictive performance \n",
    "# of a gradient boosting model.\n",
    "# subsamplingRate is the percentage of training data used for learning in each decision tree.\n",
    "gbt = GBTClassifier(labelCol=\"label\", featuresCol=\"features\", maxIter=15, seed=13,\n",
    "                   maxDepth=6, stepSize=0.01, maxBins=145, subsamplingRate=0.7)\n",
    "\n",
    "pipeline = Pipeline(stages=[gbt])\n",
    "\n",
    "paramGrid = (ParamGridBuilder().addGrid(\n",
    "    param=gbt.validationTol, values=[0.1, 0.01, 0.05]).build())\n",
    "\n",
    "weighted_recall_evaluator = MulticlassClassificationEvaluator(labelCol=\"label\", predictionCol=\"prediction\",\n",
    "                                              metricName=\"weightedRecall\")\n",
    "\n",
    "gbt_crossval = CrossValidator(\n",
    "    estimator=pipeline,\n",
    "    estimatorParamMaps=paramGrid,\n",
    "    evaluator=weighted_recall_evaluator)\n",
    "\n",
    "gbt_model = gbt_crossval.fit(train)\n",
    "\n",
    "predictions_from_GBT = gbt_model.transform(test)\n",
    "\n",
    "print(predictions_from_GBT.count())\n",
    "visualise_df(predictions_from_GBT)"
   ]
  },
  {
   "cell_type": "code",
   "execution_count": 299,
   "metadata": {},
   "outputs": [
    {
     "name": "stdout",
     "output_type": "stream",
     "text": [
      "1446\n"
     ]
    },
    {
     "data": {
      "text/html": [
       "<div>\n",
       "<style scoped>\n",
       "    .dataframe tbody tr th:only-of-type {\n",
       "        vertical-align: middle;\n",
       "    }\n",
       "\n",
       "    .dataframe tbody tr th {\n",
       "        vertical-align: top;\n",
       "    }\n",
       "\n",
       "    .dataframe thead th {\n",
       "        text-align: right;\n",
       "    }\n",
       "</style>\n",
       "<table border=\"1\" class=\"dataframe\">\n",
       "  <thead>\n",
       "    <tr style=\"text-align: right;\">\n",
       "      <th></th>\n",
       "      <th>subject_id</th>\n",
       "      <th>apq_11</th>\n",
       "      <th>apq_3</th>\n",
       "      <th>jitter_percent</th>\n",
       "      <th>status</th>\n",
       "      <th>features</th>\n",
       "      <th>label</th>\n",
       "      <th>rawPrediction</th>\n",
       "      <th>probability</th>\n",
       "      <th>prediction</th>\n",
       "    </tr>\n",
       "  </thead>\n",
       "  <tbody>\n",
       "    <tr>\n",
       "      <th>0</th>\n",
       "      <td>phon_R01_S10_3</td>\n",
       "      <td>0.010330</td>\n",
       "      <td>0.007770</td>\n",
       "      <td>0.00210</td>\n",
       "      <td>0</td>\n",
       "      <td>[0.002099999925121665, 0.007770000025629997, 0...</td>\n",
       "      <td>1.0</td>\n",
       "      <td>[-0.3280711551707878, 0.3280711551707878]</td>\n",
       "      <td>[0.3416067196751755, 0.6583932803248245]</td>\n",
       "      <td>1.0</td>\n",
       "    </tr>\n",
       "    <tr>\n",
       "      <th>1</th>\n",
       "      <td>phon_R01_S32_2</td>\n",
       "      <td>0.009030</td>\n",
       "      <td>0.004760</td>\n",
       "      <td>0.00270</td>\n",
       "      <td>1</td>\n",
       "      <td>[0.0027000000700354576, 0.0047599999234080315,...</td>\n",
       "      <td>0.0</td>\n",
       "      <td>[0.9938570195592007, -0.9938570195592007]</td>\n",
       "      <td>[0.8795010839430571, 0.12049891605694285]</td>\n",
       "      <td>0.0</td>\n",
       "    </tr>\n",
       "    <tr>\n",
       "      <th>2</th>\n",
       "      <td>CONT-11</td>\n",
       "      <td>0.039913</td>\n",
       "      <td>0.030384</td>\n",
       "      <td>0.53133</td>\n",
       "      <td>0</td>\n",
       "      <td>[0.5313299894332886, 0.03038400039076805, 0.03...</td>\n",
       "      <td>1.0</td>\n",
       "      <td>[-0.3195051195011482, 0.3195051195011482]</td>\n",
       "      <td>[0.3454703104761629, 0.654529689523837]</td>\n",
       "      <td>1.0</td>\n",
       "    </tr>\n",
       "    <tr>\n",
       "      <th>3</th>\n",
       "      <td>0.000157842</td>\n",
       "      <td>0.819181</td>\n",
       "      <td>18.808001</td>\n",
       "      <td>0.58300</td>\n",
       "      <td>1</td>\n",
       "      <td>[0.5830000042915344, 18.808000564575195, 0.819...</td>\n",
       "      <td>0.0</td>\n",
       "      <td>[-0.7838004055566715, 0.7838004055566715]</td>\n",
       "      <td>[0.172558684097611, 0.827441315902389]</td>\n",
       "      <td>1.0</td>\n",
       "    </tr>\n",
       "    <tr>\n",
       "      <th>4</th>\n",
       "      <td>9.8239e-05</td>\n",
       "      <td>0.887069</td>\n",
       "      <td>11.811000</td>\n",
       "      <td>0.74200</td>\n",
       "      <td>1</td>\n",
       "      <td>[0.7419999837875366, 11.810999870300293, 0.887...</td>\n",
       "      <td>0.0</td>\n",
       "      <td>[-0.07244051105711045, 0.07244051105711045]</td>\n",
       "      <td>[0.46384296856885837, 0.5361570314311417]</td>\n",
       "      <td>1.0</td>\n",
       "    </tr>\n",
       "  </tbody>\n",
       "</table>\n",
       "</div>"
      ],
      "text/plain": [
       "       subject_id    apq_11      apq_3  jitter_percent  status  \\\n",
       "0  phon_R01_S10_3  0.010330   0.007770         0.00210       0   \n",
       "1  phon_R01_S32_2  0.009030   0.004760         0.00270       1   \n",
       "2         CONT-11  0.039913   0.030384         0.53133       0   \n",
       "3     0.000157842  0.819181  18.808001         0.58300       1   \n",
       "4      9.8239e-05  0.887069  11.811000         0.74200       1   \n",
       "\n",
       "                                            features  label  \\\n",
       "0  [0.002099999925121665, 0.007770000025629997, 0...    1.0   \n",
       "1  [0.0027000000700354576, 0.0047599999234080315,...    0.0   \n",
       "2  [0.5313299894332886, 0.03038400039076805, 0.03...    1.0   \n",
       "3  [0.5830000042915344, 18.808000564575195, 0.819...    0.0   \n",
       "4  [0.7419999837875366, 11.810999870300293, 0.887...    0.0   \n",
       "\n",
       "                                 rawPrediction  \\\n",
       "0    [-0.3280711551707878, 0.3280711551707878]   \n",
       "1    [0.9938570195592007, -0.9938570195592007]   \n",
       "2    [-0.3195051195011482, 0.3195051195011482]   \n",
       "3    [-0.7838004055566715, 0.7838004055566715]   \n",
       "4  [-0.07244051105711045, 0.07244051105711045]   \n",
       "\n",
       "                                 probability  prediction  \n",
       "0   [0.3416067196751755, 0.6583932803248245]         1.0  \n",
       "1  [0.8795010839430571, 0.12049891605694285]         0.0  \n",
       "2    [0.3454703104761629, 0.654529689523837]         1.0  \n",
       "3     [0.172558684097611, 0.827441315902389]         1.0  \n",
       "4  [0.46384296856885837, 0.5361570314311417]         1.0  "
      ]
     },
     "metadata": {},
     "output_type": "display_data"
    }
   ],
   "source": [
    "# Predictions for the training set\n",
    "predictions_from_GBT_train = gbt_model.transform(train)\n",
    "\n",
    "print(predictions_from_GBT_train.count())\n",
    "visualise_df(predictions_from_GBT_train)"
   ]
  },
  {
   "cell_type": "code",
   "execution_count": 297,
   "metadata": {},
   "outputs": [
    {
     "name": "stdout",
     "output_type": "stream",
     "text": [
      "Best validation tol:  0.1\n"
     ]
    }
   ],
   "source": [
    "best_gbt_model = gbt_model.bestModel\n",
    "print('Best validation tol: ', best_gbt_model.stages[-1]._java_obj.parent().getValidationTol())"
   ]
  },
  {
   "cell_type": "markdown",
   "metadata": {},
   "source": [
    "### Leverage the MulticlassClassificationEvaluator to evaluate the accuracy and reliability of the predictions obtained via the Gradient Boosted Tree model. "
   ]
  },
  {
   "cell_type": "code",
   "execution_count": 298,
   "metadata": {},
   "outputs": [
    {
     "name": "stdout",
     "output_type": "stream",
     "text": [
      "Test set accuracy for the Gradient-Boosted Tree = 0.795\n",
      "Test set weighted precision for the Gradient-Boosted Tree = 0.838\n",
      "Test set weighted recall for the Gradient-Boosted Tree = 0.795\n",
      "Test set weighted F-measure for the Gradient-Boosted Tree = 0.719\n"
     ]
    }
   ],
   "source": [
    "# Compute key evaluation metrics on the test set, i.e., accuracy, \n",
    "# weightedPrecision, weightedRecall, weightedFMeasure\n",
    "\n",
    "precision_vals = 3\n",
    "\n",
    "accuracy_evaluator = MulticlassClassificationEvaluator(labelCol=\"label\", predictionCol=\"prediction\",\n",
    "                                              metricName=\"accuracy\")\n",
    "accuracy_GBT = accuracy_evaluator.evaluate(predictions_from_GBT)\n",
    "print(\"Test set accuracy for the Gradient-Boosted Tree = \" + str(round(accuracy_GBT, precision_vals)))\n",
    "\n",
    "weighted_precision_evaluator = MulticlassClassificationEvaluator(labelCol=\"label\", predictionCol=\"prediction\",\n",
    "                                              metricName=\"weightedPrecision\")\n",
    "weighted_precision_GBT = weighted_precision_evaluator.evaluate(predictions_from_GBT)\n",
    "print(\"Test set weighted precision for the Gradient-Boosted Tree = \" + str(round(weighted_precision_GBT, precision_vals)))\n",
    "\n",
    "# Recall is also named as 'sensitivity' or 'true positive rate', and is the key metric to increase in this project.\n",
    "weighted_recall_GBT = weighted_recall_evaluator.evaluate(predictions_from_GBT)\n",
    "print(\"Test set weighted recall for the Gradient-Boosted Tree = \" + str(round(weighted_recall_GBT, precision_vals)))\n",
    "\n",
    "# F-measure is also named as 'F-score' or 'F1-score', and is the harmonic mean between precision and recall.\n",
    "weighted_f_measure_evaluator = MulticlassClassificationEvaluator(labelCol=\"label\", predictionCol=\"prediction\",\n",
    "                                              metricName=\"weightedFMeasure\")\n",
    "weighted_f_measure_GBT = weighted_f_measure_evaluator.evaluate(predictions_from_GBT)\n",
    "print(\"Test set weighted F-measure for the Gradient-Boosted Tree = \" + str(round(weighted_f_measure_GBT, precision_vals)))"
   ]
  },
  {
   "cell_type": "code",
   "execution_count": 300,
   "metadata": {},
   "outputs": [
    {
     "name": "stdout",
     "output_type": "stream",
     "text": [
      "Train set accuracy for the Gradient-Boosted Tree = 0.735\n",
      "Train set weighted precision for the Gradient-Boosted Tree = 0.746\n",
      "Train set weighted recall for the Gradient-Boosted Tree = 0.735\n",
      "Train set weighted F-measure for the Gradient-Boosted Tree = 0.737\n"
     ]
    }
   ],
   "source": [
    "# Compute key evaluation metrics on the train set, i.e., accuracy, \n",
    "# weightedPrecision, weightedRecall, weightedFMeasure\n",
    "\n",
    "accuracy_GBT_train = accuracy_evaluator.evaluate(predictions_from_GBT_train)\n",
    "print(\"Train set accuracy for the Gradient-Boosted Tree = \" + str(round(accuracy_GBT_train, precision_vals)))\n",
    "\n",
    "weighted_precision_GBT_train = weighted_precision_evaluator.evaluate(predictions_from_GBT_train)\n",
    "print(\"Train set weighted precision for the Gradient-Boosted Tree = \" + str(round(weighted_precision_GBT_train, precision_vals)))\n",
    "\n",
    "weighted_recall_GBT_train = weighted_recall_evaluator.evaluate(predictions_from_GBT_train)\n",
    "print(\"Train set weighted recall for the Gradient-Boosted Tree = \" + str(round(weighted_recall_GBT_train, precision_vals)))\n",
    "\n",
    "weighted_f_measure_GBT_train = weighted_f_measure_evaluator.evaluate(predictions_from_GBT_train)\n",
    "print(\"Train set weighted F-measure for the Gradient-Boosted Tree = \" + str(round(weighted_f_measure_GBT_train, precision_vals)))"
   ]
  },
  {
   "cell_type": "markdown",
   "metadata": {},
   "source": [
    "### Insights on predictive performance on the (unseen) test set\n",
    "\n",
    "The initial set of metrics (from the [PR no. 2](https://github.com/marianne-manaog/vs-ml-pd-detector/pull/2)) of a Random Forest (RF) model, using \n",
    "80% and 20% of the data split randomly between the train and test sets but without training the model via cross-validation, was as follows:\n",
    "- Test set accuracy = 0.709\n",
    "- Test set weighted precision = 0.706\n",
    "- Test set weighted recall = 0.709\n",
    "- Test set weighted F-measure = 0.707\n",
    "\n",
    "The second set of metrics (from the [PR no. 3](https://github.com/marianne-manaog/vs-ml-pd-detector/pull/3)) of a RF model, using the previously generated data splits to avoid time- and subject-related data leakage (2008-2016 data for training, 2018 data on different subjects for testing) but without training the model via cross-validation, was as follows:\n",
    "- Test set accuracy = 0.75\n",
    "- Test set weighted precision = 0.706\n",
    "- Test set weighted recall = 0.75\n",
    "- Test set weighted F-measure = 0.691\n",
    "\n",
    "The third set of metrics (from the [PR no. 4](https://github.com/marianne-manaog/vs-ml-pd-detector/pull/4)) of a RF model, using the previously generated data splits to avoid time- and subject-related data leakage (2008-2016 data for training, 2018 data on different subjects for testing) but training the model with cross-validation, was as follows:\n",
    "- Test set accuracy = 0.75\n",
    "- Test set weighted precision = 0.813\n",
    "- Test set weighted recall = 0.75\n",
    "- Test set weighted F-measure = 0.647\n",
    "\n",
    "The fourth set of metrics (from the [PR no. 5](https://github.com/marianne-manaog/vs-ml-pd-detector/pull/5)) of a Gradient-Boosted Tree (GBT) model, using the previously generated data splits to avoid time- and subject-related data leakage (2008-2016 data for training, 2018 data on different subjects for testing) but training the model with cross-validation, was as follows:\n",
    "- Test set accuracy = 0.762\n",
    "- Test set weighted precision = 0.737\n",
    "- Test set weighted recall = 0.762\n",
    "- Test set weighted F-measure = 0.7\n",
    "\n",
    "I.e., the following predictive performance changes have been achieved between the third (RF) and fourth (GBT) set of metrics:\n",
    "- Increased accuracy by 1.2%\n",
    "- Decreased weighted precision by 7.6%\n",
    "- Increased weighted recall by 1.2%\n",
    "- Increased weighted F-measure by 5.3%\n",
    "\n",
    "Thus, overall and considering that the weighted recall is the key metric to increase in this project, the predictive performance of the GBT model was found slightly higher than the RF and the Decision Tree models. Thus, the GBT model was selected as the optimal one for this project.\n",
    "\n",
    "In this notebook (from the [PR no. 6](https://github.com/marianne-manaog/vs-ml-pd-detector/pull/6)), multi-collinear features were identified and discarded, thus leading to retain the top three predictors for model training, i.e., apq_11, apq_3, jitter_percent. Furthermore, outliers were detected and removed via the z-scores-based method. The final GBT model's predictive performance on the test set was as follows, which is slightly higher than its training performance, indicating a promising generalisation on unseen data: \n",
    "- Test set accuracy = 0.795, 3.3% higher than the previous version\n",
    "- Test set weighted precision = 0.838, 10.1% higher than the previous version\n",
    "- Test set weighted recall = 0.795, 3.3% higher than the previous version\n",
    "- Test set weighted F-measure = 0.719, 1.9% higher than the previous version"
   ]
  },
  {
   "cell_type": "code",
   "execution_count": 275,
   "metadata": {
    "scrolled": true
   },
   "outputs": [],
   "source": [
    "session.execute(\"\"\"drop table speech_data\"\"\")"
   ]
  }
 ],
 "metadata": {
  "kernelspec": {
   "display_name": "vs-l-pd-detector",
   "language": "python",
   "name": "vs-l-pd-detector"
  },
  "language_info": {
   "codemirror_mode": {
    "name": "ipython",
    "version": 3
   },
   "file_extension": ".py",
   "mimetype": "text/x-python",
   "name": "python",
   "nbconvert_exporter": "python",
   "pygments_lexer": "ipython3",
   "version": "3.8.8"
  }
 },
 "nbformat": 4,
 "nbformat_minor": 4
}
