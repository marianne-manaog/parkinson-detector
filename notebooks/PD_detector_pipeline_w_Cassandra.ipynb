{
 "cells": [
  {
   "cell_type": "markdown",
   "metadata": {},
   "source": [
    "# Parkinson's Disease Detector with Apache Cassandra and PySpark Machine Learning"
   ]
  },
  {
   "cell_type": "markdown",
   "metadata": {},
   "source": [
    "### Jupyter notebook inspired by the template at https://github.com/datastaxdevs/workshop-machine-learning/blob/master/jupyter/Random%20Forest.ipynb"
   ]
  },
  {
   "cell_type": "code",
   "execution_count": 36,
   "metadata": {},
   "outputs": [],
   "source": [
    "!pip3 install matplotlib --quiet\n",
    "!pip3 install ipykernel --quiet"
   ]
  },
  {
   "cell_type": "code",
   "execution_count": 2,
   "metadata": {},
   "outputs": [],
   "source": [
    "!pip install cassandra-driver --quiet\n",
    "!pip install pyspark==3.4.1 --quiet"
   ]
  },
  {
   "cell_type": "code",
   "execution_count": 3,
   "metadata": {},
   "outputs": [
    {
     "name": "stdout",
     "output_type": "stream",
     "text": [
      "Installed kernelspec vs-l-pd-detector in /Users/mariannelynemanaog/Library/Jupyter/kernels/vs-l-pd-detector\r\n"
     ]
    }
   ],
   "source": [
    "!python3 -m ipykernel install --user --name=vs-l-pd-detector"
   ]
  },
  {
   "cell_type": "code",
   "execution_count": 4,
   "metadata": {},
   "outputs": [],
   "source": [
    "!PYDEVD_DISABLE_FILE_VALIDATION=1"
   ]
  },
  {
   "cell_type": "code",
   "execution_count": 55,
   "metadata": {},
   "outputs": [],
   "source": [
    "import os\n",
    "import random\n",
    "import re\n",
    "import warnings\n",
    "\n",
    "import matplotlib.pyplot as plt\n",
    "import pandas as pd\n",
    "import cassandra\n",
    "import pyspark\n",
    "\n",
    "from IPython.display import display, Markdown\n",
    "from random import randint, randrange\n",
    "\n",
    "from cassandra.cluster import Cluster\n",
    "from pyspark.sql import SparkSession\n",
    "from pyspark.ml.classification import RandomForestClassifier\n",
    "from pyspark.ml.feature import IndexToString, StringIndexer, VectorAssembler\n",
    "from pyspark.ml.evaluation import MulticlassClassificationEvaluator"
   ]
  },
  {
   "cell_type": "code",
   "execution_count": null,
   "metadata": {},
   "outputs": [],
   "source": [
    "warnings.filterwarnings('ignore')\n",
    "%matplotlib inline"
   ]
  },
  {
   "cell_type": "markdown",
   "metadata": {},
   "source": [
    "#### Helper function to have nicer formatting of Spark DataFrames"
   ]
  },
  {
   "cell_type": "markdown",
   "metadata": {},
   "source": [
    "## Creating Tables and Loading Tables"
   ]
  },
  {
   "cell_type": "code",
   "execution_count": 13,
   "metadata": {},
   "outputs": [],
   "source": [
    "# Install the latest version of Cassandra (4.1.3) from https://www.apache.org/dyn/closer.lua/cassandra/4.1.3/apache-cassandra-4.1.3-bin.tar.gz"
   ]
  },
  {
   "cell_type": "code",
   "execution_count": null,
   "metadata": {},
   "outputs": [],
   "source": [
    "# Install GPG to verify the hash of the downloaded tarball\n",
    "!arch -arm64 brew install gnupg gnupg2\n",
    "\n",
    "# Link GPG\n",
    "!brew link gnupg\n",
    "\n",
    "!gpg --print-md SHA256 apache-cassandra-4.1.3-bin.tar.gz"
   ]
  },
  {
   "cell_type": "code",
   "execution_count": 6,
   "metadata": {},
   "outputs": [
    {
     "name": "stdout",
     "output_type": "stream",
     "text": [
      "da014999723f4e1e2c15775dac6aaa9ff69a48f6df6465740fcd52ca9d19ea88\r\n"
     ]
    }
   ],
   "source": [
    "# Compare the signature with the SHA256 file from the Downloads site\n",
    "!curl -L https://downloads.apache.org/cassandra/4.1.3/apache-cassandra-4.1.3-bin.tar.gz.sha256"
   ]
  },
  {
   "cell_type": "code",
   "execution_count": null,
   "metadata": {},
   "outputs": [],
   "source": [
    "# Unpack the tarball\n",
    "!tar xzvf apache-cassandra-4.1.3-bin.tar.gz"
   ]
  },
  {
   "cell_type": "code",
   "execution_count": 12,
   "metadata": {},
   "outputs": [],
   "source": [
    "os.chdir('apache-cassandra-4.1.3')"
   ]
  },
  {
   "cell_type": "code",
   "execution_count": 13,
   "metadata": {},
   "outputs": [
    {
     "name": "stdout",
     "output_type": "stream",
     "text": [
      "/Users/mariannelynemanaog/PycharmProjects/vs-ml-pd-detector/notebooks/apache-cassandra-4.1.3\r\n"
     ]
    }
   ],
   "source": [
    "!pwd"
   ]
  },
  {
   "cell_type": "code",
   "execution_count": 14,
   "metadata": {},
   "outputs": [],
   "source": [
    "!bin/cassandra"
   ]
  },
  {
   "cell_type": "code",
   "execution_count": 53,
   "metadata": {},
   "outputs": [
    {
     "name": "stdout",
     "output_type": "stream",
     "text": [
      "4.1.3\r\n"
     ]
    }
   ],
   "source": [
    "# Verify cassandra installation by checking its version number\n",
    "!cassandra -v"
   ]
  },
  {
   "cell_type": "code",
   "execution_count": null,
   "metadata": {},
   "outputs": [],
   "source": [
    "# Start the cassandra server on the terminal\n",
    "# !cassandra -f"
   ]
  },
  {
   "cell_type": "markdown",
   "metadata": {},
   "source": [
    "### Connect to Cassandra"
   ]
  },
  {
   "cell_type": "code",
   "execution_count": 17,
   "metadata": {},
   "outputs": [],
   "source": [
    "# Get the IP address by running 'cqlsh' on the terminal\n",
    "cluster = Cluster(['127.0.0.1'])\n",
    "session = cluster.connect()"
   ]
  },
  {
   "cell_type": "markdown",
   "metadata": {},
   "source": [
    "### Create Demo Keyspace "
   ]
  },
  {
   "cell_type": "code",
   "execution_count": 18,
   "metadata": {},
   "outputs": [
    {
     "data": {
      "text/plain": [
       "<cassandra.cluster.ResultSet at 0x7fbf380bd250>"
      ]
     },
     "execution_count": 18,
     "metadata": {},
     "output_type": "execute_result"
    }
   ],
   "source": [
    "session.execute(\"\"\"\n",
    "    CREATE KEYSPACE IF NOT EXISTS accelerate \n",
    "    WITH REPLICATION = \n",
    "    { 'class' : 'SimpleStrategy', 'replication_factor' : 1 }\"\"\"\n",
    ")"
   ]
  },
  {
   "cell_type": "markdown",
   "metadata": {},
   "source": [
    "### Set keyspace "
   ]
  },
  {
   "cell_type": "code",
   "execution_count": 19,
   "metadata": {},
   "outputs": [],
   "source": [
    "session.set_keyspace('accelerate')"
   ]
  },
  {
   "cell_type": "markdown",
   "metadata": {},
   "source": [
    "### Create table called `speech_data`. Our PRIMARY will be a unique key (subjectId) we generate for each row.  This will have two datasets \"train\" and \"test\""
   ]
  },
  {
   "cell_type": "code",
   "execution_count": 20,
   "metadata": {},
   "outputs": [
    {
     "data": {
      "text/plain": [
       "<cassandra.cluster.ResultSet at 0x7fbf4a9a9c10>"
      ]
     },
     "execution_count": 20,
     "metadata": {},
     "output_type": "execute_result"
    }
   ],
   "source": [
    "query = \"CREATE TABLE IF NOT EXISTS speech_data \\\n",
    "                                   (subject_id text, jitter_percent float, jitter_abs float, rap float, ppq float, \\\n",
    "                                   apq_3 float, apq_5 float, apq_11 float, status int, \\\n",
    "                                   PRIMARY KEY (subject_id))\"\n",
    "session.execute(query)"
   ]
  },
  {
   "cell_type": "markdown",
   "metadata": {},
   "source": [
    "### Load the train and test datasets from csv files\n",
    "\n",
    "#### Insert all speech data into the DSE table `speech_data`"
   ]
  },
  {
   "cell_type": "code",
   "execution_count": 21,
   "metadata": {},
   "outputs": [],
   "source": [
    "fileName = '/Users/mariannelynemanaog/PycharmProjects/vs-ml-pd-detector/src/data/train_and_test_sets/train_data.csv'\n",
    "input_file = open(fileName, 'r')\n",
    "i = 1\n",
    "for line_number, line in enumerate(input_file):\n",
    "    if line_number == 0:\n",
    "        continue  # Skip the first line, as it has the header with the column names\n",
    "    subject_id = i\n",
    "    row = line.replace('\\n', \"\").split(',')\n",
    "    \n",
    "    query = \"INSERT INTO speech_data (subject_id, jitter_percent, jitter_abs, rap, ppq, \\\n",
    "                               apq_3, apq_5, apq_11, status)\"\n",
    "    query = query + \" VALUES (%s, %s, %s, %s, %s, %s, %s, %s, %s)\"\n",
    "    session.execute(query, (str(row[0]), float(row[1]), float(row[2]), float(row[3]), float(row[4]), float(row[5]), float(row[6]), float(row[7]), int(row[8])))\n",
    "    i = i + 1\n",
    "\n",
    "fileName = '/Users/mariannelynemanaog/PycharmProjects/vs-ml-pd-detector/src/data/train_and_test_sets/test_data.csv'\n",
    "input_file = open(fileName, 'r')\n",
    "\n",
    "for line_number, line in enumerate(input_file):\n",
    "    if line_number == 0:\n",
    "        continue  # Skip the first line, as it has the header with the column names\n",
    "    subject_id = i\n",
    "    row = line.replace('\\n', \"\").split(',')\n",
    "        \n",
    "    query = \"INSERT INTO speech_data (subject_id, jitter_percent, jitter_abs, rap, ppq, \\\n",
    "                               apq_3, apq_5, apq_11, status)\"\n",
    "    query = query + \" VALUES (%s, %s, %s, %s, %s, %s, %s, %s, %s)\"\n",
    "    session.execute(query, (str(row[0]), float(row[1]), float(row[2]), float(row[3]), float(row[4]), float(row[5]), float(row[6]), float(row[7]), int(row[8])))\n",
    "    i = i + 1\n",
    "    "
   ]
  },
  {
   "cell_type": "markdown",
   "metadata": {},
   "source": [
    "## Machine Learning with Apache Cassandra and Apache Spark"
   ]
  },
  {
   "cell_type": "markdown",
   "metadata": {},
   "source": [
    "#### Create a spark session that is connected to the database. From there load each table into a Spark Dataframe and take a count of the number of rows in each."
   ]
  },
  {
   "cell_type": "code",
   "execution_count": 8,
   "metadata": {},
   "outputs": [],
   "source": [
    "spark = SparkSession.builder.appName('demo').master(\"local\").getOrCreate()"
   ]
  },
  {
   "cell_type": "code",
   "execution_count": 9,
   "metadata": {},
   "outputs": [
    {
     "data": {
      "text/html": [
       "\n",
       "            <div>\n",
       "                <p><b>SparkSession - in-memory</b></p>\n",
       "                \n",
       "        <div>\n",
       "            <p><b>SparkContext</b></p>\n",
       "\n",
       "            <p><a href=\"http://192.168.1.37:4040\">Spark UI</a></p>\n",
       "\n",
       "            <dl>\n",
       "              <dt>Version</dt>\n",
       "                <dd><code>v3.4.1</code></dd>\n",
       "              <dt>Master</dt>\n",
       "                <dd><code>local</code></dd>\n",
       "              <dt>AppName</dt>\n",
       "                <dd><code>demo</code></dd>\n",
       "            </dl>\n",
       "        </div>\n",
       "        \n",
       "            </div>\n",
       "        "
      ],
      "text/plain": [
       "<pyspark.sql.session.SparkSession at 0x7fbf4a9b76d0>"
      ]
     },
     "execution_count": 9,
     "metadata": {},
     "output_type": "execute_result"
    }
   ],
   "source": [
    "spark"
   ]
  },
  {
   "cell_type": "code",
   "execution_count": 23,
   "metadata": {},
   "outputs": [],
   "source": [
    "rows = session.execute('select * from speech_data;')\n",
    "df = pd.DataFrame(list(rows))"
   ]
  },
  {
   "cell_type": "code",
   "execution_count": 24,
   "metadata": {},
   "outputs": [
    {
     "data": {
      "text/html": [
       "<div>\n",
       "<style scoped>\n",
       "    .dataframe tbody tr th:only-of-type {\n",
       "        vertical-align: middle;\n",
       "    }\n",
       "\n",
       "    .dataframe tbody tr th {\n",
       "        vertical-align: top;\n",
       "    }\n",
       "\n",
       "    .dataframe thead th {\n",
       "        text-align: right;\n",
       "    }\n",
       "</style>\n",
       "<table border=\"1\" class=\"dataframe\">\n",
       "  <thead>\n",
       "    <tr style=\"text-align: right;\">\n",
       "      <th></th>\n",
       "      <th>subject_id</th>\n",
       "      <th>apq_11</th>\n",
       "      <th>apq_3</th>\n",
       "      <th>apq_5</th>\n",
       "      <th>jitter_abs</th>\n",
       "      <th>jitter_percent</th>\n",
       "      <th>ppq</th>\n",
       "      <th>rap</th>\n",
       "      <th>status</th>\n",
       "    </tr>\n",
       "  </thead>\n",
       "  <tbody>\n",
       "    <tr>\n",
       "      <th>0</th>\n",
       "      <td>phon_R01_S10_3</td>\n",
       "      <td>0.010330</td>\n",
       "      <td>0.007770</td>\n",
       "      <td>0.008980</td>\n",
       "      <td>0.000009</td>\n",
       "      <td>0.00210</td>\n",
       "      <td>0.00137</td>\n",
       "      <td>0.001090</td>\n",
       "      <td>0</td>\n",
       "    </tr>\n",
       "    <tr>\n",
       "      <th>1</th>\n",
       "      <td>phon_R01_S32_2</td>\n",
       "      <td>0.009030</td>\n",
       "      <td>0.004760</td>\n",
       "      <td>0.005880</td>\n",
       "      <td>0.000020</td>\n",
       "      <td>0.00270</td>\n",
       "      <td>0.00135</td>\n",
       "      <td>0.001160</td>\n",
       "      <td>1</td>\n",
       "    </tr>\n",
       "    <tr>\n",
       "      <th>2</th>\n",
       "      <td>CONT-11</td>\n",
       "      <td>0.039913</td>\n",
       "      <td>0.030384</td>\n",
       "      <td>0.035978</td>\n",
       "      <td>0.000043</td>\n",
       "      <td>0.53133</td>\n",
       "      <td>0.00332</td>\n",
       "      <td>0.002693</td>\n",
       "      <td>0</td>\n",
       "    </tr>\n",
       "    <tr>\n",
       "      <th>3</th>\n",
       "      <td>0.000157842</td>\n",
       "      <td>0.819181</td>\n",
       "      <td>18.808001</td>\n",
       "      <td>19.973000</td>\n",
       "      <td>0.779000</td>\n",
       "      <td>0.58300</td>\n",
       "      <td>13.00200</td>\n",
       "      <td>1.750000</td>\n",
       "      <td>1</td>\n",
       "    </tr>\n",
       "    <tr>\n",
       "      <th>4</th>\n",
       "      <td>9.8239e-05</td>\n",
       "      <td>0.887069</td>\n",
       "      <td>11.811000</td>\n",
       "      <td>12.712000</td>\n",
       "      <td>0.768000</td>\n",
       "      <td>0.74200</td>\n",
       "      <td>11.45500</td>\n",
       "      <td>2.226000</td>\n",
       "      <td>1</td>\n",
       "    </tr>\n",
       "  </tbody>\n",
       "</table>\n",
       "</div>"
      ],
      "text/plain": [
       "       subject_id    apq_11      apq_3      apq_5  jitter_abs  jitter_percent  \\\n",
       "0  phon_R01_S10_3  0.010330   0.007770   0.008980    0.000009         0.00210   \n",
       "1  phon_R01_S32_2  0.009030   0.004760   0.005880    0.000020         0.00270   \n",
       "2         CONT-11  0.039913   0.030384   0.035978    0.000043         0.53133   \n",
       "3     0.000157842  0.819181  18.808001  19.973000    0.779000         0.58300   \n",
       "4      9.8239e-05  0.887069  11.811000  12.712000    0.768000         0.74200   \n",
       "\n",
       "        ppq       rap  status  \n",
       "0   0.00137  0.001090       0  \n",
       "1   0.00135  0.001160       1  \n",
       "2   0.00332  0.002693       0  \n",
       "3  13.00200  1.750000       1  \n",
       "4  11.45500  2.226000       1  "
      ]
     },
     "execution_count": 24,
     "metadata": {},
     "output_type": "execute_result"
    }
   ],
   "source": [
    "df.head()"
   ]
  },
  {
   "cell_type": "code",
   "execution_count": 26,
   "metadata": {},
   "outputs": [
    {
     "name": "stdout",
     "output_type": "stream",
     "text": [
      "Table Speech Data Row Count: \n",
      "1713\n"
     ]
    }
   ],
   "source": [
    "print(\"Table Speech Data Row Count: \")\n",
    "print(len(df))"
   ]
  },
  {
   "cell_type": "code",
   "execution_count": 33,
   "metadata": {},
   "outputs": [
    {
     "name": "stdout",
     "output_type": "stream",
     "text": [
      "root\n",
      " |-- subject_id: string (nullable = true)\n",
      " |-- apq_11: double (nullable = true)\n",
      " |-- apq_3: double (nullable = true)\n",
      " |-- apq_5: double (nullable = true)\n",
      " |-- jitter_abs: double (nullable = true)\n",
      " |-- jitter_percent: double (nullable = true)\n",
      " |-- ppq: double (nullable = true)\n",
      " |-- rap: double (nullable = true)\n",
      " |-- status: long (nullable = true)\n",
      "\n",
      "+--------------+--------------------+--------------------+--------------------+--------------------+--------------------+--------------------+--------------------+------+\n",
      "|    subject_id|              apq_11|               apq_3|               apq_5|          jitter_abs|      jitter_percent|                 ppq|                 rap|status|\n",
      "+--------------+--------------------+--------------------+--------------------+--------------------+--------------------+--------------------+--------------------+------+\n",
      "|phon_R01_S10_3|0.010329999960958958|0.007770000025629997|0.008980000391602516|9.000000318337698E-6|0.002099999925121665|0.001369999954476...|0.001090000034309...|     0|\n",
      "|phon_R01_S32_2|0.009030000306665897|0.004759999923408...|0.005880000069737434|1.999999949475750...|0.002700000070035...|0.001350000035017...|0.001159999985247...|     1|\n",
      "|       CONT-11| 0.03991299867630005| 0.03038400039076805| 0.03597800061106682|4.326300040702335...|  0.5313299894332886|0.003319700015708804|0.002693000016734004|     0|\n",
      "|   0.000157842|  0.8191810250282288|  18.808000564575195|  19.972999572753906|  0.7789999842643738|  0.5830000042915344|  13.001999855041504|                1.75|     1|\n",
      "|    9.8239e-05|  0.8870689868927002|  11.810999870300293|  12.711999893188477|  0.7680000066757202|  0.7419999837875366|  11.454999923706055|  2.2260000705718994|     1|\n",
      "|   0.000274444|  0.8325780034065247|   8.017999649047852|   20.63800048828125|   2.121000051498413|   2.734999895095825|  12.357999801635742|   8.204999923706055|     0|\n",
      "|         0.119|  1.4819999933242798|  0.5849999785423279|  0.8579999804496765|0.054999999701976776|5.400000191002618...| 0.16500000655651093| 0.06199999898672104|     1|\n",
      "|   0.000271549|  0.7844079732894897|   7.539000034332275|   13.61299991607666|  0.7910000085830688|  0.9980000257492065|   8.038000106811523|   2.993000030517578|     1|\n",
      "|           151| 0.08308999985456467|0.048659998923540115| 0.05778999999165535|9.549999958835542E-5|0.008700000122189522|0.005330000072717667|0.003289999905973673|     1|\n",
      "|    0.00010372|  0.8536990284919739|  15.329000473022461|   19.09600067138672|  1.2430000305175781|  1.2259999513626099|  16.344999313354492|   3.677999973297119|     1|\n",
      "|   0.000110648|  0.6783589720726013|  13.706000328063965|   37.26300048828125|  0.6990000009536743|  0.9509999752044678|    21.9950008392334|  2.8529999256134033|     0|\n",
      "|   0.000117389|  0.6370519995689392|  13.342000007629395|   38.54399871826172|  0.9210000038146973|  0.9549999833106995|  22.509000778198242|   2.865000009536743|     0|\n",
      "|phon_R01_S06_2| 0.03779999911785126|0.017319999635219574|0.022450000047683716|5.999999848427251E-5|0.006329999770969...|0.003749999916180...|0.003160000080242753|     1|\n",
      "|phon_R01_S04_1| 0.01140000019222498|0.006560000125318766|0.007170000113546848|1.999999949475750...|0.002929999958723...|0.001530000008642...|0.001180000021122396|     1|\n",
      "|     6.495e-06|  0.9979040026664734|   1.281999945640564|  1.4880000352859497| 0.08100000023841858| 0.08799999952316284|   1.184999942779541| 0.26499998569488525|     0|\n",
      "|   0.000116073|  0.8263689875602722|  13.277999877929688|  16.047000885009766|  1.5219999551773071|  1.0779999494552612|  11.329999923706055|   3.234999895095825|     0|\n",
      "|         0.273|   3.740000009536743|  2.3940000534057617|  3.0409998893737793| 0.13899999856948853|1.109999993786914...|  0.4180000126361847|  0.1679999977350235|     1|\n",
      "|   0.000142177|  0.8826259970664978|  10.220999717712402|   9.628999710083008|  1.8890000581741333|  1.6480000019073486|   10.26200008392334|   4.943999767303467|     1|\n",
      "|   0.000102513|  0.8397150039672852|   5.889999866485596|  12.767999649047852|  0.5770000219345093|  0.7860000133514404|   8.885000228881836|  2.3570001125335693|     1|\n",
      "|   0.000156096|  0.8718169927597046|  20.354000091552734|  18.586999893188477|  0.9660000205039978|  0.8069999814033508|   14.85200023651123|   2.421999931335449|     0|\n",
      "+--------------+--------------------+--------------------+--------------------+--------------------+--------------------+--------------------+--------------------+------+\n",
      "only showing top 20 rows\n",
      "\n"
     ]
    }
   ],
   "source": [
    "#Create PySpark DataFrame from Pandas\n",
    "sparkDF=spark.createDataFrame(df) \n",
    "sparkDF.printSchema()\n",
    "sparkDF.show()"
   ]
  },
  {
   "cell_type": "markdown",
   "metadata": {},
   "source": [
    "#### Create Vector with all elements of the speech data "
   ]
  },
  {
   "cell_type": "code",
   "execution_count": 35,
   "metadata": {},
   "outputs": [
    {
     "data": {
      "text/plain": [
       "[Row(subject_id='phon_R01_S10_3', apq_11=0.010329999960958958, apq_3=0.007770000025629997, apq_5=0.008980000391602516, jitter_abs=9.000000318337698e-06, jitter_percent=0.002099999925121665, ppq=0.0013699999544769526, rap=0.0010900000343099236, status=0, features=DenseVector([0.0021, 0.0, 0.0011, 0.0014, 0.0078, 0.009, 0.0103]), label=1.0),\n",
       " Row(subject_id='phon_R01_S32_2', apq_11=0.009030000306665897, apq_3=0.0047599999234080315, apq_5=0.005880000069737434, jitter_abs=1.9999999494757503e-05, jitter_percent=0.0027000000700354576, ppq=0.0013500000350177288, rap=0.0011599999852478504, status=1, features=DenseVector([0.0027, 0.0, 0.0012, 0.0014, 0.0048, 0.0059, 0.009]), label=0.0),\n",
       " Row(subject_id='CONT-11', apq_11=0.03991299867630005, apq_3=0.03038400039076805, apq_5=0.03597800061106682, jitter_abs=4.3263000407023355e-05, jitter_percent=0.5313299894332886, ppq=0.003319700015708804, rap=0.002693000016734004, status=0, features=DenseVector([0.5313, 0.0, 0.0027, 0.0033, 0.0304, 0.036, 0.0399]), label=1.0),\n",
       " Row(subject_id='0.000157842', apq_11=0.8191810250282288, apq_3=18.808000564575195, apq_5=19.972999572753906, jitter_abs=0.7789999842643738, jitter_percent=0.5830000042915344, ppq=13.001999855041504, rap=1.75, status=1, features=DenseVector([0.583, 0.779, 1.75, 13.002, 18.808, 19.973, 0.8192]), label=0.0),\n",
       " Row(subject_id='9.8239e-05', apq_11=0.8870689868927002, apq_3=11.810999870300293, apq_5=12.711999893188477, jitter_abs=0.7680000066757202, jitter_percent=0.7419999837875366, ppq=11.454999923706055, rap=2.2260000705718994, status=1, features=DenseVector([0.742, 0.768, 2.226, 11.455, 11.811, 12.712, 0.8871]), label=0.0)]"
      ]
     },
     "metadata": {},
     "output_type": "display_data"
    },
    {
     "name": "stdout",
     "output_type": "stream",
     "text": [
      "1713\n"
     ]
    }
   ],
   "source": [
    "assembler = VectorAssembler(\n",
    "    inputCols=['jitter_percent', 'jitter_abs', 'rap', 'ppq', 'apq_3', 'apq_5', 'apq_11'],\n",
    "    outputCol='features')\n",
    "\n",
    "trainingData = assembler.transform(sparkDF)\n",
    "\n",
    "labelIndexer = StringIndexer(inputCol=\"status\", outputCol=\"label\", handleInvalid='keep')\n",
    "trainingData1 = labelIndexer.fit(trainingData).transform(trainingData)\n",
    "\n",
    "showDF(trainingData1)\n",
    "print(trainingData1.count())"
   ]
  },
  {
   "cell_type": "code",
   "execution_count": 44,
   "metadata": {},
   "outputs": [],
   "source": [
    "# Helper for pretty formatting for Spark DataFrames\n",
    "def showDF(df, limitRows =  5, truncate = True):\n",
    "    if(truncate):\n",
    "        pd.set_option('display.max_colwidth', 50)\n",
    "    else:\n",
    "        pd.set_option('display.max_colwidth', -1)\n",
    "    pd.set_option('display.max_rows', limitRows)\n",
    "    display(df.limit(limitRows).toPandas())\n",
    "    pd.reset_option('display.max_rows')"
   ]
  },
  {
   "cell_type": "markdown",
   "metadata": {},
   "source": [
    "### We will be training a model with Random Forest, and because of this we need to split up our dataset in to a training and test set. Will split 80/20. \n",
    "\n",
    "## TODO: To split data based on the train and test sets already determined."
   ]
  },
  {
   "cell_type": "code",
   "execution_count": 45,
   "metadata": {},
   "outputs": [
    {
     "name": "stdout",
     "output_type": "stream",
     "text": [
      "Train Dataframe Row Count: \n",
      "1376\n",
      "Test Datafram Row Count: \n",
      "337\n"
     ]
    }
   ],
   "source": [
    "# Split the data into train and test\n",
    "splits = trainingData1.randomSplit([0.8, 0.2], 1234)\n",
    "train = splits[0]\n",
    "test = splits[1]\n",
    "\n",
    "print (\"Train Dataframe Row Count: \")\n",
    "print (train.count())\n",
    "print (\"Test Datafram Row Count: \")\n",
    "print (test.count())"
   ]
  },
  {
   "cell_type": "code",
   "execution_count": 38,
   "metadata": {},
   "outputs": [
    {
     "name": "stdout",
     "output_type": "stream",
     "text": [
      "337\n"
     ]
    },
    {
     "data": {
      "text/plain": [
       "[Row(subject_id='0.000100405', apq_11=0.9120830297470093, apq_3=11.600000381469727, apq_5=10.295999526977539, jitter_abs=0.5130000114440918, jitter_percent=0.37700000405311584, ppq=9.812000274658203, rap=1.1319999694824219, status=0, features=DenseVector([0.377, 0.513, 1.132, 9.812, 11.6, 10.296, 0.9121]), label=1.0, rawPrediction=DenseVector([4.9465, 5.0535, 0.0]), probability=DenseVector([0.4946, 0.5054, 0.0]), prediction=1.0),\n",
       " Row(subject_id='0.000100506', apq_11=0.89239102602005, apq_3=4.0970001220703125, apq_5=4.559999942779541, jitter_abs=0.8949999809265137, jitter_percent=1.027999997138977, ppq=4.96999979019165, rap=3.0840001106262207, status=0, features=DenseVector([1.028, 0.895, 3.084, 4.97, 4.097, 4.56, 0.8924]), label=1.0, rawPrediction=DenseVector([5.0439, 4.9561, 0.0]), probability=DenseVector([0.5044, 0.4956, 0.0]), prediction=0.0),\n",
       " Row(subject_id='0.000103653', apq_11=0.7939450144767761, apq_3=2.811000108718872, apq_5=12.038000106811523, jitter_abs=0.2669999897480011, jitter_percent=0.2290000021457672, ppq=7.683000087738037, rap=0.6880000233650208, status=0, features=DenseVector([0.229, 0.267, 0.688, 7.683, 2.811, 12.038, 0.7939]), label=1.0, rawPrediction=DenseVector([4.1954, 5.8046, 0.0]), probability=DenseVector([0.4195, 0.5805, 0.0]), prediction=1.0),\n",
       " Row(subject_id='0.00010372', apq_11=0.8536990284919739, apq_3=15.329000473022461, apq_5=19.09600067138672, jitter_abs=1.2430000305175781, jitter_percent=1.2259999513626099, ppq=16.344999313354492, rap=3.677999973297119, status=1, features=DenseVector([1.226, 1.243, 3.678, 16.345, 15.329, 19.096, 0.8537]), label=0.0, rawPrediction=DenseVector([5.0042, 4.9958, 0.0]), probability=DenseVector([0.5004, 0.4996, 0.0]), prediction=0.0),\n",
       " Row(subject_id='0.000103921', apq_11=0.8660209774971008, apq_3=10.937000274658203, apq_5=14.883000373840332, jitter_abs=0.9900000095367432, jitter_percent=0.8889999985694885, ppq=10.684000015258789, rap=2.6679999828338623, status=0, features=DenseVector([0.889, 0.99, 2.668, 10.684, 10.937, 14.883, 0.866]), label=1.0, rawPrediction=DenseVector([4.8104, 5.1896, 0.0]), probability=DenseVector([0.481, 0.519, 0.0]), prediction=1.0)]"
      ]
     },
     "metadata": {},
     "output_type": "display_data"
    }
   ],
   "source": [
    "rf = RandomForestClassifier(labelCol=\"label\", featuresCol=\"features\", numTrees=10)\n",
    "\n",
    "model = rf.fit(train)\n",
    "\n",
    "predictions = model.transform(test)\n",
    "#predictions.show()\n",
    "print (predictions.count())\n",
    "showDF(predictions)"
   ]
  },
  {
   "cell_type": "code",
   "execution_count": 46,
   "metadata": {},
   "outputs": [
    {
     "data": {
      "text/html": [
       "<div>\n",
       "<style scoped>\n",
       "    .dataframe tbody tr th:only-of-type {\n",
       "        vertical-align: middle;\n",
       "    }\n",
       "\n",
       "    .dataframe tbody tr th {\n",
       "        vertical-align: top;\n",
       "    }\n",
       "\n",
       "    .dataframe thead th {\n",
       "        text-align: right;\n",
       "    }\n",
       "</style>\n",
       "<table border=\"1\" class=\"dataframe\">\n",
       "  <thead>\n",
       "    <tr style=\"text-align: right;\">\n",
       "      <th></th>\n",
       "      <th>status</th>\n",
       "      <th>label</th>\n",
       "      <th>prediction</th>\n",
       "      <th>probability</th>\n",
       "    </tr>\n",
       "  </thead>\n",
       "  <tbody>\n",
       "    <tr>\n",
       "      <th>0</th>\n",
       "      <td>0</td>\n",
       "      <td>1.0</td>\n",
       "      <td>1.0</td>\n",
       "      <td>[0.49464777884629807, 0.5053522211537019, 0.0]</td>\n",
       "    </tr>\n",
       "    <tr>\n",
       "      <th>1</th>\n",
       "      <td>0</td>\n",
       "      <td>1.0</td>\n",
       "      <td>0.0</td>\n",
       "      <td>[0.5043893602082486, 0.49561063979175135, 0.0]</td>\n",
       "    </tr>\n",
       "    <tr>\n",
       "      <th>2</th>\n",
       "      <td>0</td>\n",
       "      <td>1.0</td>\n",
       "      <td>1.0</td>\n",
       "      <td>[0.4195383364911304, 0.5804616635088695, 0.0]</td>\n",
       "    </tr>\n",
       "    <tr>\n",
       "      <th>3</th>\n",
       "      <td>1</td>\n",
       "      <td>0.0</td>\n",
       "      <td>0.0</td>\n",
       "      <td>[0.5004198185259635, 0.4995801814740365, 0.0]</td>\n",
       "    </tr>\n",
       "    <tr>\n",
       "      <th>4</th>\n",
       "      <td>0</td>\n",
       "      <td>1.0</td>\n",
       "      <td>1.0</td>\n",
       "      <td>[0.48103877113003507, 0.5189612288699649, 0.0]</td>\n",
       "    </tr>\n",
       "  </tbody>\n",
       "</table>\n",
       "</div>"
      ],
      "text/plain": [
       "   status  label  prediction                                     probability\n",
       "0       0    1.0         1.0  [0.49464777884629807, 0.5053522211537019, 0.0]\n",
       "1       0    1.0         0.0  [0.5043893602082486, 0.49561063979175135, 0.0]\n",
       "2       0    1.0         1.0   [0.4195383364911304, 0.5804616635088695, 0.0]\n",
       "3       1    0.0         0.0   [0.5004198185259635, 0.4995801814740365, 0.0]\n",
       "4       0    1.0         1.0  [0.48103877113003507, 0.5189612288699649, 0.0]"
      ]
     },
     "metadata": {},
     "output_type": "display_data"
    }
   ],
   "source": [
    "showDF(predictions.select(\"status\", \"label\", \"prediction\", \"probability\"))"
   ]
  },
  {
   "cell_type": "markdown",
   "metadata": {},
   "source": [
    "### We can now use the MulticlassClassificationEvaluator to evalute the accuracy of our predictions. "
   ]
  },
  {
   "cell_type": "code",
   "execution_count": 64,
   "metadata": {},
   "outputs": [
    {
     "name": "stdout",
     "output_type": "stream",
     "text": [
      "Test set accuracy = 0.709\n",
      "Test set weighted precision = 0.706\n",
      "Test set weighted recall = 0.709\n",
      "Test set weighted true positive rate = 0.709\n",
      "Test set weighted false positive rate = 0.709\n",
      "Test set weighted F-measure = 0.707\n"
     ]
    }
   ],
   "source": [
    "# compute key evaluation metrics on the test set, i.e., accuracy, \n",
    "# weightedPrecision, weightedRecall, weightedTruePositiveRate, \n",
    "# weightedFalsePositiveRate, weightedFMeasure\n",
    "\n",
    "precision_vals = 3\n",
    "\n",
    "accuracy_evaluator = MulticlassClassificationEvaluator(labelCol=\"label\", predictionCol=\"prediction\",\n",
    "                                              metricName=\"accuracy\")\n",
    "accuracy = accuracy_evaluator.evaluate(predictions)\n",
    "print(\"Test set accuracy = \" + str(round(accuracy, precision_vals)))\n",
    "\n",
    "weighted_precision_evaluator = MulticlassClassificationEvaluator(labelCol=\"label\", predictionCol=\"prediction\",\n",
    "                                              metricName=\"weightedPrecision\")\n",
    "weighted_precision = weighted_precision_evaluator.evaluate(predictions)\n",
    "print(\"Test set weighted precision = \" + str(round(weighted_precision, precision_vals)))\n",
    "\n",
    "weighted_recall_evaluator = MulticlassClassificationEvaluator(labelCol=\"label\", predictionCol=\"prediction\",\n",
    "                                              metricName=\"weightedRecall\")\n",
    "weighted_recall = weighted_recall_evaluator.evaluate(predictions)\n",
    "print(\"Test set weighted recall = \" + str(round(weighted_recall, precision_vals)))\n",
    "\n",
    "weighted_tpr_evaluator = MulticlassClassificationEvaluator(labelCol=\"label\", predictionCol=\"prediction\",\n",
    "                                              metricName=\"weightedTruePositiveRate\")\n",
    "weighted_tpr = weighted_tpr_evaluator.evaluate(predictions)\n",
    "print(\"Test set weighted true positive rate = \" + str(round(weighted_tpr, precision_vals)))\n",
    "\n",
    "weighted_fpr_evaluator = MulticlassClassificationEvaluator(labelCol=\"label\", predictionCol=\"prediction\",\n",
    "                                              metricName=\"weightedFalsePositiveRate\")\n",
    "weighted_fpr = weighted_tpr_evaluator.evaluate(predictions)\n",
    "print(\"Test set weighted false positive rate = \" + str(round(weighted_fpr, precision_vals)))\n",
    "\n",
    "weighted_f_measure_evaluator = MulticlassClassificationEvaluator(labelCol=\"label\", predictionCol=\"prediction\",\n",
    "                                              metricName=\"weightedFMeasure\")\n",
    "weighted_f_measure = weighted_f_measure_evaluator.evaluate(predictions)\n",
    "print(\"Test set weighted F-measure = \" + str(round(weighted_f_measure, precision_vals)))"
   ]
  },
  {
   "cell_type": "code",
   "execution_count": null,
   "metadata": {
    "scrolled": true
   },
   "outputs": [],
   "source": [
    "session.execute(\"\"\"drop table speech_data\"\"\")"
   ]
  }
 ],
 "metadata": {
  "kernelspec": {
   "display_name": "vs-l-pd-detector",
   "language": "python",
   "name": "vs-l-pd-detector"
  },
  "language_info": {
   "codemirror_mode": {
    "name": "ipython",
    "version": 3
   },
   "file_extension": ".py",
   "mimetype": "text/x-python",
   "name": "python",
   "nbconvert_exporter": "python",
   "pygments_lexer": "ipython3",
   "version": "3.8.8"
  }
 },
 "nbformat": 4,
 "nbformat_minor": 4
}
